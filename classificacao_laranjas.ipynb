{
  "cells": [
    {
      "cell_type": "markdown",
      "metadata": {
        "id": "view-in-github",
        "colab_type": "text"
      },
      "source": [
        "<a href=\"https://colab.research.google.com/github/MichelyTamessawa/classificacao-laranja/blob/master/classificacao_laranjas.ipynb\" target=\"_parent\"><img src=\"https://colab.research.google.com/assets/colab-badge.svg\" alt=\"Open In Colab\"/></a>"
      ]
    },
    {
      "cell_type": "code",
      "execution_count": null,
      "metadata": {
        "id": "trxXTgVS2m9M"
      },
      "outputs": [],
      "source": [
        "import pandas as pd\n",
        "from sklearn.neighbors import KNeighborsClassifier\n",
        "from sklearn.ensemble import RandomForestClassifier\n",
        "from sklearn.svm import SVC\n",
        "from sklearn.model_selection import GridSearchCV, train_test_split\n",
        "from sklearn.metrics import accuracy_score, classification_report\n",
        "from sklearn.preprocessing import MinMaxScaler"
      ]
    },
    {
      "cell_type": "markdown",
      "metadata": {
        "id": "dAfj6ssg3vRm"
      },
      "source": [
        "# **Leitura do Dataset**"
      ]
    },
    {
      "cell_type": "code",
      "execution_count": null,
      "metadata": {
        "id": "q9V2jC1Kf0f4"
      },
      "outputs": [],
      "source": [
        "def leitura(diretorio):\n",
        "  siglas_laranjas = [\"B\", \"C\", \"D\", \"P\", \"V\"]\n",
        "  classes_laranjas = [\"Boa\", \"Casca Grossa\", \"Dano Praga\", \"Podre\", \"Verde\"]\n",
        "  caminho_drive = \"/content/drive/MyDrive/4 ano/tcc/classificação de laranjas/\"\n",
        "\n",
        "  # inicialização dos objetos do tipo DataFrame que vão armazenar os dados da base de dados\n",
        "  boa = pd.DataFrame()\n",
        "  casca_grossa = pd.DataFrame()\n",
        "  dano_praga = pd.DataFrame()\n",
        "  podre = pd.DataFrame()\n",
        "  verde = pd.DataFrame()\n",
        "\n",
        "  for i, classe in enumerate(classes_laranjas):\n",
        "    for j in range(1, 11):\n",
        "\n",
        "      # caminho de diretórios até o arquivo da base  \n",
        "      caminho = caminho_drive + diretorio + classe + \"/Fold \" + str(j) + siglas_laranjas[i] + \".csv\"\n",
        "      \n",
        "      # leiturclassea de uma linha do arquivo \n",
        "      linha = pd.read_csv(caminho)\n",
        "      \n",
        "      # a linha que foi lida é adicionada ao DataFrame da sua classe\n",
        "      if classe == \"Boa\":\n",
        "          boa = pd.concat([boa, linha],ignore_index=True)\n",
        "      elif classe == \"Casca Grossa\":\n",
        "          casca_grossa = pd.concat([casca_grossa, linha],ignore_index=True)\n",
        "      elif classe == \"Dano Praga\":\n",
        "          dano_praga = pd.concat([dano_praga, linha],ignore_index=True)\n",
        "      elif classe == \"Podre\":\n",
        "          podre = pd.concat([podre, linha],ignore_index=True)\n",
        "      elif classe == \"Verde\":\n",
        "          verde = pd.concat([verde, linha],ignore_index=True)\n",
        "  \n",
        "  return boa, casca_grossa, dano_praga, podre, verde"
      ]
    },
    {
      "cell_type": "markdown",
      "metadata": {
        "id": "Hx-yiNOzNREL"
      },
      "source": [
        "# **Classificação Multiclasses**"
      ]
    },
    {
      "cell_type": "code",
      "execution_count": null,
      "metadata": {
        "id": "K_CfhOohNT8_"
      },
      "outputs": [],
      "source": [
        "def todos_vs_todos(boa, casca_grossa, dano_praga, podre, verde):\n",
        "  df = pd.concat([boa, casca_grossa, dano_praga, podre, verde], axis=0, ignore_index=True)\n",
        "  \n",
        "  X = df.drop(\"class\", axis=1)\n",
        "  y = df[\"class\"]\n",
        "  \n",
        "  x_train, x_test, y_train, y_test = train_test_split(X, y, test_size=0.2,random_state=42)\n",
        "  \n",
        "  return x_train, x_test, y_train, y_test"
      ]
    },
    {
      "cell_type": "markdown",
      "source": [
        "# **Classificação Binária: (Um-vs-Todos)**"
      ],
      "metadata": {
        "id": "s3s-o89J6JYO"
      }
    },
    {
      "cell_type": "markdown",
      "metadata": {
        "id": "4803uudvAK5b"
      },
      "source": [
        "## Divisão de inteiros por 4"
      ]
    },
    {
      "cell_type": "code",
      "execution_count": null,
      "metadata": {
        "id": "CO9_20cT5i9W"
      },
      "outputs": [],
      "source": [
        "def divide_quatro_partes(num):\n",
        "  resto = num % 4\n",
        "\n",
        "  if resto == 0:\n",
        "      return [num//4, num//4, num//4, num//4]\n",
        "  elif resto == 3:\n",
        "      return [num//4+1, num//4+1, num//4+1, num//4]\n",
        "  elif resto == 2:\n",
        "      return [num//4+1, num//4+1, num//4, num//4]\n",
        "  elif resto == 1:\n",
        "      return [num//4+1, num//4, num//4, num//4]"
      ]
    },
    {
      "cell_type": "markdown",
      "metadata": {
        "id": "g8ZTX7xfayVm"
      },
      "source": [
        "## Divisão de inteiros por 3"
      ]
    },
    {
      "cell_type": "code",
      "execution_count": null,
      "metadata": {
        "id": "AbFHlzGJa4k3"
      },
      "outputs": [],
      "source": [
        "def divide_tres_partes(num):\n",
        "    resto = num % 3\n",
        "\n",
        "    if resto == 0:\n",
        "        return [num//3, num//3, num//3]\n",
        "    elif resto == 2:\n",
        "        return [num//3+1, num//3+1, num//3]\n",
        "    elif resto == 1:\n",
        "        return [num//3+1, num//3, num//3]"
      ]
    },
    {
      "cell_type": "markdown",
      "metadata": {
        "id": "RUWUVzZUAU_R"
      },
      "source": [
        "## Balanceamento das classes"
      ]
    },
    {
      "cell_type": "code",
      "execution_count": null,
      "metadata": {
        "id": "72X4LVmT3KlX"
      },
      "outputs": [],
      "source": [
        "def boa_vs_todos(boa, casca_grossa, dano_praga, podre, verde):\n",
        "  n_classe  = boa.shape[0]\n",
        "  divisao_classes = divide_quatro_partes(n_classe)\n",
        "\n",
        "  c = casca_grossa.sample(n=divisao_classes[0],random_state=1)\n",
        "  d = dano_praga.sample(n=divisao_classes[1],random_state=1)\n",
        "  p = podre.sample(n=divisao_classes[2],random_state=1)\n",
        "  v = verde.sample(n=divisao_classes[3],random_state=1)\n",
        "\n",
        "  df = pd.concat([boa, c, d, p, v], axis=0, ignore_index=True)\n",
        "  df[\"class\"].replace({2:1, 3:1, 4:1}, inplace=True)\n",
        "\n",
        "  X = df.drop(\"class\", axis=1)\n",
        "  y = df[\"class\"]\n",
        "\n",
        "  x_train, x_test, y_train, y_test = train_test_split(X, y, test_size=0.2,random_state=42)\n",
        "  \n",
        "  return x_train, x_test, y_train, y_test\n",
        "\n",
        "\n",
        "def casca_grossa_vs_todos(boa, casca_grossa, dano_praga, podre, verde):\n",
        "  n_classe  = casca_grossa.shape[0]\n",
        "  divisao_classes = divide_quatro_partes(n_classe)\n",
        "\n",
        "  b = boa.sample(n=divisao_classes[0],random_state=1)\n",
        "  d = dano_praga.sample(n=divisao_classes[1],random_state=1)\n",
        "  p = podre.sample(n=divisao_classes[2],random_state=1)\n",
        "  v = verde.sample(n=divisao_classes[3],random_state=1)\n",
        "  \n",
        "  df = pd.concat([casca_grossa, b, d, p, v], axis=0, ignore_index=True)\n",
        "  df[\"class\"].replace({0:1, 1:0, 2:1, 3:1, 4:1}, inplace=True)\n",
        "  \n",
        "  X = df.drop(\"class\", axis=1)\n",
        "  y = df[\"class\"]\n",
        "\n",
        "  x_train, x_test, y_train, y_test = train_test_split(X, y, test_size=0.2,random_state=42)\n",
        "  \n",
        "  return x_train, x_test, y_train, y_test\n",
        "\n",
        "\n",
        "def dano_praga_vs_todos(boa, casca_grossa, dano_praga, podre, verde):\n",
        "  n_classe  = dano_praga.shape[0]\n",
        "  divisao_classes = divide_quatro_partes(n_classe)\n",
        "\n",
        "  b = boa.sample(n=divisao_classes[0],random_state=1)\n",
        "  c = casca_grossa.sample(n=divisao_classes[1],random_state=1)\n",
        "  p = podre.sample(n=divisao_classes[2],random_state=1)\n",
        "  v = verde.sample(n=divisao_classes[3],random_state=1)\n",
        "    \n",
        "  df = pd.concat([dano_praga, c, b, p, v], axis=0, ignore_index=True)\n",
        "  df[\"class\"].replace({0:1, 2:0, 3:1, 4:1}, inplace=True)\n",
        "  \n",
        "  X = df.drop(\"class\", axis=1)\n",
        "  y = df[\"class\"]\n",
        "      \n",
        "  x_train, x_test, y_train, y_test = train_test_split(X, y, test_size=0.2,random_state=42)\n",
        "\n",
        "  return x_train, x_test, y_train, y_test\n",
        "\n",
        "\n",
        "def podre_vs_todos(boa, casca_grossa, dano_praga, podre, verde):\n",
        "  n_classe  = podre.shape[0]\n",
        "  divisao_classes = divide_quatro_partes(n_classe)\n",
        "\n",
        "  b = boa.sample(n=divisao_classes[0],random_state=1)\n",
        "  c = casca_grossa.sample(n=divisao_classes[1],random_state=1)\n",
        "  d = dano_praga.sample(n=divisao_classes[2],random_state=1)\n",
        "  v = verde.sample(n=divisao_classes[3],random_state=1)\n",
        "    \n",
        "  df = pd.concat([podre, c, b, d, v], axis=0, ignore_index=True)\n",
        "  df[\"class\"].replace({0:1, 2:1, 3:0, 4:1}, inplace=True)\n",
        "\n",
        "  X = df.drop(\"class\", axis=1)\n",
        "  y = df[\"class\"]\n",
        "      \n",
        "  x_train, x_test, y_train, y_test = train_test_split(X, y, test_size=0.2,random_state=42)\n",
        "\n",
        "  return x_train, x_test, y_train, y_test\n",
        "\n",
        "\n",
        "def verde_vs_todos(boa, casca_grossa, dano_praga, podre, verde):\n",
        "  n_classe  = verde.shape[0]\n",
        "  divisao_classes = divide_quatro_partes(n_classe)\n",
        "\n",
        "  b = boa.sample(n=divisao_classes[0],random_state=1)\n",
        "  c = casca_grossa.sample(n=divisao_classes[1],random_state=1)\n",
        "  d = dano_praga.sample(n=divisao_classes[2],random_state=1)\n",
        "  p = podre.sample(n=divisao_classes[3],random_state=1)\n",
        "\n",
        "  df = pd.concat([verde, c, b, p, d], axis=0, ignore_index=True)\n",
        "  df[\"class\"].replace({0:1, 2:1, 3:1, 4:0}, inplace=True)  \n",
        "\n",
        "  X = df.drop(\"class\", axis=1)\n",
        "  y = df[\"class\"]\n",
        "\n",
        "  x_train, x_test, y_train, y_test = train_test_split(X, y, test_size=0.2,random_state=42)\n",
        "\n",
        "  return x_train, x_test, y_train, y_test"
      ]
    },
    {
      "cell_type": "markdown",
      "metadata": {
        "id": "bVJbxzUobITv"
      },
      "source": [
        "## Balanceamento das classes removendo a Verde (RV)"
      ]
    },
    {
      "cell_type": "code",
      "execution_count": null,
      "metadata": {
        "id": "zTgRxDmJbMy_"
      },
      "outputs": [],
      "source": [
        "def boa_vs_todosRV(boa, casca_grossa, dano_praga, podre):\n",
        "  n_classe  = boa.shape[0]\n",
        "  divisao_classes = divide_tres_partes(n_classe)\n",
        "\n",
        "  c = casca_grossa.sample(n=divisao_classes[0],random_state=1)\n",
        "  d = dano_praga.sample(n=divisao_classes[1],random_state=1)\n",
        "  p = podre.sample(n=divisao_classes[2],random_state=1)\n",
        "\n",
        "  df = pd.concat([boa, c, d, p], axis=0, ignore_index=True)\n",
        "  df[\"class\"].replace({2:1, 3:1}, inplace=True)\n",
        "  \n",
        "  X = df.drop(\"class\", axis=1)\n",
        "  y = df[\"class\"]\n",
        "\n",
        "  x_train, x_test, y_train, y_test = train_test_split(X, y, test_size=0.2,random_state=42)\n",
        "  \n",
        "  return x_train, x_test, y_train, y_test\n",
        "\n",
        "\n",
        "def casca_grossa_vs_todosRV(boa, casca_grossa, dano_praga, podre):\n",
        "  n_classe  = casca_grossa.shape[0]\n",
        "  divisao_classes = divide_tres_partes(n_classe)\n",
        "\n",
        "  b = boa.sample(n=divisao_classes[0],random_state=1)\n",
        "  d = dano_praga.sample(n=divisao_classes[1],random_state=1)\n",
        "  p = podre.sample(n=divisao_classes[2],random_state=1)\n",
        "\n",
        "  df = pd.concat([casca_grossa, b, d, p], axis=0, ignore_index=True)\n",
        "  df[\"class\"].replace({0:1, 1:0, 2:1, 3:1}, inplace=True)\n",
        "  \n",
        "  X = df.drop(\"class\", axis=1)\n",
        "  y = df[\"class\"]\n",
        "\n",
        "  x_train, x_test, y_train, y_test = train_test_split(X, y, test_size=0.2,random_state=42)\n",
        "  \n",
        "  return x_train, x_test, y_train, y_test\n",
        "\n",
        "\n",
        "def dano_praga_vs_todosRV(boa, casca_grossa, dano_praga, podre):\n",
        "  n_classe  = dano_praga.shape[0]\n",
        "  divisao_classes = divide_tres_partes(n_classe)\n",
        "\n",
        "  b = boa.sample(n=divisao_classes[0],random_state=1)\n",
        "  c = casca_grossa.sample(n=divisao_classes[1],random_state=1)\n",
        "  p = podre.sample(n=divisao_classes[2],random_state=1)\n",
        "    \n",
        "  df = pd.concat([dano_praga, c, b, p], axis=0, ignore_index=True)\n",
        "  df[\"class\"].replace({0:1, 2:0, 3:1}, inplace=True)\n",
        "  \n",
        "  X = df.drop(\"class\", axis=1)\n",
        "  y = df[\"class\"]\n",
        "      \n",
        "  x_train, x_test, y_train, y_test = train_test_split(X, y, test_size=0.2,random_state=42)\n",
        "\n",
        "  return x_train, x_test, y_train, y_test\n",
        "\n",
        "\n",
        "def podre_vs_todosRV(boa, casca_grossa, dano_praga, podre):\n",
        "  n_classe  = podre.shape[0]\n",
        "  divisao_classes = divide_tres_partes(n_classe)\n",
        "\n",
        "  b = boa.sample(n=divisao_classes[0],random_state=1)\n",
        "  c = casca_grossa.sample(n=divisao_classes[1],random_state=1)\n",
        "  d = dano_praga.sample(n=divisao_classes[2],random_state=1)\n",
        "      \n",
        "  df = pd.concat([podre, c, b, d], axis=0, ignore_index=True)\n",
        "  df[\"class\"].replace({0:1, 2:1, 3:0}, inplace=True)\n",
        "\n",
        "  X = df.drop(\"class\", axis=1)\n",
        "  y = df[\"class\"]\n",
        "      \n",
        "  x_train, x_test, y_train, y_test = train_test_split(X, y, test_size=0.2,random_state=42)\n",
        "\n",
        "  return x_train, x_test, y_train, y_test"
      ]
    },
    {
      "cell_type": "markdown",
      "metadata": {
        "id": "MLCi2L_1_y4c"
      },
      "source": [
        "# **Classificadores**"
      ]
    },
    {
      "cell_type": "markdown",
      "metadata": {
        "id": "DabWF566D4ju"
      },
      "source": [
        "## K-NN"
      ]
    },
    {
      "cell_type": "code",
      "execution_count": null,
      "metadata": {
        "id": "IfGYSPqZD8hk"
      },
      "outputs": [],
      "source": [
        "def knn_gridsearchcv(x_train, x_test, y_train, y_test, target_names):\n",
        "  # Normalizacao dos dados\n",
        "  scaler = MinMaxScaler()\n",
        "  X_train_scaled = scaler.fit_transform(x_train)\n",
        "  X_test_scaled = scaler.transform(x_test)\n",
        "  \n",
        "  knn = KNeighborsClassifier()\n",
        "  \n",
        "  param_grid = {\n",
        "      'n_neighbors': range(1,30),\n",
        "      'leaf_size': (20,40,1),\n",
        "      'p': (1,2),\n",
        "      'weights': ('uniform', 'distance'),\n",
        "      'metric': ('minkowski', 'chebyshev') }\n",
        "\n",
        "  # Treinamento com gridsearch\n",
        "  grid = GridSearchCV(estimator=knn, param_grid=param_grid, cv=10, refit='True', scoring='accuracy')\n",
        "  grid_search = grid.fit(X_train_scaled, y_train)\n",
        "  print(\"Parametros: {}\".format(grid_search.best_params_))\n",
        "  \n",
        "  # Teste\n",
        "  y_test_result = grid.predict(X_test_scaled)\n",
        "  test_accuracy = accuracy_score(y_test, y_test_result)*100\n",
        "  print(\"Acuracia dos testes: {:.2f}%\".format(test_accuracy))\n",
        "\n",
        "  # Matriz de Confusao\n",
        "  print(\"Matriz de Confusao:\")\n",
        "  print (pd.crosstab(y_test, y_test_result, rownames=['Real'], colnames=['Predito'], margins=True))\n",
        "\n",
        "  # Relatorio de Classificacao \n",
        "  print(\"Relatorio de Classificacao:\")\n",
        "  print(classification_report(y_test, y_test_result, target_names=target_names))"
      ]
    },
    {
      "cell_type": "markdown",
      "metadata": {
        "id": "sQIWmUeaAl8O"
      },
      "source": [
        "## Random Forest"
      ]
    },
    {
      "cell_type": "code",
      "execution_count": null,
      "metadata": {
        "id": "QQmNEefaAlSH"
      },
      "outputs": [],
      "source": [
        "def rf_gridsearchcv(x_train, x_test, y_train, y_test, target_names):\n",
        "  # Normalizacao dos dados\n",
        "  scaler = MinMaxScaler()\n",
        "  X_train_scaled = scaler.fit_transform(x_train)\n",
        "  X_test_scaled = scaler.transform(x_test)\n",
        "\n",
        "  rf = RandomForestClassifier(random_state=0)\n",
        "  \n",
        "  param_grid = {\n",
        "    'max_depth': [10, 50],\n",
        "    'min_samples_leaf': [1,3],\n",
        "    'min_samples_split': [2,5],\n",
        "    'n_estimators': [100, 200]\n",
        "  }\n",
        "\n",
        "  # Treinamento com gridsearch\n",
        "  grid = GridSearchCV(rf, param_grid, cv=10, refit='True', scoring='accuracy')\n",
        "  grid_search = grid.fit(X_train_scaled, y_train)\n",
        "  print(\"Parametros: {}\".format(grid_search.best_params_))\n",
        "\n",
        "  # Teste\n",
        "  y_test_result = grid.predict(X_test_scaled)\n",
        "  test_accuracy = accuracy_score(y_test, y_test_result)*100\n",
        "  print(\"Acuracia dos testes: {:.2f}%\".format(test_accuracy))\n",
        "\n",
        "  # Matriz de Confusao\n",
        "  print(\"Matriz de Confusao:\")\n",
        "  print (pd.crosstab(y_test, y_test_result, rownames=['Real'], colnames=['Predito'], margins=True))\n",
        "\n",
        "  # Relatorio de Classificacao \n",
        "  print(\"Relatorio de Classificacao:\")\n",
        "  print(classification_report(y_test, y_test_result, target_names=target_names))\n"
      ]
    },
    {
      "cell_type": "markdown",
      "metadata": {
        "id": "Urp4Rc1HNncW"
      },
      "source": [
        "## Classificador SVM"
      ]
    },
    {
      "cell_type": "code",
      "execution_count": null,
      "metadata": {
        "id": "iuIMzdu8NrDV"
      },
      "outputs": [],
      "source": [
        "def svm_gridsearchcv(x_train, x_test, y_train, y_test, target_names):\n",
        "  # Normalizacao dos dados\n",
        "  scaler = MinMaxScaler()\n",
        "  X_train_scaled = scaler.fit_transform(x_train)\n",
        "  X_test_scaled = scaler.transform(x_test)\n",
        "\n",
        "  svm = SVC()\n",
        "  \n",
        "  param_grid = [\n",
        "    {\"kernel\": ['rbf'], \"gamma\": [1, 0.1, 0.01, 0.001, 0.0001], \"C\": [0.1, 1, 10, 100, 1000]},\n",
        "    {\"kernel\": [\"linear\"], \"C\": [1, 10, 100, 1000]},\n",
        "  ]\n",
        "              \n",
        "  # Treinamento com gridsearch\n",
        "  grid = GridSearchCV(svm, param_grid, cv=10, refit=True, scoring='accuracy', n_jobs=-1)\n",
        "  grid_search = grid.fit(X_train_scaled, y_train)\n",
        "  print(\"Parametros: {}\".format(grid_search.best_params_))\n",
        "\n",
        "  # Teste\n",
        "  y_test_result = grid.predict(X_test_scaled)\n",
        "  test_accuracy = accuracy_score(y_test, y_test_result)*100\n",
        "  print(\"Acuracia dos testes: {:.2f}%\".format(test_accuracy))\n",
        "\n",
        "  # Matriz de Confusao\n",
        "  print(\"Matriz de Confusao:\")\n",
        "  print (pd.crosstab(y_test, y_test_result, rownames=['Real'], colnames=['Predito'], margins=True))\n",
        "\n",
        "  # Relatorio de Classificacao \n",
        "  print(\"Relatorio de Classificacao:\")\n",
        "  print(classification_report(y_test, y_test_result, target_names=target_names))"
      ]
    },
    {
      "cell_type": "markdown",
      "metadata": {
        "id": "jRc-PzxyzKjV"
      },
      "source": [
        "# **>> Execuções <<**"
      ]
    },
    {
      "cell_type": "markdown",
      "metadata": {
        "id": "rnqW4izvN3ch"
      },
      "source": [
        "# **Multiclasses**"
      ]
    },
    {
      "cell_type": "markdown",
      "source": [
        "## K-NN"
      ],
      "metadata": {
        "id": "W3_PwOL0-_RC"
      }
    },
    {
      "cell_type": "markdown",
      "source": [
        "### Tons de Cinza"
      ],
      "metadata": {
        "id": "pB-Ovtm33aw1"
      }
    },
    {
      "cell_type": "code",
      "execution_count": null,
      "metadata": {
        "id": "6hrZHCsEOpvX",
        "colab": {
          "base_uri": "https://localhost:8080/"
        },
        "outputId": "257edc49-a95e-4803-8f5c-34ccaa55be43"
      },
      "outputs": [
        {
          "output_type": "stream",
          "name": "stdout",
          "text": [
            "Parametros: {'leaf_size': 20, 'metric': 'minkowski', 'n_neighbors': 6, 'p': 1, 'weights': 'distance'}\n",
            "Acuracia dos testes: 71.85%\n",
            "Matriz de Confusao:\n",
            "Predito    0    1    2    3    4   All\n",
            "Real                                  \n",
            "0        333   51   32   35   19   470\n",
            "1         27  343   39   40    5   454\n",
            "2         36   36  331   27   30   460\n",
            "3         40   52   41  277   24   434\n",
            "4         32    9   43   21  347   452\n",
            "All      468  491  486  400  425  2270\n",
            "Relatorio de Classificacao:\n",
            "              precision    recall  f1-score   support\n",
            "\n",
            "           0       0.71      0.71      0.71       470\n",
            "           1       0.70      0.76      0.73       454\n",
            "           2       0.68      0.72      0.70       460\n",
            "           3       0.69      0.64      0.66       434\n",
            "           4       0.82      0.77      0.79       452\n",
            "\n",
            "    accuracy                           0.72      2270\n",
            "   macro avg       0.72      0.72      0.72      2270\n",
            "weighted avg       0.72      0.72      0.72      2270\n",
            "\n"
          ]
        }
      ],
      "source": [
        "  target_names = ['0','1','2','3','4']\n",
        "boa, casca_grossa, dano_praga, podre, verde = leitura(\"greycoprops_cinza/\")\n",
        "x_train, x_test, y_train, y_test = todos_vs_todos(boa, casca_grossa, dano_praga, podre, verde)\n",
        "knn_gridsearchcv(x_train, x_test, y_train, y_test, target_names)"
      ]
    },
    {
      "cell_type": "markdown",
      "source": [
        "### RGB"
      ],
      "metadata": {
        "id": "MV36gkli_Wg2"
      }
    },
    {
      "cell_type": "code",
      "source": [
        "target_names = ['0','1','2','3','4']\n",
        "boa, casca_grossa, dano_praga, podre, verde = leitura(\"greycoprops_colorida/\")\n",
        "x_train, x_test, y_train, y_test = todos_vs_todos(boa, casca_grossa, dano_praga, podre, verde)\n",
        "knn_gridsearchcv(x_train, x_test, y_train, y_test, target_names)"
      ],
      "metadata": {
        "colab": {
          "base_uri": "https://localhost:8080/"
        },
        "id": "OMPorz0o_a5W",
        "outputId": "3591a5c0-060f-43f3-98f7-b429eaa29cde"
      },
      "execution_count": null,
      "outputs": [
        {
          "output_type": "stream",
          "name": "stdout",
          "text": [
            "Parametros: {'leaf_size': 20, 'metric': 'chebyshev', 'n_neighbors': 1, 'p': 1, 'weights': 'uniform'}\n",
            "Acuracia dos testes: 88.15%\n",
            "Matriz de Confusao:\n",
            "Predito    0    1    2    3    4   All\n",
            "Real                                  \n",
            "0        404   18   24   18    6   470\n",
            "1         10  405   12   23    4   454\n",
            "2         18    6  406   29    1   460\n",
            "3         30   24   33  346    1   434\n",
            "4          7    1    2    2  440   452\n",
            "All      469  454  477  418  452  2270\n",
            "Relatorio de Classificacao:\n",
            "              precision    recall  f1-score   support\n",
            "\n",
            "           0       0.86      0.86      0.86       470\n",
            "           1       0.89      0.89      0.89       454\n",
            "           2       0.85      0.88      0.87       460\n",
            "           3       0.83      0.80      0.81       434\n",
            "           4       0.97      0.97      0.97       452\n",
            "\n",
            "    accuracy                           0.88      2270\n",
            "   macro avg       0.88      0.88      0.88      2270\n",
            "weighted avg       0.88      0.88      0.88      2270\n",
            "\n"
          ]
        }
      ]
    },
    {
      "cell_type": "markdown",
      "source": [
        "## RandomForest"
      ],
      "metadata": {
        "id": "hs5p90IU_dU7"
      }
    },
    {
      "cell_type": "markdown",
      "source": [
        "### Tons de Cinza"
      ],
      "metadata": {
        "id": "NXva6oDZ_iUR"
      }
    },
    {
      "cell_type": "code",
      "execution_count": null,
      "metadata": {
        "colab": {
          "base_uri": "https://localhost:8080/"
        },
        "id": "AEJqn8kWUKAh",
        "outputId": "f83dff2c-f4b8-4141-b170-0ae12c4ddf49"
      },
      "outputs": [
        {
          "output_type": "stream",
          "name": "stdout",
          "text": [
            "Parametros: {'max_depth': 50, 'min_samples_leaf': 1, 'min_samples_split': 2, 'n_estimators': 200}\n",
            "Acuracia dos testes: 74.80%\n",
            "Matriz de Confusao:\n",
            "Predito    0    1    2    3    4   All\n",
            "Real                                  \n",
            "0        361   42   29   27   11   470\n",
            "1         28  356   41   25    4   454\n",
            "2         26   28  353   26   27   460\n",
            "3         31   60   44  276   23   434\n",
            "4         25    9   46   20  352   452\n",
            "All      471  495  513  374  417  2270\n",
            "Relatorio de Classificacao:\n",
            "              precision    recall  f1-score   support\n",
            "\n",
            "           0       0.77      0.77      0.77       470\n",
            "           1       0.72      0.78      0.75       454\n",
            "           2       0.69      0.77      0.73       460\n",
            "           3       0.74      0.64      0.68       434\n",
            "           4       0.84      0.78      0.81       452\n",
            "\n",
            "    accuracy                           0.75      2270\n",
            "   macro avg       0.75      0.75      0.75      2270\n",
            "weighted avg       0.75      0.75      0.75      2270\n",
            "\n"
          ]
        }
      ],
      "source": [
        "target_names = ['0','1','2','3','4']\n",
        "boa, casca_grossa, dano_praga, podre, verde = leitura(\"greycoprops_cinza/\")\n",
        "x_train, x_test, y_train, y_test = todos_vs_todos(boa, casca_grossa, dano_praga, podre, verde)\n",
        "rf_gridsearchcv(x_train, x_test, y_train, y_test, target_names)"
      ]
    },
    {
      "cell_type": "markdown",
      "source": [
        "### RGB"
      ],
      "metadata": {
        "id": "lyocBdix_kvS"
      }
    },
    {
      "cell_type": "code",
      "execution_count": null,
      "metadata": {
        "colab": {
          "base_uri": "https://localhost:8080/"
        },
        "id": "Zkw93Pz6UTCg",
        "outputId": "0af95cbc-169f-4f97-acea-60c68f20b434"
      },
      "outputs": [
        {
          "output_type": "stream",
          "name": "stdout",
          "text": [
            "Parametros: {'max_depth': 50, 'min_samples_leaf': 1, 'min_samples_split': 2, 'n_estimators': 200}\n",
            "Acuracia dos testes: 86.56%\n",
            "Matriz de Confusao:\n",
            "Predito    0    1    2    3    4   All\n",
            "Real                                  \n",
            "0        380   24   37   25    4   470\n",
            "1         14  414   13   13    0   454\n",
            "2         15   12  398   34    1   460\n",
            "3         24   33   50  327    0   434\n",
            "4          2    4    0    0  446   452\n",
            "All      435  487  498  399  451  2270\n",
            "Relatorio de Classificacao:\n",
            "              precision    recall  f1-score   support\n",
            "\n",
            "           0       0.87      0.81      0.84       470\n",
            "           1       0.85      0.91      0.88       454\n",
            "           2       0.80      0.87      0.83       460\n",
            "           3       0.82      0.75      0.79       434\n",
            "           4       0.99      0.99      0.99       452\n",
            "\n",
            "    accuracy                           0.87      2270\n",
            "   macro avg       0.87      0.87      0.86      2270\n",
            "weighted avg       0.87      0.87      0.87      2270\n",
            "\n"
          ]
        }
      ],
      "source": [
        "target_names = ['0','1','2','3','4']\n",
        "boa, casca_grossa, dano_praga, podre, verde = leitura(\"greycoprops_colorida/\")\n",
        "x_train, x_test, y_train, y_test = todos_vs_todos(boa, casca_grossa, dano_praga, podre, verde)\n",
        "rf_gridsearchcv(x_train, x_test, y_train, y_test, target_names)"
      ]
    },
    {
      "cell_type": "markdown",
      "metadata": {
        "id": "AuIiatlTU5aL"
      },
      "source": [
        "## SVM"
      ]
    },
    {
      "cell_type": "markdown",
      "source": [
        "### Tons de Cinza"
      ],
      "metadata": {
        "id": "epXtr33A_y4k"
      }
    },
    {
      "cell_type": "code",
      "source": [
        "target_names = ['0','1','2','3','4']\n",
        "boa, casca_grossa, dano_praga, podre, verde = leitura(\"greycoprops_cinza/\")\n",
        "x_train, x_test, y_train, y_test = todos_vs_todos(boa, casca_grossa, dano_praga, podre, verde)\n",
        "svm_gridsearchcv(x_train, x_test, y_train, y_test, target_names)"
      ],
      "metadata": {
        "colab": {
          "base_uri": "https://localhost:8080/"
        },
        "id": "6Odwa6_7_7Kj",
        "outputId": "640d4d65-e012-4b6c-b071-ff62101dce64"
      },
      "execution_count": null,
      "outputs": [
        {
          "output_type": "stream",
          "name": "stdout",
          "text": [
            "Parametros: {'C': 1000, 'gamma': 1, 'kernel': 'rbf'}\n",
            "Acuracia dos testes: 77.58%\n",
            "Matriz de Confusao:\n",
            "Predito    0    1    2    3    4   All\n",
            "Real                                  \n",
            "0        349   47   32   30   12   470\n",
            "1         30  378   16   25    5   454\n",
            "2         28   24  382   21    5   460\n",
            "3         38   55   42  287   12   434\n",
            "4         26   12   10   39  365   452\n",
            "All      471  516  482  402  399  2270\n",
            "Relatorio de Classificacao:\n",
            "              precision    recall  f1-score   support\n",
            "\n",
            "           0       0.74      0.74      0.74       470\n",
            "           1       0.73      0.83      0.78       454\n",
            "           2       0.79      0.83      0.81       460\n",
            "           3       0.71      0.66      0.69       434\n",
            "           4       0.91      0.81      0.86       452\n",
            "\n",
            "    accuracy                           0.78      2270\n",
            "   macro avg       0.78      0.77      0.78      2270\n",
            "weighted avg       0.78      0.78      0.78      2270\n",
            "\n"
          ]
        }
      ]
    },
    {
      "cell_type": "markdown",
      "source": [
        "### RGB"
      ],
      "metadata": {
        "id": "PaoGbsdH_0gd"
      }
    },
    {
      "cell_type": "code",
      "execution_count": null,
      "metadata": {
        "id": "rVOq5PVJUqNz",
        "colab": {
          "base_uri": "https://localhost:8080/"
        },
        "outputId": "fa8a7bf6-2f89-4026-dde1-d6727a1aae2e"
      },
      "outputs": [
        {
          "output_type": "stream",
          "name": "stdout",
          "text": [
            "Parametros: {'C': 1000, 'gamma': 1, 'kernel': 'rbf'}\n",
            "Acuracia dos testes: 93.96%\n",
            "Matriz de Confusao:\n",
            "Predito    0    1    2    3    4   All\n",
            "Real                                  \n",
            "0        431    7   16   14    2   470\n",
            "1          7  436    5    4    2   454\n",
            "2         17    5  427   11    0   460\n",
            "3         24    8   13  389    0   434\n",
            "4          0    1    1    0  450   452\n",
            "All      479  457  462  418  454  2270\n",
            "Relatorio de Classificacao:\n",
            "              precision    recall  f1-score   support\n",
            "\n",
            "           0       0.90      0.92      0.91       470\n",
            "           1       0.95      0.96      0.96       454\n",
            "           2       0.92      0.93      0.93       460\n",
            "           3       0.93      0.90      0.91       434\n",
            "           4       0.99      1.00      0.99       452\n",
            "\n",
            "    accuracy                           0.94      2270\n",
            "   macro avg       0.94      0.94      0.94      2270\n",
            "weighted avg       0.94      0.94      0.94      2270\n",
            "\n"
          ]
        }
      ],
      "source": [
        "target_names = ['0','1','2','3','4']\n",
        "boa, casca_grossa, dano_praga, podre, verde = leitura(\"greycoprops_colorida/\")\n",
        "x_train, x_test, y_train, y_test = todos_vs_todos(boa, casca_grossa, dano_praga, podre, verde)\n",
        "svm_gridsearchcv(x_train, x_test, y_train, y_test, target_names)"
      ]
    },
    {
      "cell_type": "markdown",
      "source": [
        "# **Multiclasses: Removendo a Verde**"
      ],
      "metadata": {
        "id": "zbahj6ID129E"
      }
    },
    {
      "cell_type": "markdown",
      "source": [
        "## K-NN"
      ],
      "metadata": {
        "id": "a-DWc5DkAOPH"
      }
    },
    {
      "cell_type": "markdown",
      "source": [
        "### Tons de Cinza"
      ],
      "metadata": {
        "id": "3r-5oEZ90NMD"
      }
    },
    {
      "cell_type": "code",
      "source": [
        "target_names = ['0','1','2','3']\n",
        "boa, casca_grossa, dano_praga, podre, verde = leitura(\"greycoprops_cinza/\")\n",
        "x_train, x_test, y_train, y_test = todos_vs_todos(boa, casca_grossa, dano_praga, podre,  verde[0:0])\n",
        "knn_gridsearchcv(x_train, x_test, y_train, y_test, target_names)"
      ],
      "metadata": {
        "id": "1_jLUsZw0Rol",
        "colab": {
          "base_uri": "https://localhost:8080/"
        },
        "outputId": "fcba19b2-5632-4717-ba64-aaab947ce79d"
      },
      "execution_count": null,
      "outputs": [
        {
          "output_type": "stream",
          "name": "stdout",
          "text": [
            "Parametros: {'leaf_size': 20, 'metric': 'minkowski', 'n_neighbors': 5, 'p': 1, 'weights': 'distance'}\n",
            "Acuracia dos testes: 72.41%\n",
            "Matriz de Confusao:\n",
            "Predito    0    1    2    3   All\n",
            "Real                             \n",
            "0        355   45   36   28   464\n",
            "1         35  329   42   45   451\n",
            "2         34   48  350   31   463\n",
            "3         54   53   50  281   438\n",
            "All      478  475  478  385  1816\n",
            "Relatorio de Classificacao:\n",
            "              precision    recall  f1-score   support\n",
            "\n",
            "           0       0.74      0.77      0.75       464\n",
            "           1       0.69      0.73      0.71       451\n",
            "           2       0.73      0.76      0.74       463\n",
            "           3       0.73      0.64      0.68       438\n",
            "\n",
            "    accuracy                           0.72      1816\n",
            "   macro avg       0.72      0.72      0.72      1816\n",
            "weighted avg       0.72      0.72      0.72      1816\n",
            "\n"
          ]
        }
      ]
    },
    {
      "cell_type": "markdown",
      "source": [
        "### RGB"
      ],
      "metadata": {
        "id": "B5MltYYJ3qZb"
      }
    },
    {
      "cell_type": "code",
      "source": [
        "target_names = ['0','1','2','3']\n",
        "boa, casca_grossa, dano_praga, podre, verde = leitura(\"greycoprops_colorida/\")\n",
        "x_train, x_test, y_train, y_test = todos_vs_todos(boa, casca_grossa, dano_praga, podre,  verde[0:0])\n",
        "knn_gridsearchcv(x_train, x_test, y_train, y_test, target_names)"
      ],
      "metadata": {
        "id": "KpLBvv9q11O2",
        "colab": {
          "base_uri": "https://localhost:8080/"
        },
        "outputId": "262a544e-835d-4e20-c20e-e36a5f75950d"
      },
      "execution_count": null,
      "outputs": [
        {
          "output_type": "stream",
          "name": "stdout",
          "text": [
            "Parametros: {'leaf_size': 20, 'metric': 'chebyshev', 'n_neighbors': 1, 'p': 1, 'weights': 'uniform'}\n",
            "Acuracia dos testes: 86.40%\n",
            "Matriz de Confusao:\n",
            "Predito    0    1    2    3   All\n",
            "Real                             \n",
            "0        396   25   21   22   464\n",
            "1         21  401   14   15   451\n",
            "2         24    8  399   32   463\n",
            "3         30   16   19  373   438\n",
            "All      471  450  453  442  1816\n",
            "Relatorio de Classificacao:\n",
            "              precision    recall  f1-score   support\n",
            "\n",
            "           0       0.84      0.85      0.85       464\n",
            "           1       0.89      0.89      0.89       451\n",
            "           2       0.88      0.86      0.87       463\n",
            "           3       0.84      0.85      0.85       438\n",
            "\n",
            "    accuracy                           0.86      1816\n",
            "   macro avg       0.86      0.86      0.86      1816\n",
            "weighted avg       0.86      0.86      0.86      1816\n",
            "\n"
          ]
        }
      ]
    },
    {
      "cell_type": "markdown",
      "source": [
        "## RandomForest"
      ],
      "metadata": {
        "id": "N9uj77kbAaoU"
      }
    },
    {
      "cell_type": "markdown",
      "source": [
        "### Tons de Cinza"
      ],
      "metadata": {
        "id": "yt2AMi1QAaoV"
      }
    },
    {
      "cell_type": "code",
      "source": [
        "target_names = ['0','1','2','3']\n",
        "boa, casca_grossa, dano_praga, podre, verde = leitura(\"greycoprops_cinza/\")\n",
        "x_train, x_test, y_train, y_test = todos_vs_todos(boa, casca_grossa, dano_praga, podre,  verde[0:0])\n",
        "rf_gridsearchcv(x_train, x_test, y_train, y_test, target_names)"
      ],
      "metadata": {
        "id": "urFl8eqoAaoV",
        "colab": {
          "base_uri": "https://localhost:8080/"
        },
        "outputId": "acb41092-4758-4279-bdf7-2b4ba3ddbd2b"
      },
      "execution_count": null,
      "outputs": [
        {
          "output_type": "stream",
          "name": "stdout",
          "text": [
            "Parametros: {'max_depth': 50, 'min_samples_leaf': 1, 'min_samples_split': 2, 'n_estimators': 100}\n",
            "Acuracia dos testes: 76.05%\n",
            "Matriz de Confusao:\n",
            "Predito    0    1    2    3   All\n",
            "Real                             \n",
            "0        355   47   36   26   464\n",
            "1         27  342   43   39   451\n",
            "2         20   36  384   23   463\n",
            "3         52   46   40  300   438\n",
            "All      454  471  503  388  1816\n",
            "Relatorio de Classificacao:\n",
            "              precision    recall  f1-score   support\n",
            "\n",
            "           0       0.78      0.77      0.77       464\n",
            "           1       0.73      0.76      0.74       451\n",
            "           2       0.76      0.83      0.80       463\n",
            "           3       0.77      0.68      0.73       438\n",
            "\n",
            "    accuracy                           0.76      1816\n",
            "   macro avg       0.76      0.76      0.76      1816\n",
            "weighted avg       0.76      0.76      0.76      1816\n",
            "\n"
          ]
        }
      ]
    },
    {
      "cell_type": "markdown",
      "source": [
        "### RGB"
      ],
      "metadata": {
        "id": "cU7HhZhaAaoV"
      }
    },
    {
      "cell_type": "code",
      "source": [
        "target_names = ['0','1','2','3']\n",
        "boa, casca_grossa, dano_praga, podre, verde = leitura(\"greycoprops_colorida/\")\n",
        "x_train, x_test, y_train, y_test = todos_vs_todos(boa, casca_grossa, dano_praga, podre,  verde[0:0])\n",
        "rf_gridsearchcv(x_train, x_test, y_train, y_test, target_names)"
      ],
      "metadata": {
        "id": "7Hm6DcNRAaoV",
        "colab": {
          "base_uri": "https://localhost:8080/"
        },
        "outputId": "08b22a5b-7fed-4f94-abaf-2ae625731c01"
      },
      "execution_count": null,
      "outputs": [
        {
          "output_type": "stream",
          "name": "stdout",
          "text": [
            "Parametros: {'max_depth': 50, 'min_samples_leaf': 1, 'min_samples_split': 2, 'n_estimators': 200}\n",
            "Acuracia dos testes: 85.90%\n",
            "Matriz de Confusao:\n",
            "Predito    0    1    2    3   All\n",
            "Real                             \n",
            "0        380   27   33   24   464\n",
            "1         16  402   18   15   451\n",
            "2         15    8  418   22   463\n",
            "3         27   22   29  360   438\n",
            "All      438  459  498  421  1816\n",
            "Relatorio de Classificacao:\n",
            "              precision    recall  f1-score   support\n",
            "\n",
            "           0       0.87      0.82      0.84       464\n",
            "           1       0.88      0.89      0.88       451\n",
            "           2       0.84      0.90      0.87       463\n",
            "           3       0.86      0.82      0.84       438\n",
            "\n",
            "    accuracy                           0.86      1816\n",
            "   macro avg       0.86      0.86      0.86      1816\n",
            "weighted avg       0.86      0.86      0.86      1816\n",
            "\n"
          ]
        }
      ]
    },
    {
      "cell_type": "markdown",
      "source": [
        "## SVM"
      ],
      "metadata": {
        "id": "i-3o50fnAiGY"
      }
    },
    {
      "cell_type": "markdown",
      "source": [
        "### Tons de Cinza"
      ],
      "metadata": {
        "id": "g7lcGOdZAiGY"
      }
    },
    {
      "cell_type": "code",
      "source": [
        "target_names = ['0','1','2','3']\n",
        "boa, casca_grossa, dano_praga, podre, verde = leitura(\"greycoprops_cinza/\")\n",
        "x_train, x_test, y_train, y_test = todos_vs_todos(boa, casca_grossa, dano_praga, podre,  verde[0:0])\n",
        "svm_gridsearchcv(x_train, x_test, y_train, y_test, target_names)"
      ],
      "metadata": {
        "id": "ybi9ME2cAiGY",
        "colab": {
          "base_uri": "https://localhost:8080/"
        },
        "outputId": "82c26100-450d-45a0-ba6a-dd321262113e"
      },
      "execution_count": null,
      "outputs": [
        {
          "output_type": "stream",
          "name": "stdout",
          "text": [
            "Parametros: {'C': 1000, 'gamma': 1, 'kernel': 'rbf'}\n",
            "Acuracia dos testes: 78.30%\n",
            "Matriz de Confusao:\n",
            "Predito    0    1    2    3   All\n",
            "Real                             \n",
            "0        355   46   31   32   464\n",
            "1         34  363   24   30   451\n",
            "2         22   22  393   26   463\n",
            "3         43   49   35  311   438\n",
            "All      454  480  483  399  1816\n",
            "Relatorio de Classificacao:\n",
            "              precision    recall  f1-score   support\n",
            "\n",
            "           0       0.78      0.77      0.77       464\n",
            "           1       0.76      0.80      0.78       451\n",
            "           2       0.81      0.85      0.83       463\n",
            "           3       0.78      0.71      0.74       438\n",
            "\n",
            "    accuracy                           0.78      1816\n",
            "   macro avg       0.78      0.78      0.78      1816\n",
            "weighted avg       0.78      0.78      0.78      1816\n",
            "\n"
          ]
        }
      ]
    },
    {
      "cell_type": "markdown",
      "source": [
        "### RGB"
      ],
      "metadata": {
        "id": "bkjj4kc4AiGY"
      }
    },
    {
      "cell_type": "code",
      "source": [
        "target_names = ['0','1','2','3']\n",
        "boa, casca_grossa, dano_praga, podre, verde = leitura(\"greycoprops_colorida/\")\n",
        "x_train, x_test, y_train, y_test = todos_vs_todos(boa, casca_grossa, dano_praga, podre,  verde[0:0])\n",
        "svm_gridsearchcv(x_train, x_test, y_train, y_test, target_names)"
      ],
      "metadata": {
        "id": "23FMq9wXAiGY",
        "colab": {
          "base_uri": "https://localhost:8080/"
        },
        "outputId": "1606663d-51bc-4bae-fc9f-0d3c5284c021"
      },
      "execution_count": null,
      "outputs": [
        {
          "output_type": "stream",
          "name": "stdout",
          "text": [
            "Parametros: {'C': 1000, 'gamma': 1, 'kernel': 'rbf'}\n",
            "Acuracia dos testes: 94.16%\n",
            "Matriz de Confusao:\n",
            "Predito    0    1    2    3   All\n",
            "Real                             \n",
            "0        426    8   21    9   464\n",
            "1         12  428    5    6   451\n",
            "2          8    3  443    9   463\n",
            "3         11    5    9  413   438\n",
            "All      457  444  478  437  1816\n",
            "Relatorio de Classificacao:\n",
            "              precision    recall  f1-score   support\n",
            "\n",
            "           0       0.93      0.92      0.93       464\n",
            "           1       0.96      0.95      0.96       451\n",
            "           2       0.93      0.96      0.94       463\n",
            "           3       0.95      0.94      0.94       438\n",
            "\n",
            "    accuracy                           0.94      1816\n",
            "   macro avg       0.94      0.94      0.94      1816\n",
            "weighted avg       0.94      0.94      0.94      1816\n",
            "\n"
          ]
        }
      ]
    },
    {
      "cell_type": "markdown",
      "metadata": {
        "id": "bWSc5sASObaM"
      },
      "source": [
        "# **Binária**"
      ]
    },
    {
      "cell_type": "markdown",
      "metadata": {
        "id": "tDPNX2ML_I9g"
      },
      "source": [
        "## K-NN"
      ]
    },
    {
      "cell_type": "markdown",
      "source": [
        "### Tons de Cinza"
      ],
      "metadata": {
        "id": "c_NJIWPW4PA5"
      }
    },
    {
      "cell_type": "code",
      "execution_count": null,
      "metadata": {
        "colab": {
          "base_uri": "https://localhost:8080/"
        },
        "id": "PPcngd-1-Ev5",
        "outputId": "7c2ae381-196f-45a2-8f15-2b280d20e3be"
      },
      "outputs": [
        {
          "output_type": "stream",
          "name": "stdout",
          "text": [
            "Boa vs Todos\n",
            "Parametros: {'leaf_size': 20, 'metric': 'chebyshev', 'n_neighbors': 3, 'p': 1, 'weights': 'distance'}\n",
            "Acuracia dos testes: 78.96%\n",
            "Matriz de Confusao:\n",
            "Predito    0    1  All\n",
            "Real                  \n",
            "0        397   74  471\n",
            "1        117  320  437\n",
            "All      514  394  908\n",
            "Relatorio de Classificacao:\n",
            "              precision    recall  f1-score   support\n",
            "\n",
            "           0       0.77      0.84      0.81       471\n",
            "           1       0.81      0.73      0.77       437\n",
            "\n",
            "    accuracy                           0.79       908\n",
            "   macro avg       0.79      0.79      0.79       908\n",
            "weighted avg       0.79      0.79      0.79       908\n",
            "\n",
            "\n",
            "\n",
            "Casca Grossa vs Todos\n",
            "Parametros: {'leaf_size': 20, 'metric': 'chebyshev', 'n_neighbors': 4, 'p': 1, 'weights': 'distance'}\n",
            "Acuracia dos testes: 85.35%\n",
            "Matriz de Confusao:\n",
            "Predito    0    1  All\n",
            "Real                  \n",
            "0        425   46  471\n",
            "1         87  350  437\n",
            "All      512  396  908\n",
            "Relatorio de Classificacao:\n",
            "              precision    recall  f1-score   support\n",
            "\n",
            "           0       0.83      0.90      0.86       471\n",
            "           1       0.88      0.80      0.84       437\n",
            "\n",
            "    accuracy                           0.85       908\n",
            "   macro avg       0.86      0.85      0.85       908\n",
            "weighted avg       0.86      0.85      0.85       908\n",
            "\n",
            "\n",
            "\n",
            "Dano Praga vs Todos\n",
            "Parametros: {'leaf_size': 20, 'metric': 'minkowski', 'n_neighbors': 4, 'p': 2, 'weights': 'distance'}\n",
            "Acuracia dos testes: 81.28%\n",
            "Matriz de Confusao:\n",
            "Predito    0    1  All\n",
            "Real                  \n",
            "0        410   61  471\n",
            "1        109  328  437\n",
            "All      519  389  908\n",
            "Relatorio de Classificacao:\n",
            "              precision    recall  f1-score   support\n",
            "\n",
            "           0       0.79      0.87      0.83       471\n",
            "           1       0.84      0.75      0.79       437\n",
            "\n",
            "    accuracy                           0.81       908\n",
            "   macro avg       0.82      0.81      0.81       908\n",
            "weighted avg       0.82      0.81      0.81       908\n",
            "\n",
            "\n",
            "\n",
            "Podre vs Todos\n",
            "Parametros: {'leaf_size': 20, 'metric': 'minkowski', 'n_neighbors': 1, 'p': 1, 'weights': 'uniform'}\n",
            "Acuracia dos testes: 78.08%\n",
            "Matriz de Confusao:\n",
            "Predito    0    1  All\n",
            "Real                  \n",
            "0        369  102  471\n",
            "1         97  340  437\n",
            "All      466  442  908\n",
            "Relatorio de Classificacao:\n",
            "              precision    recall  f1-score   support\n",
            "\n",
            "           0       0.79      0.78      0.79       471\n",
            "           1       0.77      0.78      0.77       437\n",
            "\n",
            "    accuracy                           0.78       908\n",
            "   macro avg       0.78      0.78      0.78       908\n",
            "weighted avg       0.78      0.78      0.78       908\n",
            "\n",
            "\n",
            "\n",
            "Verde vs Todos\n",
            "Parametros: {'leaf_size': 20, 'metric': 'minkowski', 'n_neighbors': 8, 'p': 1, 'weights': 'distance'}\n",
            "Acuracia dos testes: 84.14%\n",
            "Matriz de Confusao:\n",
            "Predito    0    1  All\n",
            "Real                  \n",
            "0        410   61  471\n",
            "1         83  354  437\n",
            "All      493  415  908\n",
            "Relatorio de Classificacao:\n",
            "              precision    recall  f1-score   support\n",
            "\n",
            "           0       0.83      0.87      0.85       471\n",
            "           1       0.85      0.81      0.83       437\n",
            "\n",
            "    accuracy                           0.84       908\n",
            "   macro avg       0.84      0.84      0.84       908\n",
            "weighted avg       0.84      0.84      0.84       908\n",
            "\n"
          ]
        }
      ],
      "source": [
        "target_names = ['0','1']\n",
        "boa, casca_grossa, dano_praga, podre, verde = leitura(\"greycoprops_cinza/\")\n",
        "print(\"Boa vs Todos\")\n",
        "x_train, x_test, y_train, y_test = boa_vs_todos(boa, casca_grossa, dano_praga, podre, verde)\n",
        "knn_gridsearchcv(x_train, x_test, y_train, y_test, target_names)\n",
        "print(\"\\n\")\n",
        "print(\"Casca Grossa vs Todos\")\n",
        "x_train, x_test, y_train, y_test = casca_grossa_vs_todos(boa, casca_grossa, dano_praga, podre, verde)\n",
        "knn_gridsearchcv(x_train, x_test, y_train, y_test, target_names)\n",
        "print(\"\\n\")\n",
        "print(\"Dano Praga vs Todos\")\n",
        "x_train, x_test, y_train, y_test = dano_praga_vs_todos(boa, casca_grossa, dano_praga, podre, verde)\n",
        "knn_gridsearchcv(x_train, x_test, y_train, y_test, target_names)\n",
        "print(\"\\n\")\n",
        "print(\"Podre vs Todos\")\n",
        "x_train, x_test, y_train, y_test = podre_vs_todos(boa, casca_grossa, dano_praga, podre, verde)\n",
        "knn_gridsearchcv(x_train, x_test, y_train, y_test, target_names)\n",
        "print(\"\\n\")\n",
        "print(\"Verde vs Todos\")\n",
        "x_train, x_test, y_train, y_test = verde_vs_todos(boa, casca_grossa, dano_praga, podre, verde)\n",
        "knn_gridsearchcv(x_train, x_test, y_train, y_test, target_names)"
      ]
    },
    {
      "cell_type": "markdown",
      "metadata": {
        "id": "97R45E8iLKhW"
      },
      "source": [
        "### RGB"
      ]
    },
    {
      "cell_type": "code",
      "execution_count": null,
      "metadata": {
        "id": "gcF91RDaLKhX",
        "colab": {
          "base_uri": "https://localhost:8080/"
        },
        "outputId": "a5b3f6e2-e17c-442c-c59a-c025126ae8a6"
      },
      "outputs": [
        {
          "output_type": "stream",
          "name": "stdout",
          "text": [
            "Boa vs Todos\n",
            "Parametros: {'leaf_size': 20, 'metric': 'chebyshev', 'n_neighbors': 1, 'p': 1, 'weights': 'uniform'}\n",
            "Acuracia dos testes: 86.89%\n",
            "Matriz de Confusao:\n",
            "Predito    0    1  All\n",
            "Real                  \n",
            "0        423   48  471\n",
            "1         71  366  437\n",
            "All      494  414  908\n",
            "Relatorio de Classificacao:\n",
            "              precision    recall  f1-score   support\n",
            "\n",
            "           0       0.86      0.90      0.88       471\n",
            "           1       0.88      0.84      0.86       437\n",
            "\n",
            "    accuracy                           0.87       908\n",
            "   macro avg       0.87      0.87      0.87       908\n",
            "weighted avg       0.87      0.87      0.87       908\n",
            "\n",
            "\n",
            "\n",
            "Casca Grossa vs Todos\n",
            "Parametros: {'leaf_size': 20, 'metric': 'chebyshev', 'n_neighbors': 4, 'p': 1, 'weights': 'distance'}\n",
            "Acuracia dos testes: 93.83%\n",
            "Matriz de Confusao:\n",
            "Predito    0    1  All\n",
            "Real                  \n",
            "0        459   12  471\n",
            "1         44  393  437\n",
            "All      503  405  908\n",
            "Relatorio de Classificacao:\n",
            "              precision    recall  f1-score   support\n",
            "\n",
            "           0       0.91      0.97      0.94       471\n",
            "           1       0.97      0.90      0.93       437\n",
            "\n",
            "    accuracy                           0.94       908\n",
            "   macro avg       0.94      0.94      0.94       908\n",
            "weighted avg       0.94      0.94      0.94       908\n",
            "\n",
            "\n",
            "\n",
            "Dano Praga vs Todos\n",
            "Parametros: {'leaf_size': 20, 'metric': 'minkowski', 'n_neighbors': 4, 'p': 2, 'weights': 'distance'}\n",
            "Acuracia dos testes: 90.97%\n",
            "Matriz de Confusao:\n",
            "Predito    0    1  All\n",
            "Real                  \n",
            "0        450   21  471\n",
            "1         61  376  437\n",
            "All      511  397  908\n",
            "Relatorio de Classificacao:\n",
            "              precision    recall  f1-score   support\n",
            "\n",
            "           0       0.88      0.96      0.92       471\n",
            "           1       0.95      0.86      0.90       437\n",
            "\n",
            "    accuracy                           0.91       908\n",
            "   macro avg       0.91      0.91      0.91       908\n",
            "weighted avg       0.91      0.91      0.91       908\n",
            "\n",
            "\n",
            "\n",
            "Podre vs Todos\n",
            "Parametros: {'leaf_size': 20, 'metric': 'minkowski', 'n_neighbors': 1, 'p': 2, 'weights': 'uniform'}\n",
            "Acuracia dos testes: 86.89%\n",
            "Matriz de Confusao:\n",
            "Predito    0    1  All\n",
            "Real                  \n",
            "0        415   56  471\n",
            "1         63  374  437\n",
            "All      478  430  908\n",
            "Relatorio de Classificacao:\n",
            "              precision    recall  f1-score   support\n",
            "\n",
            "           0       0.87      0.88      0.87       471\n",
            "           1       0.87      0.86      0.86       437\n",
            "\n",
            "    accuracy                           0.87       908\n",
            "   macro avg       0.87      0.87      0.87       908\n",
            "weighted avg       0.87      0.87      0.87       908\n",
            "\n",
            "\n",
            "\n",
            "Verde vs Todos\n",
            "Parametros: {'leaf_size': 20, 'metric': 'chebyshev', 'n_neighbors': 4, 'p': 1, 'weights': 'distance'}\n",
            "Acuracia dos testes: 97.14%\n",
            "Matriz de Confusao:\n",
            "Predito    0    1  All\n",
            "Real                  \n",
            "0        461   10  471\n",
            "1         16  421  437\n",
            "All      477  431  908\n",
            "Relatorio de Classificacao:\n",
            "              precision    recall  f1-score   support\n",
            "\n",
            "           0       0.97      0.98      0.97       471\n",
            "           1       0.98      0.96      0.97       437\n",
            "\n",
            "    accuracy                           0.97       908\n",
            "   macro avg       0.97      0.97      0.97       908\n",
            "weighted avg       0.97      0.97      0.97       908\n",
            "\n"
          ]
        }
      ],
      "source": [
        "target_names = ['0','1']\n",
        "boa, casca_grossa, dano_praga, podre, verde = leitura(\"greycoprops_colorida/\")\n",
        "print(\"Boa vs Todos\")\n",
        "x_train, x_test, y_train, y_test = boa_vs_todos(boa, casca_grossa, dano_praga, podre, verde)\n",
        "knn_gridsearchcv(x_train, x_test, y_train, y_test, target_names)\n",
        "print(\"\\n\")\n",
        "print(\"Casca Grossa vs Todos\")\n",
        "x_train, x_test, y_train, y_test = casca_grossa_vs_todos(boa, casca_grossa, dano_praga, podre, verde)\n",
        "knn_gridsearchcv(x_train, x_test, y_train, y_test, target_names)\n",
        "print(\"\\n\")\n",
        "print(\"Dano Praga vs Todos\")\n",
        "x_train, x_test, y_train, y_test = dano_praga_vs_todos(boa, casca_grossa, dano_praga, podre, verde)\n",
        "knn_gridsearchcv(x_train, x_test, y_train, y_test, target_names)\n",
        "print(\"\\n\")\n",
        "print(\"Podre vs Todos\")\n",
        "x_train, x_test, y_train, y_test = podre_vs_todos(boa, casca_grossa, dano_praga, podre, verde)\n",
        "knn_gridsearchcv(x_train, x_test, y_train, y_test, target_names)\n",
        "print(\"\\n\")\n",
        "print(\"Verde vs Todos\")\n",
        "x_train, x_test, y_train, y_test = verde_vs_todos(boa, casca_grossa, dano_praga, podre, verde)\n",
        "knn_gridsearchcv(x_train, x_test, y_train, y_test, target_names)"
      ]
    },
    {
      "cell_type": "markdown",
      "metadata": {
        "id": "u1lAbq-voMAd"
      },
      "source": [
        "## RandomForest"
      ]
    },
    {
      "cell_type": "markdown",
      "source": [
        "### Tons de Cinza"
      ],
      "metadata": {
        "id": "UYtP1fcN4zUe"
      }
    },
    {
      "cell_type": "code",
      "execution_count": null,
      "metadata": {
        "id": "10YQOp8toICC",
        "colab": {
          "base_uri": "https://localhost:8080/"
        },
        "outputId": "6ecb4905-3f23-4941-cae0-e2c362b32edc"
      },
      "outputs": [
        {
          "output_type": "stream",
          "name": "stdout",
          "text": [
            "Boa vs Todos\n",
            "Parametros: {'max_depth': 50, 'min_samples_leaf': 1, 'min_samples_split': 2, 'n_estimators': 200}\n",
            "Acuracia dos testes: 82.05%\n",
            "Matriz de Confusao:\n",
            "Predito    0    1  All\n",
            "Real                  \n",
            "0        391   80  471\n",
            "1         83  354  437\n",
            "All      474  434  908\n",
            "Relatorio de Classificacao:\n",
            "              precision    recall  f1-score   support\n",
            "\n",
            "           0       0.82      0.83      0.83       471\n",
            "           1       0.82      0.81      0.81       437\n",
            "\n",
            "    accuracy                           0.82       908\n",
            "   macro avg       0.82      0.82      0.82       908\n",
            "weighted avg       0.82      0.82      0.82       908\n",
            "\n",
            "\n",
            "\n",
            "Casca Grossa vs Todos\n",
            "Parametros: {'max_depth': 50, 'min_samples_leaf': 1, 'min_samples_split': 2, 'n_estimators': 200}\n",
            "Acuracia dos testes: 85.13%\n",
            "Matriz de Confusao:\n",
            "Predito    0    1  All\n",
            "Real                  \n",
            "0        418   53  471\n",
            "1         82  355  437\n",
            "All      500  408  908\n",
            "Relatorio de Classificacao:\n",
            "              precision    recall  f1-score   support\n",
            "\n",
            "           0       0.84      0.89      0.86       471\n",
            "           1       0.87      0.81      0.84       437\n",
            "\n",
            "    accuracy                           0.85       908\n",
            "   macro avg       0.85      0.85      0.85       908\n",
            "weighted avg       0.85      0.85      0.85       908\n",
            "\n",
            "\n",
            "\n",
            "Dano Praga vs Todos\n",
            "Parametros: {'max_depth': 50, 'min_samples_leaf': 1, 'min_samples_split': 2, 'n_estimators': 200}\n",
            "Acuracia dos testes: 83.92%\n",
            "Matriz de Confusao:\n",
            "Predito    0    1  All\n",
            "Real                  \n",
            "0        412   59  471\n",
            "1         87  350  437\n",
            "All      499  409  908\n",
            "Relatorio de Classificacao:\n",
            "              precision    recall  f1-score   support\n",
            "\n",
            "           0       0.83      0.87      0.85       471\n",
            "           1       0.86      0.80      0.83       437\n",
            "\n",
            "    accuracy                           0.84       908\n",
            "   macro avg       0.84      0.84      0.84       908\n",
            "weighted avg       0.84      0.84      0.84       908\n",
            "\n",
            "\n",
            "\n",
            "Podre vs Todos\n",
            "Parametros: {'max_depth': 50, 'min_samples_leaf': 1, 'min_samples_split': 5, 'n_estimators': 200}\n",
            "Acuracia dos testes: 79.96%\n",
            "Matriz de Confusao:\n",
            "Predito    0    1  All\n",
            "Real                  \n",
            "0        353  118  471\n",
            "1         64  373  437\n",
            "All      417  491  908\n",
            "Relatorio de Classificacao:\n",
            "              precision    recall  f1-score   support\n",
            "\n",
            "           0       0.85      0.75      0.80       471\n",
            "           1       0.76      0.85      0.80       437\n",
            "\n",
            "    accuracy                           0.80       908\n",
            "   macro avg       0.80      0.80      0.80       908\n",
            "weighted avg       0.80      0.80      0.80       908\n",
            "\n",
            "\n",
            "\n",
            "Verde vs Todos\n",
            "Parametros: {'max_depth': 50, 'min_samples_leaf': 1, 'min_samples_split': 2, 'n_estimators': 200}\n",
            "Acuracia dos testes: 84.47%\n",
            "Matriz de Confusao:\n",
            "Predito    0    1  All\n",
            "Real                  \n",
            "0        400   71  471\n",
            "1         70  367  437\n",
            "All      470  438  908\n",
            "Relatorio de Classificacao:\n",
            "              precision    recall  f1-score   support\n",
            "\n",
            "           0       0.85      0.85      0.85       471\n",
            "           1       0.84      0.84      0.84       437\n",
            "\n",
            "    accuracy                           0.84       908\n",
            "   macro avg       0.84      0.84      0.84       908\n",
            "weighted avg       0.84      0.84      0.84       908\n",
            "\n"
          ]
        }
      ],
      "source": [
        "target_names = ['0','1']\n",
        "boa, casca_grossa, dano_praga, podre, verde = leitura(\"greycoprops_cinza/\")\n",
        "print(\"Boa vs Todos\")\n",
        "x_train, x_test, y_train, y_test = boa_vs_todos(boa, casca_grossa, dano_praga, podre, verde)\n",
        "rf_gridsearchcv(x_train, x_test, y_train, y_test, target_names)\n",
        "print(\"\\n\")\n",
        "print(\"Casca Grossa vs Todos\")\n",
        "x_train, x_test, y_train, y_test = casca_grossa_vs_todos(boa, casca_grossa, dano_praga, podre, verde)\n",
        "rf_gridsearchcv(x_train, x_test, y_train, y_test, target_names)\n",
        "print(\"\\n\")\n",
        "print(\"Dano Praga vs Todos\")\n",
        "x_train, x_test, y_train, y_test = dano_praga_vs_todos(boa, casca_grossa, dano_praga, podre, verde)\n",
        "rf_gridsearchcv(x_train, x_test, y_train, y_test, target_names)\n",
        "print(\"\\n\")\n",
        "print(\"Podre vs Todos\")\n",
        "x_train, x_test, y_train, y_test = podre_vs_todos(boa, casca_grossa, dano_praga, podre, verde)\n",
        "rf_gridsearchcv(x_train, x_test, y_train, y_test, target_names)\n",
        "print(\"\\n\")\n",
        "print(\"Verde vs Todos\")\n",
        "x_train, x_test, y_train, y_test = verde_vs_todos(boa, casca_grossa, dano_praga, podre, verde)\n",
        "rf_gridsearchcv(x_train, x_test, y_train, y_test, target_names)"
      ]
    },
    {
      "cell_type": "markdown",
      "metadata": {
        "id": "N1sDPYEvxBg2"
      },
      "source": [
        "### RGB"
      ]
    },
    {
      "cell_type": "code",
      "execution_count": null,
      "metadata": {
        "id": "EjnwxQQZxHb5",
        "colab": {
          "base_uri": "https://localhost:8080/"
        },
        "outputId": "54b59c3e-1d01-4951-f57d-32c6a222ca13"
      },
      "outputs": [
        {
          "output_type": "stream",
          "name": "stdout",
          "text": [
            "Boa vs Todos\n",
            "Parametros: {'max_depth': 50, 'min_samples_leaf': 1, 'min_samples_split': 5, 'n_estimators': 200}\n",
            "Acuracia dos testes: 87.33%\n",
            "Matriz de Confusao:\n",
            "Predito    0    1  All\n",
            "Real                  \n",
            "0        407   64  471\n",
            "1         51  386  437\n",
            "All      458  450  908\n",
            "Relatorio de Classificacao:\n",
            "              precision    recall  f1-score   support\n",
            "\n",
            "           0       0.89      0.86      0.88       471\n",
            "           1       0.86      0.88      0.87       437\n",
            "\n",
            "    accuracy                           0.87       908\n",
            "   macro avg       0.87      0.87      0.87       908\n",
            "weighted avg       0.87      0.87      0.87       908\n",
            "\n",
            "\n",
            "\n",
            "Casca Grossa vs Todos\n",
            "Parametros: {'max_depth': 50, 'min_samples_leaf': 1, 'min_samples_split': 2, 'n_estimators': 200}\n",
            "Acuracia dos testes: 93.72%\n",
            "Matriz de Confusao:\n",
            "Predito    0    1  All\n",
            "Real                  \n",
            "0        453   18  471\n",
            "1         39  398  437\n",
            "All      492  416  908\n",
            "Relatorio de Classificacao:\n",
            "              precision    recall  f1-score   support\n",
            "\n",
            "           0       0.92      0.96      0.94       471\n",
            "           1       0.96      0.91      0.93       437\n",
            "\n",
            "    accuracy                           0.94       908\n",
            "   macro avg       0.94      0.94      0.94       908\n",
            "weighted avg       0.94      0.94      0.94       908\n",
            "\n",
            "\n",
            "\n",
            "Dano Praga vs Todos\n",
            "Parametros: {'max_depth': 50, 'min_samples_leaf': 1, 'min_samples_split': 2, 'n_estimators': 200}\n",
            "Acuracia dos testes: 89.65%\n",
            "Matriz de Confusao:\n",
            "Predito    0    1  All\n",
            "Real                  \n",
            "0        434   37  471\n",
            "1         57  380  437\n",
            "All      491  417  908\n",
            "Relatorio de Classificacao:\n",
            "              precision    recall  f1-score   support\n",
            "\n",
            "           0       0.88      0.92      0.90       471\n",
            "           1       0.91      0.87      0.89       437\n",
            "\n",
            "    accuracy                           0.90       908\n",
            "   macro avg       0.90      0.90      0.90       908\n",
            "weighted avg       0.90      0.90      0.90       908\n",
            "\n",
            "\n",
            "\n",
            "Podre vs Todos\n",
            "Parametros: {'max_depth': 50, 'min_samples_leaf': 1, 'min_samples_split': 2, 'n_estimators': 200}\n",
            "Acuracia dos testes: 88.00%\n",
            "Matriz de Confusao:\n",
            "Predito    0    1  All\n",
            "Real                  \n",
            "0        424   47  471\n",
            "1         62  375  437\n",
            "All      486  422  908\n",
            "Relatorio de Classificacao:\n",
            "              precision    recall  f1-score   support\n",
            "\n",
            "           0       0.87      0.90      0.89       471\n",
            "           1       0.89      0.86      0.87       437\n",
            "\n",
            "    accuracy                           0.88       908\n",
            "   macro avg       0.88      0.88      0.88       908\n",
            "weighted avg       0.88      0.88      0.88       908\n",
            "\n",
            "\n",
            "\n",
            "Verde vs Todos\n",
            "Parametros: {'max_depth': 50, 'min_samples_leaf': 1, 'min_samples_split': 2, 'n_estimators': 200}\n",
            "Acuracia dos testes: 98.57%\n",
            "Matriz de Confusao:\n",
            "Predito    0    1  All\n",
            "Real                  \n",
            "0        460   11  471\n",
            "1          2  435  437\n",
            "All      462  446  908\n",
            "Relatorio de Classificacao:\n",
            "              precision    recall  f1-score   support\n",
            "\n",
            "           0       1.00      0.98      0.99       471\n",
            "           1       0.98      1.00      0.99       437\n",
            "\n",
            "    accuracy                           0.99       908\n",
            "   macro avg       0.99      0.99      0.99       908\n",
            "weighted avg       0.99      0.99      0.99       908\n",
            "\n"
          ]
        }
      ],
      "source": [
        "target_names = ['0','1']\n",
        "boa, casca_grossa, dano_praga, podre, verde = leitura(\"greycoprops_colorida/\")\n",
        "print(\"Boa vs Todos\")\n",
        "x_train, x_test, y_train, y_test = boa_vs_todos(boa, casca_grossa, dano_praga, podre, verde)\n",
        "rf_gridsearchcv(x_train, x_test, y_train, y_test, target_names)\n",
        "print(\"\\n\")\n",
        "print(\"Casca Grossa vs Todos\")\n",
        "x_train, x_test, y_train, y_test = casca_grossa_vs_todos(boa, casca_grossa, dano_praga, podre, verde)\n",
        "rf_gridsearchcv(x_train, x_test, y_train, y_test, target_names)\n",
        "print(\"\\n\")\n",
        "print(\"Dano Praga vs Todos\")\n",
        "x_train, x_test, y_train, y_test = dano_praga_vs_todos(boa, casca_grossa, dano_praga, podre, verde)\n",
        "rf_gridsearchcv(x_train, x_test, y_train, y_test, target_names)\n",
        "print(\"\\n\")\n",
        "print(\"Podre vs Todos\")\n",
        "x_train, x_test, y_train, y_test = podre_vs_todos(boa, casca_grossa, dano_praga, podre, verde)\n",
        "rf_gridsearchcv(x_train, x_test, y_train, y_test, target_names)\n",
        "print(\"\\n\")\n",
        "print(\"Verde vs Todos\")\n",
        "x_train, x_test, y_train, y_test = verde_vs_todos(boa, casca_grossa, dano_praga, podre, verde)\n",
        "rf_gridsearchcv(x_train, x_test, y_train, y_test, target_names)"
      ]
    },
    {
      "cell_type": "markdown",
      "metadata": {
        "id": "nW7MeXUt0J4R"
      },
      "source": [
        "## SVM"
      ]
    },
    {
      "cell_type": "markdown",
      "source": [
        "### Tons de Cinza"
      ],
      "metadata": {
        "id": "3IriCU6n8GTR"
      }
    },
    {
      "cell_type": "code",
      "execution_count": null,
      "metadata": {
        "id": "AGVzJ3bY0O_3",
        "colab": {
          "base_uri": "https://localhost:8080/"
        },
        "outputId": "13e14b89-066d-45b0-bd71-55d8041602a3"
      },
      "outputs": [
        {
          "output_type": "stream",
          "name": "stdout",
          "text": [
            "Boa vs Todos\n",
            "Parametros: {'C': 1000, 'gamma': 1, 'kernel': 'rbf'}\n",
            "Acuracia dos testes: 84.14%\n",
            "Matriz de Confusao:\n",
            "Predito    0    1  All\n",
            "Real                  \n",
            "0        415   56  471\n",
            "1         88  349  437\n",
            "All      503  405  908\n",
            "Relatorio de Classificacao:\n",
            "              precision    recall  f1-score   support\n",
            "\n",
            "           0       0.83      0.88      0.85       471\n",
            "           1       0.86      0.80      0.83       437\n",
            "\n",
            "    accuracy                           0.84       908\n",
            "   macro avg       0.84      0.84      0.84       908\n",
            "weighted avg       0.84      0.84      0.84       908\n",
            "\n",
            "\n",
            "\n",
            "Casca Grossa vs Todos\n",
            "Parametros: {'C': 1000, 'gamma': 1, 'kernel': 'rbf'}\n",
            "Acuracia dos testes: 89.10%\n",
            "Matriz de Confusao:\n",
            "Predito    0    1  All\n",
            "Real                  \n",
            "0        439   32  471\n",
            "1         67  370  437\n",
            "All      506  402  908\n",
            "Relatorio de Classificacao:\n",
            "              precision    recall  f1-score   support\n",
            "\n",
            "           0       0.87      0.93      0.90       471\n",
            "           1       0.92      0.85      0.88       437\n",
            "\n",
            "    accuracy                           0.89       908\n",
            "   macro avg       0.89      0.89      0.89       908\n",
            "weighted avg       0.89      0.89      0.89       908\n",
            "\n",
            "\n",
            "\n",
            "Dano Praga vs Todos\n",
            "Parametros: {'C': 1000, 'gamma': 1, 'kernel': 'rbf'}\n",
            "Acuracia dos testes: 90.31%\n",
            "Matriz de Confusao:\n",
            "Predito    0    1  All\n",
            "Real                  \n",
            "0        437   34  471\n",
            "1         54  383  437\n",
            "All      491  417  908\n",
            "Relatorio de Classificacao:\n",
            "              precision    recall  f1-score   support\n",
            "\n",
            "           0       0.89      0.93      0.91       471\n",
            "           1       0.92      0.88      0.90       437\n",
            "\n",
            "    accuracy                           0.90       908\n",
            "   macro avg       0.90      0.90      0.90       908\n",
            "weighted avg       0.90      0.90      0.90       908\n",
            "\n",
            "\n",
            "\n",
            "Podre vs Todos\n",
            "Parametros: {'C': 1000, 'gamma': 1, 'kernel': 'rbf'}\n",
            "Acuracia dos testes: 81.61%\n",
            "Matriz de Confusao:\n",
            "Predito    0    1  All\n",
            "Real                  \n",
            "0        386   85  471\n",
            "1         82  355  437\n",
            "All      468  440  908\n",
            "Relatorio de Classificacao:\n",
            "              precision    recall  f1-score   support\n",
            "\n",
            "           0       0.82      0.82      0.82       471\n",
            "           1       0.81      0.81      0.81       437\n",
            "\n",
            "    accuracy                           0.82       908\n",
            "   macro avg       0.82      0.82      0.82       908\n",
            "weighted avg       0.82      0.82      0.82       908\n",
            "\n",
            "\n",
            "\n",
            "Verde vs Todos\n",
            "Parametros: {'C': 1000, 'gamma': 1, 'kernel': 'rbf'}\n",
            "Acuracia dos testes: 89.65%\n",
            "Matriz de Confusao:\n",
            "Predito    0    1  All\n",
            "Real                  \n",
            "0        428   43  471\n",
            "1         51  386  437\n",
            "All      479  429  908\n",
            "Relatorio de Classificacao:\n",
            "              precision    recall  f1-score   support\n",
            "\n",
            "           0       0.89      0.91      0.90       471\n",
            "           1       0.90      0.88      0.89       437\n",
            "\n",
            "    accuracy                           0.90       908\n",
            "   macro avg       0.90      0.90      0.90       908\n",
            "weighted avg       0.90      0.90      0.90       908\n",
            "\n"
          ]
        }
      ],
      "source": [
        "target_names = ['0','1']\n",
        "boa, casca_grossa, dano_praga, podre, verde = leitura(\"greycoprops_cinza/\")\n",
        "print(\"Boa vs Todos\")\n",
        "x_train, x_test, y_train, y_test = boa_vs_todos(boa, casca_grossa, dano_praga, podre, verde)\n",
        "svm_gridsearchcv(x_train, x_test, y_train, y_test, target_names)\n",
        "print(\"\\n\")\n",
        "print(\"Casca Grossa vs Todos\")\n",
        "x_train, x_test, y_train, y_test = casca_grossa_vs_todos(boa, casca_grossa, dano_praga, podre, verde)\n",
        "svm_gridsearchcv(x_train, x_test, y_train, y_test, target_names)\n",
        "print(\"\\n\")\n",
        "print(\"Dano Praga vs Todos\")\n",
        "x_train, x_test, y_train, y_test = dano_praga_vs_todos(boa, casca_grossa, dano_praga, podre, verde)\n",
        "svm_gridsearchcv(x_train, x_test, y_train, y_test, target_names)\n",
        "print(\"\\n\")\n",
        "print(\"Podre vs Todos\")\n",
        "x_train, x_test, y_train, y_test = podre_vs_todos(boa, casca_grossa, dano_praga, podre, verde)\n",
        "svm_gridsearchcv(x_train, x_test, y_train, y_test, target_names)\n",
        "print(\"\\n\")\n",
        "print(\"Verde vs Todos\")\n",
        "x_train, x_test, y_train, y_test = verde_vs_todos(boa, casca_grossa, dano_praga, podre, verde)\n",
        "svm_gridsearchcv(x_train, x_test, y_train, y_test, target_names)"
      ]
    },
    {
      "cell_type": "markdown",
      "metadata": {
        "id": "uqcIm7_P0TDi"
      },
      "source": [
        "### RGB"
      ]
    },
    {
      "cell_type": "code",
      "execution_count": null,
      "metadata": {
        "id": "FIXvCrBW0WfZ",
        "colab": {
          "base_uri": "https://localhost:8080/"
        },
        "outputId": "54ecd7b8-ee89-4962-cf96-5f23718554b8"
      },
      "outputs": [
        {
          "output_type": "stream",
          "name": "stdout",
          "text": [
            "Boa vs Todos\n",
            "Parametros: {'C': 1000, 'gamma': 1, 'kernel': 'rbf'}\n",
            "Acuracia dos testes: 91.63%\n",
            "Matriz de Confusao:\n",
            "Predito    0    1  All\n",
            "Real                  \n",
            "0        441   30  471\n",
            "1         46  391  437\n",
            "All      487  421  908\n",
            "Relatorio de Classificacao:\n",
            "              precision    recall  f1-score   support\n",
            "\n",
            "           0       0.91      0.94      0.92       471\n",
            "           1       0.93      0.89      0.91       437\n",
            "\n",
            "    accuracy                           0.92       908\n",
            "   macro avg       0.92      0.92      0.92       908\n",
            "weighted avg       0.92      0.92      0.92       908\n",
            "\n",
            "\n",
            "\n",
            "Casca Grossa vs Todos\n",
            "Parametros: {'C': 100, 'gamma': 1, 'kernel': 'rbf'}\n",
            "Acuracia dos testes: 96.70%\n",
            "Matriz de Confusao:\n",
            "Predito    0    1  All\n",
            "Real                  \n",
            "0        463    8  471\n",
            "1         22  415  437\n",
            "All      485  423  908\n",
            "Relatorio de Classificacao:\n",
            "              precision    recall  f1-score   support\n",
            "\n",
            "           0       0.95      0.98      0.97       471\n",
            "           1       0.98      0.95      0.97       437\n",
            "\n",
            "    accuracy                           0.97       908\n",
            "   macro avg       0.97      0.97      0.97       908\n",
            "weighted avg       0.97      0.97      0.97       908\n",
            "\n",
            "\n",
            "\n",
            "Dano Praga vs Todos\n",
            "Parametros: {'C': 100, 'gamma': 1, 'kernel': 'rbf'}\n",
            "Acuracia dos testes: 95.04%\n",
            "Matriz de Confusao:\n",
            "Predito    0    1  All\n",
            "Real                  \n",
            "0        459   12  471\n",
            "1         33  404  437\n",
            "All      492  416  908\n",
            "Relatorio de Classificacao:\n",
            "              precision    recall  f1-score   support\n",
            "\n",
            "           0       0.93      0.97      0.95       471\n",
            "           1       0.97      0.92      0.95       437\n",
            "\n",
            "    accuracy                           0.95       908\n",
            "   macro avg       0.95      0.95      0.95       908\n",
            "weighted avg       0.95      0.95      0.95       908\n",
            "\n",
            "\n",
            "\n",
            "Podre vs Todos\n",
            "Parametros: {'C': 100, 'gamma': 1, 'kernel': 'rbf'}\n",
            "Acuracia dos testes: 93.61%\n",
            "Matriz de Confusao:\n",
            "Predito    0    1  All\n",
            "Real                  \n",
            "0        450   21  471\n",
            "1         37  400  437\n",
            "All      487  421  908\n",
            "Relatorio de Classificacao:\n",
            "              precision    recall  f1-score   support\n",
            "\n",
            "           0       0.92      0.96      0.94       471\n",
            "           1       0.95      0.92      0.93       437\n",
            "\n",
            "    accuracy                           0.94       908\n",
            "   macro avg       0.94      0.94      0.94       908\n",
            "weighted avg       0.94      0.94      0.94       908\n",
            "\n",
            "\n",
            "\n",
            "Verde vs Todos\n",
            "Parametros: {'C': 10, 'gamma': 1, 'kernel': 'rbf'}\n",
            "Acuracia dos testes: 98.68%\n",
            "Matriz de Confusao:\n",
            "Predito    0    1  All\n",
            "Real                  \n",
            "0        462    9  471\n",
            "1          3  434  437\n",
            "All      465  443  908\n",
            "Relatorio de Classificacao:\n",
            "              precision    recall  f1-score   support\n",
            "\n",
            "           0       0.99      0.98      0.99       471\n",
            "           1       0.98      0.99      0.99       437\n",
            "\n",
            "    accuracy                           0.99       908\n",
            "   macro avg       0.99      0.99      0.99       908\n",
            "weighted avg       0.99      0.99      0.99       908\n",
            "\n"
          ]
        }
      ],
      "source": [
        "target_names = ['0','1']\n",
        "boa, casca_grossa, dano_praga, podre, verde = leitura(\"greycoprops_colorida/\")\n",
        "print(\"Boa vs Todos\")\n",
        "x_train, x_test, y_train, y_test = boa_vs_todos(boa, casca_grossa, dano_praga, podre, verde)\n",
        "svm_gridsearchcv(x_train, x_test, y_train, y_test, target_names)\n",
        "print(\"\\n\")\n",
        "print(\"Casca Grossa vs Todos\")\n",
        "x_train, x_test, y_train, y_test = casca_grossa_vs_todos(boa, casca_grossa, dano_praga, podre, verde)\n",
        "svm_gridsearchcv(x_train, x_test, y_train, y_test, target_names)\n",
        "print(\"\\n\")\n",
        "print(\"Dano Praga vs Todos\")\n",
        "x_train, x_test, y_train, y_test = dano_praga_vs_todos(boa, casca_grossa, dano_praga, podre, verde)\n",
        "svm_gridsearchcv(x_train, x_test, y_train, y_test, target_names)\n",
        "print(\"\\n\")\n",
        "print(\"Podre vs Todos\")\n",
        "x_train, x_test, y_train, y_test = podre_vs_todos(boa, casca_grossa, dano_praga, podre, verde)\n",
        "svm_gridsearchcv(x_train, x_test, y_train, y_test, target_names)\n",
        "print(\"\\n\")\n",
        "print(\"Verde vs Todos\")\n",
        "x_train, x_test, y_train, y_test = verde_vs_todos(boa, casca_grossa, dano_praga, podre, verde)\n",
        "svm_gridsearchcv(x_train, x_test, y_train, y_test, target_names)"
      ]
    },
    {
      "cell_type": "markdown",
      "source": [
        "# **Binária: Removendo a Verde**"
      ],
      "metadata": {
        "id": "crsd1OUd371Q"
      }
    },
    {
      "cell_type": "markdown",
      "metadata": {
        "id": "Uvl6bKOrcYAm"
      },
      "source": [
        "## K-NN"
      ]
    },
    {
      "cell_type": "markdown",
      "source": [
        "### Tons de Cinza"
      ],
      "metadata": {
        "id": "4RWV07cO8brK"
      }
    },
    {
      "cell_type": "code",
      "execution_count": null,
      "metadata": {
        "id": "J9Tv309LcYAn",
        "colab": {
          "base_uri": "https://localhost:8080/"
        },
        "outputId": "d6f9ded9-16e0-4ee8-a65f-5c1e0544e272"
      },
      "outputs": [
        {
          "output_type": "stream",
          "name": "stdout",
          "text": [
            "Boa vs Todos\n",
            "Parametros: {'leaf_size': 20, 'metric': 'minkowski', 'n_neighbors': 8, 'p': 1, 'weights': 'distance'}\n",
            "Acuracia dos testes: 79.41%\n",
            "Matriz de Confusao:\n",
            "Predito    0    1  All\n",
            "Real                  \n",
            "0        389   82  471\n",
            "1        105  332  437\n",
            "All      494  414  908\n",
            "Relatorio de Classificacao:\n",
            "              precision    recall  f1-score   support\n",
            "\n",
            "           0       0.79      0.83      0.81       471\n",
            "           1       0.80      0.76      0.78       437\n",
            "\n",
            "    accuracy                           0.79       908\n",
            "   macro avg       0.79      0.79      0.79       908\n",
            "weighted avg       0.79      0.79      0.79       908\n",
            "\n",
            "\n",
            "\n",
            "Casca Grossa vs Todos\n",
            "Parametros: {'leaf_size': 20, 'metric': 'chebyshev', 'n_neighbors': 3, 'p': 1, 'weights': 'distance'}\n",
            "Acuracia dos testes: 84.03%\n",
            "Matriz de Confusao:\n",
            "Predito    0    1  All\n",
            "Real                  \n",
            "0        410   61  471\n",
            "1         84  353  437\n",
            "All      494  414  908\n",
            "Relatorio de Classificacao:\n",
            "              precision    recall  f1-score   support\n",
            "\n",
            "           0       0.83      0.87      0.85       471\n",
            "           1       0.85      0.81      0.83       437\n",
            "\n",
            "    accuracy                           0.84       908\n",
            "   macro avg       0.84      0.84      0.84       908\n",
            "weighted avg       0.84      0.84      0.84       908\n",
            "\n",
            "\n",
            "\n",
            "Dano Praga vs Todos\n",
            "Parametros: {'leaf_size': 20, 'metric': 'chebyshev', 'n_neighbors': 3, 'p': 1, 'weights': 'distance'}\n",
            "Acuracia dos testes: 81.28%\n",
            "Matriz de Confusao:\n",
            "Predito    0    1  All\n",
            "Real                  \n",
            "0        407   64  471\n",
            "1        106  331  437\n",
            "All      513  395  908\n",
            "Relatorio de Classificacao:\n",
            "              precision    recall  f1-score   support\n",
            "\n",
            "           0       0.79      0.86      0.83       471\n",
            "           1       0.84      0.76      0.80       437\n",
            "\n",
            "    accuracy                           0.81       908\n",
            "   macro avg       0.82      0.81      0.81       908\n",
            "weighted avg       0.81      0.81      0.81       908\n",
            "\n",
            "\n",
            "\n",
            "Podre vs Todos\n",
            "Parametros: {'leaf_size': 20, 'metric': 'minkowski', 'n_neighbors': 1, 'p': 1, 'weights': 'uniform'}\n",
            "Acuracia dos testes: 79.63%\n",
            "Matriz de Confusao:\n",
            "Predito    0    1  All\n",
            "Real                  \n",
            "0        369  102  471\n",
            "1         83  354  437\n",
            "All      452  456  908\n",
            "Relatorio de Classificacao:\n",
            "              precision    recall  f1-score   support\n",
            "\n",
            "           0       0.82      0.78      0.80       471\n",
            "           1       0.78      0.81      0.79       437\n",
            "\n",
            "    accuracy                           0.80       908\n",
            "   macro avg       0.80      0.80      0.80       908\n",
            "weighted avg       0.80      0.80      0.80       908\n",
            "\n"
          ]
        }
      ],
      "source": [
        "target_names = ['0','1']\n",
        "boa, casca_grossa, dano_praga, podre, verde = leitura(\"greycoprops_cinza/\")\n",
        "print(\"Boa vs Todos\")\n",
        "x_train, x_test, y_train, y_test = boa_vs_todosRV(boa, casca_grossa, dano_praga, podre)\n",
        "knn_gridsearchcv(x_train, x_test, y_train, y_test, target_names)\n",
        "print(\"\\n\")\n",
        "print(\"Casca Grossa vs Todos\")\n",
        "x_train, x_test, y_train, y_test = casca_grossa_vs_todosRV(boa, casca_grossa, dano_praga, podre)\n",
        "knn_gridsearchcv(x_train, x_test, y_train, y_test, target_names)\n",
        "print(\"\\n\")\n",
        "print(\"Dano Praga vs Todos\")\n",
        "x_train, x_test, y_train, y_test = dano_praga_vs_todosRV(boa, casca_grossa, dano_praga, podre)\n",
        "knn_gridsearchcv(x_train, x_test, y_train, y_test, target_names)\n",
        "print(\"\\n\")\n",
        "print(\"Podre vs Todos\")\n",
        "x_train, x_test, y_train, y_test = podre_vs_todosRV(boa, casca_grossa, dano_praga, podre)\n",
        "knn_gridsearchcv(x_train, x_test, y_train, y_test, target_names)"
      ]
    },
    {
      "cell_type": "markdown",
      "metadata": {
        "id": "kvSpAQlhcYAp"
      },
      "source": [
        "### RGB"
      ]
    },
    {
      "cell_type": "code",
      "execution_count": null,
      "metadata": {
        "id": "KpHbblRxcYAp",
        "colab": {
          "base_uri": "https://localhost:8080/"
        },
        "outputId": "25e73028-77b8-4bab-c26e-f4f7321882c8"
      },
      "outputs": [
        {
          "output_type": "stream",
          "name": "stdout",
          "text": [
            "Boa vs Todos\n",
            "Parametros: {'leaf_size': 20, 'metric': 'chebyshev', 'n_neighbors': 1, 'p': 1, 'weights': 'uniform'}\n",
            "Acuracia dos testes: 86.78%\n",
            "Matriz de Confusao:\n",
            "Predito    0    1  All\n",
            "Real                  \n",
            "0        420   51  471\n",
            "1         69  368  437\n",
            "All      489  419  908\n",
            "Relatorio de Classificacao:\n",
            "              precision    recall  f1-score   support\n",
            "\n",
            "           0       0.86      0.89      0.87       471\n",
            "           1       0.88      0.84      0.86       437\n",
            "\n",
            "    accuracy                           0.87       908\n",
            "   macro avg       0.87      0.87      0.87       908\n",
            "weighted avg       0.87      0.87      0.87       908\n",
            "\n",
            "\n",
            "\n",
            "Casca Grossa vs Todos\n",
            "Parametros: {'leaf_size': 20, 'metric': 'chebyshev', 'n_neighbors': 1, 'p': 1, 'weights': 'uniform'}\n",
            "Acuracia dos testes: 93.17%\n",
            "Matriz de Confusao:\n",
            "Predito    0    1  All\n",
            "Real                  \n",
            "0        444   27  471\n",
            "1         35  402  437\n",
            "All      479  429  908\n",
            "Relatorio de Classificacao:\n",
            "              precision    recall  f1-score   support\n",
            "\n",
            "           0       0.93      0.94      0.93       471\n",
            "           1       0.94      0.92      0.93       437\n",
            "\n",
            "    accuracy                           0.93       908\n",
            "   macro avg       0.93      0.93      0.93       908\n",
            "weighted avg       0.93      0.93      0.93       908\n",
            "\n",
            "\n",
            "\n",
            "Dano Praga vs Todos\n",
            "Parametros: {'leaf_size': 20, 'metric': 'minkowski', 'n_neighbors': 4, 'p': 1, 'weights': 'distance'}\n",
            "Acuracia dos testes: 90.09%\n",
            "Matriz de Confusao:\n",
            "Predito    0    1  All\n",
            "Real                  \n",
            "0        439   32  471\n",
            "1         58  379  437\n",
            "All      497  411  908\n",
            "Relatorio de Classificacao:\n",
            "              precision    recall  f1-score   support\n",
            "\n",
            "           0       0.88      0.93      0.91       471\n",
            "           1       0.92      0.87      0.89       437\n",
            "\n",
            "    accuracy                           0.90       908\n",
            "   macro avg       0.90      0.90      0.90       908\n",
            "weighted avg       0.90      0.90      0.90       908\n",
            "\n",
            "\n",
            "\n",
            "Podre vs Todos\n",
            "Parametros: {'leaf_size': 20, 'metric': 'minkowski', 'n_neighbors': 6, 'p': 1, 'weights': 'distance'}\n",
            "Acuracia dos testes: 85.68%\n",
            "Matriz de Confusao:\n",
            "Predito    0    1  All\n",
            "Real                  \n",
            "0        407   64  471\n",
            "1         66  371  437\n",
            "All      473  435  908\n",
            "Relatorio de Classificacao:\n",
            "              precision    recall  f1-score   support\n",
            "\n",
            "           0       0.86      0.86      0.86       471\n",
            "           1       0.85      0.85      0.85       437\n",
            "\n",
            "    accuracy                           0.86       908\n",
            "   macro avg       0.86      0.86      0.86       908\n",
            "weighted avg       0.86      0.86      0.86       908\n",
            "\n"
          ]
        }
      ],
      "source": [
        "target_names = ['0','1']\n",
        "boa, casca_grossa, dano_praga, podre, verde = leitura(\"greycoprops_colorida/\")\n",
        "print(\"Boa vs Todos\")\n",
        "x_train, x_test, y_train, y_test = boa_vs_todosRV(boa, casca_grossa, dano_praga, podre)\n",
        "knn_gridsearchcv(x_train, x_test, y_train, y_test, target_names)\n",
        "print(\"\\n\")\n",
        "print(\"Casca Grossa vs Todos\")\n",
        "x_train, x_test, y_train, y_test = casca_grossa_vs_todosRV(boa, casca_grossa, dano_praga, podre)\n",
        "knn_gridsearchcv(x_train, x_test, y_train, y_test, target_names)\n",
        "print(\"\\n\")\n",
        "print(\"Dano Praga vs Todos\")\n",
        "x_train, x_test, y_train, y_test = dano_praga_vs_todosRV(boa, casca_grossa, dano_praga, podre)\n",
        "knn_gridsearchcv(x_train, x_test, y_train, y_test, target_names)\n",
        "print(\"\\n\")\n",
        "print(\"Podre vs Todos\")\n",
        "x_train, x_test, y_train, y_test = podre_vs_todosRV(boa, casca_grossa, dano_praga, podre)\n",
        "knn_gridsearchcv(x_train, x_test, y_train, y_test, target_names)"
      ]
    },
    {
      "cell_type": "markdown",
      "metadata": {
        "id": "UVaAaC3xdxdR"
      },
      "source": [
        "## RandomForest "
      ]
    },
    {
      "cell_type": "markdown",
      "source": [
        "### Tons de Cinza"
      ],
      "metadata": {
        "id": "bc0x-nfb8nkh"
      }
    },
    {
      "cell_type": "code",
      "execution_count": null,
      "metadata": {
        "id": "W5_fyyQOdxdR",
        "colab": {
          "base_uri": "https://localhost:8080/"
        },
        "outputId": "020b7cef-4e7c-4722-efe7-456313792887"
      },
      "outputs": [
        {
          "output_type": "stream",
          "name": "stdout",
          "text": [
            "Boa vs Todos\n",
            "Parametros: {'max_depth': 50, 'min_samples_leaf': 1, 'min_samples_split': 2, 'n_estimators': 200}\n",
            "Acuracia dos testes: 82.05%\n",
            "Matriz de Confusao:\n",
            "Predito    0    1  All\n",
            "Real                  \n",
            "0        386   85  471\n",
            "1         78  359  437\n",
            "All      464  444  908\n",
            "Relatorio de Classificacao:\n",
            "              precision    recall  f1-score   support\n",
            "\n",
            "           0       0.83      0.82      0.83       471\n",
            "           1       0.81      0.82      0.81       437\n",
            "\n",
            "    accuracy                           0.82       908\n",
            "   macro avg       0.82      0.82      0.82       908\n",
            "weighted avg       0.82      0.82      0.82       908\n",
            "\n",
            "\n",
            "\n",
            "Casca Grossa vs Todos\n",
            "Parametros: {'max_depth': 50, 'min_samples_leaf': 1, 'min_samples_split': 2, 'n_estimators': 200}\n",
            "Acuracia dos testes: 84.58%\n",
            "Matriz de Confusao:\n",
            "Predito    0    1  All\n",
            "Real                  \n",
            "0        409   62  471\n",
            "1         78  359  437\n",
            "All      487  421  908\n",
            "Relatorio de Classificacao:\n",
            "              precision    recall  f1-score   support\n",
            "\n",
            "           0       0.84      0.87      0.85       471\n",
            "           1       0.85      0.82      0.84       437\n",
            "\n",
            "    accuracy                           0.85       908\n",
            "   macro avg       0.85      0.84      0.85       908\n",
            "weighted avg       0.85      0.85      0.85       908\n",
            "\n",
            "\n",
            "\n",
            "Dano Praga vs Todos\n",
            "Parametros: {'max_depth': 50, 'min_samples_leaf': 1, 'min_samples_split': 2, 'n_estimators': 200}\n",
            "Acuracia dos testes: 85.35%\n",
            "Matriz de Confusao:\n",
            "Predito    0    1  All\n",
            "Real                  \n",
            "0        415   56  471\n",
            "1         77  360  437\n",
            "All      492  416  908\n",
            "Relatorio de Classificacao:\n",
            "              precision    recall  f1-score   support\n",
            "\n",
            "           0       0.84      0.88      0.86       471\n",
            "           1       0.87      0.82      0.84       437\n",
            "\n",
            "    accuracy                           0.85       908\n",
            "   macro avg       0.85      0.85      0.85       908\n",
            "weighted avg       0.85      0.85      0.85       908\n",
            "\n",
            "\n",
            "\n",
            "Podre vs Todos\n",
            "Parametros: {'max_depth': 50, 'min_samples_leaf': 1, 'min_samples_split': 5, 'n_estimators': 100}\n",
            "Acuracia dos testes: 79.41%\n",
            "Matriz de Confusao:\n",
            "Predito    0    1  All\n",
            "Real                  \n",
            "0        348  123  471\n",
            "1         64  373  437\n",
            "All      412  496  908\n",
            "Relatorio de Classificacao:\n",
            "              precision    recall  f1-score   support\n",
            "\n",
            "           0       0.84      0.74      0.79       471\n",
            "           1       0.75      0.85      0.80       437\n",
            "\n",
            "    accuracy                           0.79       908\n",
            "   macro avg       0.80      0.80      0.79       908\n",
            "weighted avg       0.80      0.79      0.79       908\n",
            "\n"
          ]
        }
      ],
      "source": [
        "target_names = ['0','1']\n",
        "boa, casca_grossa, dano_praga, podre, verde = leitura(\"greycoprops_cinza/\")\n",
        "print(\"Boa vs Todos\")\n",
        "x_train, x_test, y_train, y_test = boa_vs_todosRV(boa, casca_grossa, dano_praga, podre)\n",
        "rf_gridsearchcv(x_train, x_test, y_train, y_test, target_names)\n",
        "print(\"\\n\")\n",
        "print(\"Casca Grossa vs Todos\")\n",
        "x_train, x_test, y_train, y_test = casca_grossa_vs_todosRV(boa, casca_grossa, dano_praga, podre)\n",
        "rf_gridsearchcv(x_train, x_test, y_train, y_test, target_names)\n",
        "print(\"\\n\")\n",
        "print(\"Dano Praga vs Todos\")\n",
        "x_train, x_test, y_train, y_test = dano_praga_vs_todosRV(boa, casca_grossa, dano_praga, podre)\n",
        "rf_gridsearchcv(x_train, x_test, y_train, y_test, target_names)\n",
        "print(\"\\n\")\n",
        "print(\"Podre vs Todos\")\n",
        "x_train, x_test, y_train, y_test = podre_vs_todosRV(boa, casca_grossa, dano_praga, podre)\n",
        "rf_gridsearchcv(x_train, x_test, y_train, y_test, target_names)"
      ]
    },
    {
      "cell_type": "markdown",
      "metadata": {
        "id": "v7x1sSQzdxdS"
      },
      "source": [
        "### RGB"
      ]
    },
    {
      "cell_type": "code",
      "execution_count": null,
      "metadata": {
        "id": "UjDnHpzHdxdS",
        "colab": {
          "base_uri": "https://localhost:8080/"
        },
        "outputId": "959fea9f-bb73-4134-e40f-1e13fd43229a"
      },
      "outputs": [
        {
          "output_type": "stream",
          "name": "stdout",
          "text": [
            "Boa vs Todos\n",
            "Parametros: {'max_depth': 50, 'min_samples_leaf': 1, 'min_samples_split': 2, 'n_estimators': 100}\n",
            "Acuracia dos testes: 87.00%\n",
            "Matriz de Confusao:\n",
            "Predito    0    1  All\n",
            "Real                  \n",
            "0        406   65  471\n",
            "1         53  384  437\n",
            "All      459  449  908\n",
            "Relatorio de Classificacao:\n",
            "              precision    recall  f1-score   support\n",
            "\n",
            "           0       0.88      0.86      0.87       471\n",
            "           1       0.86      0.88      0.87       437\n",
            "\n",
            "    accuracy                           0.87       908\n",
            "   macro avg       0.87      0.87      0.87       908\n",
            "weighted avg       0.87      0.87      0.87       908\n",
            "\n",
            "\n",
            "\n",
            "Casca Grossa vs Todos\n",
            "Parametros: {'max_depth': 50, 'min_samples_leaf': 1, 'min_samples_split': 2, 'n_estimators': 200}\n",
            "Acuracia dos testes: 94.93%\n",
            "Matriz de Confusao:\n",
            "Predito    0    1  All\n",
            "Real                  \n",
            "0        454   17  471\n",
            "1         29  408  437\n",
            "All      483  425  908\n",
            "Relatorio de Classificacao:\n",
            "              precision    recall  f1-score   support\n",
            "\n",
            "           0       0.94      0.96      0.95       471\n",
            "           1       0.96      0.93      0.95       437\n",
            "\n",
            "    accuracy                           0.95       908\n",
            "   macro avg       0.95      0.95      0.95       908\n",
            "weighted avg       0.95      0.95      0.95       908\n",
            "\n",
            "\n",
            "\n",
            "Dano Praga vs Todos\n",
            "Parametros: {'max_depth': 50, 'min_samples_leaf': 1, 'min_samples_split': 2, 'n_estimators': 200}\n",
            "Acuracia dos testes: 88.99%\n",
            "Matriz de Confusao:\n",
            "Predito    0    1  All\n",
            "Real                  \n",
            "0        428   43  471\n",
            "1         57  380  437\n",
            "All      485  423  908\n",
            "Relatorio de Classificacao:\n",
            "              precision    recall  f1-score   support\n",
            "\n",
            "           0       0.88      0.91      0.90       471\n",
            "           1       0.90      0.87      0.88       437\n",
            "\n",
            "    accuracy                           0.89       908\n",
            "   macro avg       0.89      0.89      0.89       908\n",
            "weighted avg       0.89      0.89      0.89       908\n",
            "\n",
            "\n",
            "\n",
            "Podre vs Todos\n",
            "Parametros: {'max_depth': 50, 'min_samples_leaf': 1, 'min_samples_split': 2, 'n_estimators': 200}\n",
            "Acuracia dos testes: 86.67%\n",
            "Matriz de Confusao:\n",
            "Predito    0    1  All\n",
            "Real                  \n",
            "0        395   76  471\n",
            "1         45  392  437\n",
            "All      440  468  908\n",
            "Relatorio de Classificacao:\n",
            "              precision    recall  f1-score   support\n",
            "\n",
            "           0       0.90      0.84      0.87       471\n",
            "           1       0.84      0.90      0.87       437\n",
            "\n",
            "    accuracy                           0.87       908\n",
            "   macro avg       0.87      0.87      0.87       908\n",
            "weighted avg       0.87      0.87      0.87       908\n",
            "\n"
          ]
        }
      ],
      "source": [
        "target_names = ['0','1']\n",
        "boa, casca_grossa, dano_praga, podre, verde = leitura(\"greycoprops_colorida/\")\n",
        "print(\"Boa vs Todos\")\n",
        "x_train, x_test, y_train, y_test = boa_vs_todosRV(boa, casca_grossa, dano_praga, podre)\n",
        "rf_gridsearchcv(x_train, x_test, y_train, y_test, target_names)\n",
        "print(\"\\n\")\n",
        "print(\"Casca Grossa vs Todos\")\n",
        "x_train, x_test, y_train, y_test = casca_grossa_vs_todosRV(boa, casca_grossa, dano_praga, podre)\n",
        "rf_gridsearchcv(x_train, x_test, y_train, y_test, target_names)\n",
        "print(\"\\n\")\n",
        "print(\"Dano Praga vs Todos\")\n",
        "x_train, x_test, y_train, y_test = dano_praga_vs_todosRV(boa, casca_grossa, dano_praga, podre)\n",
        "rf_gridsearchcv(x_train, x_test, y_train, y_test, target_names)\n",
        "print(\"\\n\")\n",
        "print(\"Podre vs Todos\")\n",
        "x_train, x_test, y_train, y_test = podre_vs_todosRV(boa, casca_grossa, dano_praga, podre)\n",
        "rf_gridsearchcv(x_train, x_test, y_train, y_test, target_names)"
      ]
    },
    {
      "cell_type": "markdown",
      "metadata": {
        "id": "EuNHFW4KeFTL"
      },
      "source": [
        "## SVM"
      ]
    },
    {
      "cell_type": "markdown",
      "source": [
        "### Tons de Cinza"
      ],
      "metadata": {
        "id": "aWVJ91Yz85g7"
      }
    },
    {
      "cell_type": "code",
      "execution_count": null,
      "metadata": {
        "id": "iYTZOt5EeFTM",
        "colab": {
          "base_uri": "https://localhost:8080/"
        },
        "outputId": "e0356582-5640-42fe-a9f9-21f6a00628bf"
      },
      "outputs": [
        {
          "output_type": "stream",
          "name": "stdout",
          "text": [
            "Boa vs Todos\n",
            "Parametros: {'C': 1000, 'gamma': 1, 'kernel': 'rbf'}\n",
            "Acuracia dos testes: 84.36%\n",
            "Matriz de Confusao:\n",
            "Predito    0    1  All\n",
            "Real                  \n",
            "0        405   66  471\n",
            "1         76  361  437\n",
            "All      481  427  908\n",
            "Relatorio de Classificacao:\n",
            "              precision    recall  f1-score   support\n",
            "\n",
            "           0       0.84      0.86      0.85       471\n",
            "           1       0.85      0.83      0.84       437\n",
            "\n",
            "    accuracy                           0.84       908\n",
            "   macro avg       0.84      0.84      0.84       908\n",
            "weighted avg       0.84      0.84      0.84       908\n",
            "\n",
            "\n",
            "\n",
            "Casca Grossa vs Todos\n",
            "Parametros: {'C': 1000, 'gamma': 1, 'kernel': 'rbf'}\n",
            "Acuracia dos testes: 88.77%\n",
            "Matriz de Confusao:\n",
            "Predito    0    1  All\n",
            "Real                  \n",
            "0        426   45  471\n",
            "1         57  380  437\n",
            "All      483  425  908\n",
            "Relatorio de Classificacao:\n",
            "              precision    recall  f1-score   support\n",
            "\n",
            "           0       0.88      0.90      0.89       471\n",
            "           1       0.89      0.87      0.88       437\n",
            "\n",
            "    accuracy                           0.89       908\n",
            "   macro avg       0.89      0.89      0.89       908\n",
            "weighted avg       0.89      0.89      0.89       908\n",
            "\n",
            "\n",
            "\n",
            "Dano Praga vs Todos\n",
            "Parametros: {'C': 1000, 'gamma': 1, 'kernel': 'rbf'}\n",
            "Acuracia dos testes: 88.44%\n",
            "Matriz de Confusao:\n",
            "Predito    0    1  All\n",
            "Real                  \n",
            "0        432   39  471\n",
            "1         66  371  437\n",
            "All      498  410  908\n",
            "Relatorio de Classificacao:\n",
            "              precision    recall  f1-score   support\n",
            "\n",
            "           0       0.87      0.92      0.89       471\n",
            "           1       0.90      0.85      0.88       437\n",
            "\n",
            "    accuracy                           0.88       908\n",
            "   macro avg       0.89      0.88      0.88       908\n",
            "weighted avg       0.89      0.88      0.88       908\n",
            "\n",
            "\n",
            "\n",
            "Podre vs Todos\n",
            "Parametros: {'C': 1000, 'gamma': 1, 'kernel': 'rbf'}\n",
            "Acuracia dos testes: 81.39%\n",
            "Matriz de Confusao:\n",
            "Predito    0    1  All\n",
            "Real                  \n",
            "0        373   98  471\n",
            "1         71  366  437\n",
            "All      444  464  908\n",
            "Relatorio de Classificacao:\n",
            "              precision    recall  f1-score   support\n",
            "\n",
            "           0       0.84      0.79      0.82       471\n",
            "           1       0.79      0.84      0.81       437\n",
            "\n",
            "    accuracy                           0.81       908\n",
            "   macro avg       0.81      0.81      0.81       908\n",
            "weighted avg       0.82      0.81      0.81       908\n",
            "\n"
          ]
        }
      ],
      "source": [
        "target_names = ['0','1']\n",
        "boa, casca_grossa, dano_praga, podre, verde = leitura(\"greycoprops_cinza/\")\n",
        "print(\"Boa vs Todos\")\n",
        "x_train, x_test, y_train, y_test = boa_vs_todosRV(boa, casca_grossa, dano_praga, podre)\n",
        "svm_gridsearchcv(x_train, x_test, y_train, y_test, target_names)\n",
        "print(\"\\n\")\n",
        "print(\"Casca Grossa vs Todos\")\n",
        "x_train, x_test, y_train, y_test = casca_grossa_vs_todosRV(boa, casca_grossa, dano_praga, podre)\n",
        "svm_gridsearchcv(x_train, x_test, y_train, y_test, target_names)\n",
        "print(\"\\n\")\n",
        "print(\"Dano Praga vs Todos\")\n",
        "x_train, x_test, y_train, y_test = dano_praga_vs_todosRV(boa, casca_grossa, dano_praga, podre)\n",
        "svm_gridsearchcv(x_train, x_test, y_train, y_test, target_names)\n",
        "print(\"\\n\")\n",
        "print(\"Podre vs Todos\")\n",
        "x_train, x_test, y_train, y_test = podre_vs_todosRV(boa, casca_grossa, dano_praga, podre)\n",
        "svm_gridsearchcv(x_train, x_test, y_train, y_test, target_names)"
      ]
    },
    {
      "cell_type": "markdown",
      "metadata": {
        "id": "G7FzyjKleFTM"
      },
      "source": [
        "### RGB"
      ]
    },
    {
      "cell_type": "code",
      "execution_count": null,
      "metadata": {
        "id": "xHM7DKyUeFTN",
        "colab": {
          "base_uri": "https://localhost:8080/"
        },
        "outputId": "41a59130-0133-48cf-c022-1989f58794bd"
      },
      "outputs": [
        {
          "output_type": "stream",
          "name": "stdout",
          "text": [
            "Boa vs Todos\n",
            "Parametros: {'C': 100, 'gamma': 1, 'kernel': 'rbf'}\n",
            "Acuracia dos testes: 91.41%\n",
            "Matriz de Confusao:\n",
            "Predito    0    1  All\n",
            "Real                  \n",
            "0        431   40  471\n",
            "1         38  399  437\n",
            "All      469  439  908\n",
            "Relatorio de Classificacao:\n",
            "              precision    recall  f1-score   support\n",
            "\n",
            "           0       0.92      0.92      0.92       471\n",
            "           1       0.91      0.91      0.91       437\n",
            "\n",
            "    accuracy                           0.91       908\n",
            "   macro avg       0.91      0.91      0.91       908\n",
            "weighted avg       0.91      0.91      0.91       908\n",
            "\n",
            "\n",
            "\n",
            "Casca Grossa vs Todos\n",
            "Parametros: {'C': 100, 'gamma': 1, 'kernel': 'rbf'}\n",
            "Acuracia dos testes: 97.36%\n",
            "Matriz de Confusao:\n",
            "Predito    0    1  All\n",
            "Real                  \n",
            "0        464    7  471\n",
            "1         17  420  437\n",
            "All      481  427  908\n",
            "Relatorio de Classificacao:\n",
            "              precision    recall  f1-score   support\n",
            "\n",
            "           0       0.96      0.99      0.97       471\n",
            "           1       0.98      0.96      0.97       437\n",
            "\n",
            "    accuracy                           0.97       908\n",
            "   macro avg       0.97      0.97      0.97       908\n",
            "weighted avg       0.97      0.97      0.97       908\n",
            "\n",
            "\n",
            "\n",
            "Dano Praga vs Todos\n",
            "Parametros: {'C': 1000, 'gamma': 1, 'kernel': 'rbf'}\n",
            "Acuracia dos testes: 94.38%\n",
            "Matriz de Confusao:\n",
            "Predito    0    1  All\n",
            "Real                  \n",
            "0        453   18  471\n",
            "1         33  404  437\n",
            "All      486  422  908\n",
            "Relatorio de Classificacao:\n",
            "              precision    recall  f1-score   support\n",
            "\n",
            "           0       0.93      0.96      0.95       471\n",
            "           1       0.96      0.92      0.94       437\n",
            "\n",
            "    accuracy                           0.94       908\n",
            "   macro avg       0.94      0.94      0.94       908\n",
            "weighted avg       0.94      0.94      0.94       908\n",
            "\n",
            "\n",
            "\n",
            "Podre vs Todos\n",
            "Parametros: {'C': 1000, 'gamma': 1, 'kernel': 'rbf'}\n",
            "Acuracia dos testes: 93.50%\n",
            "Matriz de Confusao:\n",
            "Predito    0    1  All\n",
            "Real                  \n",
            "0        442   29  471\n",
            "1         30  407  437\n",
            "All      472  436  908\n",
            "Relatorio de Classificacao:\n",
            "              precision    recall  f1-score   support\n",
            "\n",
            "           0       0.94      0.94      0.94       471\n",
            "           1       0.93      0.93      0.93       437\n",
            "\n",
            "    accuracy                           0.94       908\n",
            "   macro avg       0.93      0.93      0.93       908\n",
            "weighted avg       0.94      0.94      0.94       908\n",
            "\n"
          ]
        }
      ],
      "source": [
        "target_names = ['0','1']\n",
        "boa, casca_grossa, dano_praga, podre, verde = leitura(\"greycoprops_colorida/\")\n",
        "print(\"Boa vs Todos\")\n",
        "x_train, x_test, y_train, y_test = boa_vs_todosRV(boa, casca_grossa, dano_praga, podre)\n",
        "svm_gridsearchcv(x_train, x_test, y_train, y_test, target_names)\n",
        "print(\"\\n\")\n",
        "print(\"Casca Grossa vs Todos\")\n",
        "x_train, x_test, y_train, y_test = casca_grossa_vs_todosRV(boa, casca_grossa, dano_praga, podre)\n",
        "svm_gridsearchcv(x_train, x_test, y_train, y_test, target_names)\n",
        "print(\"\\n\")\n",
        "print(\"Dano Praga vs Todos\")\n",
        "x_train, x_test, y_train, y_test = dano_praga_vs_todosRV(boa, casca_grossa, dano_praga, podre)\n",
        "svm_gridsearchcv(x_train, x_test, y_train, y_test, target_names)\n",
        "print(\"\\n\")\n",
        "print(\"Podre vs Todos\")\n",
        "x_train, x_test, y_train, y_test = podre_vs_todosRV(boa, casca_grossa, dano_praga, podre)\n",
        "svm_gridsearchcv(x_train, x_test, y_train, y_test, target_names)"
      ]
    }
  ],
  "metadata": {
    "colab": {
      "collapsed_sections": [],
      "name": "classificacao-laranjas.ipynb",
      "toc_visible": true,
      "provenance": [],
      "mount_file_id": "1cTQ57sr_5KgaiGY90P7Mh38hpVr0-Vor",
      "authorship_tag": "ABX9TyMrQxzWO0T45Uk9AAcAHvV0",
      "include_colab_link": true
    },
    "kernelspec": {
      "display_name": "Python 3",
      "name": "python3"
    },
    "language_info": {
      "name": "python"
    }
  },
  "nbformat": 4,
  "nbformat_minor": 0
}