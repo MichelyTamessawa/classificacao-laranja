{
  "cells": [
    {
      "cell_type": "markdown",
      "metadata": {
        "id": "view-in-github",
        "colab_type": "text"
      },
      "source": [
        "<a href=\"https://colab.research.google.com/github/MichelyTamessawa/classificacao-laranja/blob/master/classificacao_laranjas.ipynb\" target=\"_parent\"><img src=\"https://colab.research.google.com/assets/colab-badge.svg\" alt=\"Open In Colab\"/></a>"
      ]
    },
    {
      "cell_type": "code",
      "execution_count": null,
      "metadata": {
        "id": "trxXTgVS2m9M"
      },
      "outputs": [],
      "source": [
        "import pandas as pd\n",
        "from sklearn.neighbors import KNeighborsClassifier\n",
        "from sklearn.ensemble import RandomForestClassifier\n",
        "from sklearn.svm import SVC\n",
        "from sklearn.model_selection import GridSearchCV, train_test_split\n",
        "from sklearn.metrics import accuracy_score, classification_report\n",
        "from sklearn.preprocessing import MinMaxScaler"
      ]
    },
    {
      "cell_type": "markdown",
      "metadata": {
        "id": "dAfj6ssg3vRm"
      },
      "source": [
        "# **Leitura do Dataset**"
      ]
    },
    {
      "cell_type": "code",
      "execution_count": null,
      "metadata": {
        "id": "q9V2jC1Kf0f4"
      },
      "outputs": [],
      "source": [
        "def leitura(diretorio):\n",
        "  siglas_laranjas = [\"B\", \"C\", \"D\", \"P\", \"V\"]\n",
        "  classes_laranjas = [\"Boa\", \"Casca Grossa\", \"Dano Praga\", \"Podre\", \"Verde\"]\n",
        "  caminho_drive = \"/content/drive/MyDrive/4 ano/tcc/classificação de laranjas/\"\n",
        "\n",
        "  # inicialização dos objetos do tipo DataFrame que vão armazenar os dados da base de dados\n",
        "  boa = pd.DataFrame()\n",
        "  casca_grossa = pd.DataFrame()\n",
        "  dano_praga = pd.DataFrame()\n",
        "  podre = pd.DataFrame()\n",
        "  verde = pd.DataFrame()\n",
        "\n",
        "  for i, classe in enumerate(classes_laranjas):\n",
        "    for j in range(1, 11):\n",
        "\n",
        "      # caminho de diretórios até o arquivo da base  \n",
        "      caminho = caminho_drive + diretorio + classe + \"/Fold \" + str(j) + siglas_laranjas[i] + \".csv\"\n",
        "      \n",
        "      # leiturclassea de uma linha do arquivo \n",
        "      linha = pd.read_csv(caminho)\n",
        "      \n",
        "      # a linha que foi lida é adicionada ao DataFrame da sua classe\n",
        "      if classe == \"Boa\":\n",
        "          boa = pd.concat([boa, linha],ignore_index=True)\n",
        "      elif classe == \"Casca Grossa\":\n",
        "          casca_grossa = pd.concat([casca_grossa, linha],ignore_index=True)\n",
        "      elif classe == \"Dano Praga\":\n",
        "          dano_praga = pd.concat([dano_praga, linha],ignore_index=True)\n",
        "      elif classe == \"Podre\":\n",
        "          podre = pd.concat([podre, linha],ignore_index=True)\n",
        "      elif classe == \"Verde\":\n",
        "          verde = pd.concat([verde, linha],ignore_index=True)\n",
        "  \n",
        "  return boa, casca_grossa, dano_praga, podre, verde"
      ]
    },
    {
      "cell_type": "markdown",
      "metadata": {
        "id": "Hx-yiNOzNREL"
      },
      "source": [
        "# **Classificação Multiclasses**"
      ]
    },
    {
      "cell_type": "code",
      "execution_count": null,
      "metadata": {
        "id": "K_CfhOohNT8_"
      },
      "outputs": [],
      "source": [
        "def todos_vs_todos(boa, casca_grossa, dano_praga, podre, verde):\n",
        "  df = pd.concat([boa, casca_grossa, dano_praga, podre, verde], axis=0, ignore_index=True)\n",
        "  \n",
        "  X = df.drop(\"class\", axis=1)\n",
        "  y = df[\"class\"]\n",
        "  \n",
        "  x_train, x_test, y_train, y_test = train_test_split(X, y, test_size=0.2,random_state=42)\n",
        "  \n",
        "  return x_train, x_test, y_train, y_test"
      ]
    },
    {
      "cell_type": "markdown",
      "source": [
        "# **Classificação Binária: (Um-vs-Todos)**"
      ],
      "metadata": {
        "id": "s3s-o89J6JYO"
      }
    },
    {
      "cell_type": "markdown",
      "metadata": {
        "id": "4803uudvAK5b"
      },
      "source": [
        "## Divisão de inteiros por 4"
      ]
    },
    {
      "cell_type": "code",
      "execution_count": null,
      "metadata": {
        "id": "CO9_20cT5i9W"
      },
      "outputs": [],
      "source": [
        "def divide_quatro_partes(num):\n",
        "  resto = num % 4\n",
        "\n",
        "  if resto == 0:\n",
        "      return [num//4, num//4, num//4, num//4]\n",
        "  elif resto == 3:\n",
        "      return [num//4+1, num//4+1, num//4+1, num//4]\n",
        "  elif resto == 2:\n",
        "      return [num//4+1, num//4+1, num//4, num//4]\n",
        "  elif resto == 1:\n",
        "      return [num//4+1, num//4, num//4, num//4]"
      ]
    },
    {
      "cell_type": "markdown",
      "metadata": {
        "id": "g8ZTX7xfayVm"
      },
      "source": [
        "## Divisão de inteiros por 3"
      ]
    },
    {
      "cell_type": "code",
      "execution_count": null,
      "metadata": {
        "id": "AbFHlzGJa4k3"
      },
      "outputs": [],
      "source": [
        "def divide_tres_partes(num):\n",
        "    resto = num % 3\n",
        "\n",
        "    if resto == 0:\n",
        "        return [num//3, num//3, num//3]\n",
        "    elif resto == 2:\n",
        "        return [num//3+1, num//3+1, num//3]\n",
        "    elif resto == 1:\n",
        "        return [num//3+1, num//3, num//3]"
      ]
    },
    {
      "cell_type": "markdown",
      "source": [
        "## Divisão de inteiros por 2"
      ],
      "metadata": {
        "id": "CSzHMXuAUeBq"
      }
    },
    {
      "cell_type": "code",
      "source": [
        "def divide_duas_partes(num):\n",
        "    resto = num % 2\n",
        "\n",
        "    if resto == 0:\n",
        "        return [num//2, num//2]\n",
        "    elif resto == 1:\n",
        "        return [num//2+1, num//2]"
      ],
      "metadata": {
        "id": "Uz5NLOyvUccX"
      },
      "execution_count": null,
      "outputs": []
    },
    {
      "cell_type": "markdown",
      "metadata": {
        "id": "RUWUVzZUAU_R"
      },
      "source": [
        "## Balanceamento das classes"
      ]
    },
    {
      "cell_type": "code",
      "execution_count": null,
      "metadata": {
        "id": "72X4LVmT3KlX"
      },
      "outputs": [],
      "source": [
        "def boa_vs_todos(boa, casca_grossa, dano_praga, podre, verde):\n",
        "  n_classe  = boa.shape[0]\n",
        "  divisao_classes = divide_quatro_partes(n_classe)\n",
        "\n",
        "  c = casca_grossa.sample(n=divisao_classes[0],random_state=1)\n",
        "  d = dano_praga.sample(n=divisao_classes[1],random_state=1)\n",
        "  p = podre.sample(n=divisao_classes[2],random_state=1)\n",
        "  v = verde.sample(n=divisao_classes[3],random_state=1)\n",
        "\n",
        "  df = pd.concat([boa, c, d, p, v], axis=0, ignore_index=True)\n",
        "  df[\"class\"].replace({2:1, 3:1, 4:1}, inplace=True)\n",
        "\n",
        "  X = df.drop(\"class\", axis=1)\n",
        "  y = df[\"class\"]\n",
        "\n",
        "  x_train, x_test, y_train, y_test = train_test_split(X, y, test_size=0.2,random_state=42)\n",
        "  \n",
        "  return x_train, x_test, y_train, y_test\n",
        "\n",
        "\n",
        "def casca_grossa_vs_todos(boa, casca_grossa, dano_praga, podre, verde):\n",
        "  n_classe  = casca_grossa.shape[0]\n",
        "  divisao_classes = divide_quatro_partes(n_classe)\n",
        "\n",
        "  b = boa.sample(n=divisao_classes[0],random_state=1)\n",
        "  d = dano_praga.sample(n=divisao_classes[1],random_state=1)\n",
        "  p = podre.sample(n=divisao_classes[2],random_state=1)\n",
        "  v = verde.sample(n=divisao_classes[3],random_state=1)\n",
        "  \n",
        "  df = pd.concat([casca_grossa, b, d, p, v], axis=0, ignore_index=True)\n",
        "  df[\"class\"].replace({0:1, 1:0, 2:1, 3:1, 4:1}, inplace=True)\n",
        "  \n",
        "  X = df.drop(\"class\", axis=1)\n",
        "  y = df[\"class\"]\n",
        "\n",
        "  x_train, x_test, y_train, y_test = train_test_split(X, y, test_size=0.2,random_state=42)\n",
        "  \n",
        "  return x_train, x_test, y_train, y_test\n",
        "\n",
        "\n",
        "def dano_praga_vs_todos(boa, casca_grossa, dano_praga, podre, verde):\n",
        "  n_classe  = dano_praga.shape[0]\n",
        "  divisao_classes = divide_quatro_partes(n_classe)\n",
        "\n",
        "  b = boa.sample(n=divisao_classes[0],random_state=1)\n",
        "  c = casca_grossa.sample(n=divisao_classes[1],random_state=1)\n",
        "  p = podre.sample(n=divisao_classes[2],random_state=1)\n",
        "  v = verde.sample(n=divisao_classes[3],random_state=1)\n",
        "    \n",
        "  df = pd.concat([dano_praga, c, b, p, v], axis=0, ignore_index=True)\n",
        "  df[\"class\"].replace({0:1, 2:0, 3:1, 4:1}, inplace=True)\n",
        "  \n",
        "  X = df.drop(\"class\", axis=1)\n",
        "  y = df[\"class\"]\n",
        "      \n",
        "  x_train, x_test, y_train, y_test = train_test_split(X, y, test_size=0.2,random_state=42)\n",
        "\n",
        "  return x_train, x_test, y_train, y_test\n",
        "\n",
        "\n",
        "def podre_vs_todos(boa, casca_grossa, dano_praga, podre, verde):\n",
        "  n_classe  = podre.shape[0]\n",
        "  divisao_classes = divide_quatro_partes(n_classe)\n",
        "\n",
        "  b = boa.sample(n=divisao_classes[0],random_state=1)\n",
        "  c = casca_grossa.sample(n=divisao_classes[1],random_state=1)\n",
        "  d = dano_praga.sample(n=divisao_classes[2],random_state=1)\n",
        "  v = verde.sample(n=divisao_classes[3],random_state=1)\n",
        "    \n",
        "  df = pd.concat([podre, c, b, d, v], axis=0, ignore_index=True)\n",
        "  df[\"class\"].replace({0:1, 2:1, 3:0, 4:1}, inplace=True)\n",
        "\n",
        "  X = df.drop(\"class\", axis=1)\n",
        "  y = df[\"class\"]\n",
        "      \n",
        "  x_train, x_test, y_train, y_test = train_test_split(X, y, test_size=0.2,random_state=42)\n",
        "\n",
        "  return x_train, x_test, y_train, y_test\n",
        "\n",
        "\n",
        "def verde_vs_todos(boa, casca_grossa, dano_praga, podre, verde):\n",
        "  n_classe  = verde.shape[0]\n",
        "  divisao_classes = divide_quatro_partes(n_classe)\n",
        "\n",
        "  b = boa.sample(n=divisao_classes[0],random_state=1)\n",
        "  c = casca_grossa.sample(n=divisao_classes[1],random_state=1)\n",
        "  d = dano_praga.sample(n=divisao_classes[2],random_state=1)\n",
        "  p = podre.sample(n=divisao_classes[3],random_state=1)\n",
        "\n",
        "  df = pd.concat([verde, c, b, p, d], axis=0, ignore_index=True)\n",
        "  df[\"class\"].replace({0:1, 2:1, 3:1, 4:0}, inplace=True)  \n",
        "\n",
        "  X = df.drop(\"class\", axis=1)\n",
        "  y = df[\"class\"]\n",
        "\n",
        "  x_train, x_test, y_train, y_test = train_test_split(X, y, test_size=0.2,random_state=42)\n",
        "\n",
        "  return x_train, x_test, y_train, y_test"
      ]
    },
    {
      "cell_type": "markdown",
      "metadata": {
        "id": "bVJbxzUobITv"
      },
      "source": [
        "## Balanceamento das classes removendo a Verde (RV)"
      ]
    },
    {
      "cell_type": "code",
      "execution_count": null,
      "metadata": {
        "id": "zTgRxDmJbMy_"
      },
      "outputs": [],
      "source": [
        "def boa_vs_todosRV(boa, casca_grossa, dano_praga, podre):\n",
        "  n_classe  = boa.shape[0]\n",
        "  divisao_classes = divide_tres_partes(n_classe)\n",
        "\n",
        "  c = casca_grossa.sample(n=divisao_classes[0],random_state=1)\n",
        "  d = dano_praga.sample(n=divisao_classes[1],random_state=1)\n",
        "  p = podre.sample(n=divisao_classes[2],random_state=1)\n",
        "\n",
        "  df = pd.concat([boa, c, d, p], axis=0, ignore_index=True)\n",
        "  df[\"class\"].replace({2:1, 3:1}, inplace=True)\n",
        "  \n",
        "  X = df.drop(\"class\", axis=1)\n",
        "  y = df[\"class\"]\n",
        "\n",
        "  x_train, x_test, y_train, y_test = train_test_split(X, y, test_size=0.2,random_state=42)\n",
        "  \n",
        "  return x_train, x_test, y_train, y_test\n",
        "\n",
        "\n",
        "def casca_grossa_vs_todosRV(boa, casca_grossa, dano_praga, podre):\n",
        "  n_classe  = casca_grossa.shape[0]\n",
        "  divisao_classes = divide_tres_partes(n_classe)\n",
        "\n",
        "  b = boa.sample(n=divisao_classes[0],random_state=1)\n",
        "  d = dano_praga.sample(n=divisao_classes[1],random_state=1)\n",
        "  p = podre.sample(n=divisao_classes[2],random_state=1)\n",
        "\n",
        "  df = pd.concat([casca_grossa, b, d, p], axis=0, ignore_index=True)\n",
        "  df[\"class\"].replace({0:1, 1:0, 2:1, 3:1}, inplace=True)\n",
        "  \n",
        "  X = df.drop(\"class\", axis=1)\n",
        "  y = df[\"class\"]\n",
        "\n",
        "  x_train, x_test, y_train, y_test = train_test_split(X, y, test_size=0.2,random_state=42)\n",
        "  \n",
        "  return x_train, x_test, y_train, y_test\n",
        "\n",
        "\n",
        "def dano_praga_vs_todosRV(boa, casca_grossa, dano_praga, podre):\n",
        "  n_classe  = dano_praga.shape[0]\n",
        "  divisao_classes = divide_tres_partes(n_classe)\n",
        "\n",
        "  b = boa.sample(n=divisao_classes[0],random_state=1)\n",
        "  c = casca_grossa.sample(n=divisao_classes[1],random_state=1)\n",
        "  p = podre.sample(n=divisao_classes[2],random_state=1)\n",
        "    \n",
        "  df = pd.concat([dano_praga, c, b, p], axis=0, ignore_index=True)\n",
        "  df[\"class\"].replace({0:1, 2:0, 3:1}, inplace=True)\n",
        "  \n",
        "  X = df.drop(\"class\", axis=1)\n",
        "  y = df[\"class\"]\n",
        "      \n",
        "  x_train, x_test, y_train, y_test = train_test_split(X, y, test_size=0.2,random_state=42)\n",
        "\n",
        "  return x_train, x_test, y_train, y_test\n",
        "\n",
        "\n",
        "def podre_vs_todosRV(boa, casca_grossa, dano_praga, podre):\n",
        "  n_classe  = podre.shape[0]\n",
        "  divisao_classes = divide_tres_partes(n_classe)\n",
        "\n",
        "  b = boa.sample(n=divisao_classes[0],random_state=1)\n",
        "  c = casca_grossa.sample(n=divisao_classes[1],random_state=1)\n",
        "  d = dano_praga.sample(n=divisao_classes[2],random_state=1)\n",
        "      \n",
        "  df = pd.concat([podre, c, b, d], axis=0, ignore_index=True)\n",
        "  df[\"class\"].replace({0:1, 2:1, 3:0}, inplace=True)\n",
        "\n",
        "  X = df.drop(\"class\", axis=1)\n",
        "  y = df[\"class\"]\n",
        "      \n",
        "  x_train, x_test, y_train, y_test = train_test_split(X, y, test_size=0.2,random_state=42)\n",
        "\n",
        "  return x_train, x_test, y_train, y_test"
      ]
    },
    {
      "cell_type": "markdown",
      "source": [
        "## Balanceamento das classes removendo a Casca Grossa (RCG)"
      ],
      "metadata": {
        "id": "lNq3YuNnU1s0"
      }
    },
    {
      "cell_type": "code",
      "source": [
        "def boa_vs_todosRCG(boa, dano_praga, podre):\n",
        "  n_classe  = boa.shape[0]\n",
        "  divisao_classes = divide_duas_partes(n_classe)\n",
        "\n",
        "  d = dano_praga.sample(n=divisao_classes[0],random_state=1)\n",
        "  p = podre.sample(n=divisao_classes[1],random_state=1)\n",
        "\n",
        "  df = pd.concat([boa, d, p], axis=0, ignore_index=True)\n",
        "  df[\"class\"].replace({2:1, 3:1}, inplace=True)\n",
        "  \n",
        "  X = df.drop(\"class\", axis=1)\n",
        "  y = df[\"class\"]\n",
        "\n",
        "  x_train, x_test, y_train, y_test = train_test_split(X, y, test_size=0.2,random_state=42)\n",
        "  \n",
        "  return x_train, x_test, y_train, y_test\n",
        "\n",
        "\n",
        "def dano_praga_vs_todosRCG(boa, dano_praga, podre):\n",
        "  n_classe  = dano_praga.shape[0]\n",
        "  divisao_classes = divide_duas_partes(n_classe)\n",
        "\n",
        "  b = boa.sample(n=divisao_classes[0],random_state=1)\n",
        "  p = podre.sample(n=divisao_classes[1],random_state=1)\n",
        "    \n",
        "  df = pd.concat([dano_praga, b, p], axis=0, ignore_index=True)\n",
        "  df[\"class\"].replace({0:1, 2:0, 3:1}, inplace=True)\n",
        "  \n",
        "  X = df.drop(\"class\", axis=1)\n",
        "  y = df[\"class\"]\n",
        "      \n",
        "  x_train, x_test, y_train, y_test = train_test_split(X, y, test_size=0.2,random_state=42)\n",
        "\n",
        "  return x_train, x_test, y_train, y_test\n",
        "\n",
        "\n",
        "def podre_vs_todosRCG(boa, dano_praga, podre):\n",
        "  n_classe  = podre.shape[0]\n",
        "  divisao_classes = divide_duas_partes(n_classe)\n",
        "\n",
        "  b = boa.sample(n=divisao_classes[0],random_state=1)\n",
        "  d = dano_praga.sample(n=divisao_classes[1],random_state=1)\n",
        "      \n",
        "  df = pd.concat([podre, b, d], axis=0, ignore_index=True)\n",
        "  df[\"class\"].replace({0:1, 2:1, 3:0}, inplace=True)\n",
        "\n",
        "  X = df.drop(\"class\", axis=1)\n",
        "  y = df[\"class\"]\n",
        "      \n",
        "  x_train, x_test, y_train, y_test = train_test_split(X, y, test_size=0.2,random_state=42)\n",
        "\n",
        "  return x_train, x_test, y_train, y_test"
      ],
      "metadata": {
        "id": "DZk2wHplUygg"
      },
      "execution_count": null,
      "outputs": []
    },
    {
      "cell_type": "markdown",
      "metadata": {
        "id": "MLCi2L_1_y4c"
      },
      "source": [
        "# **Classificadores**"
      ]
    },
    {
      "cell_type": "markdown",
      "metadata": {
        "id": "DabWF566D4ju"
      },
      "source": [
        "## K-NN"
      ]
    },
    {
      "cell_type": "code",
      "execution_count": null,
      "metadata": {
        "id": "IfGYSPqZD8hk"
      },
      "outputs": [],
      "source": [
        "def knn_gridsearchcv(x_train, x_test, y_train, y_test, target_names):\n",
        "  # Normalizacao dos dados\n",
        "  scaler = MinMaxScaler()\n",
        "  X_train_scaled = scaler.fit_transform(x_train)\n",
        "  X_test_scaled = scaler.transform(x_test)\n",
        "  \n",
        "  knn = KNeighborsClassifier()\n",
        "  \n",
        "  param_grid = {\n",
        "      'n_neighbors': range(1,30),\n",
        "      'leaf_size': (20,40,1),\n",
        "      'p': (1,2),\n",
        "      'weights': ('uniform', 'distance'),\n",
        "      'metric': ('minkowski', 'chebyshev') }\n",
        "\n",
        "  # Treinamento com gridsearch\n",
        "  grid = GridSearchCV(estimator=knn, param_grid=param_grid, cv=10, refit='True', scoring='accuracy')\n",
        "  grid_search = grid.fit(X_train_scaled, y_train)\n",
        "  print(\"Parametros: {}\".format(grid_search.best_params_))\n",
        "  \n",
        "  # Teste\n",
        "  y_test_result = grid.predict(X_test_scaled)\n",
        "  test_accuracy = accuracy_score(y_test, y_test_result)*100\n",
        "  print(\"Acuracia dos testes: {:.2f}%\".format(test_accuracy))\n",
        "\n",
        "  # Matriz de Confusao\n",
        "  print(\"Matriz de Confusao:\")\n",
        "  print (pd.crosstab(y_test, y_test_result, rownames=['Real'], colnames=['Predito'], margins=True))\n",
        "\n",
        "  # Relatorio de Classificacao \n",
        "  print(\"Relatorio de Classificacao:\")\n",
        "  print(classification_report(y_test, y_test_result, target_names=target_names))"
      ]
    },
    {
      "cell_type": "markdown",
      "metadata": {
        "id": "sQIWmUeaAl8O"
      },
      "source": [
        "## Random Forest"
      ]
    },
    {
      "cell_type": "code",
      "execution_count": null,
      "metadata": {
        "id": "QQmNEefaAlSH"
      },
      "outputs": [],
      "source": [
        "def rf_gridsearchcv(x_train, x_test, y_train, y_test, target_names):\n",
        "  # Normalizacao dos dados\n",
        "  scaler = MinMaxScaler()\n",
        "  X_train_scaled = scaler.fit_transform(x_train)\n",
        "  X_test_scaled = scaler.transform(x_test)\n",
        "\n",
        "  rf = RandomForestClassifier(random_state=0)\n",
        "  \n",
        "  param_grid = {\n",
        "    'max_depth': [10, 50],\n",
        "    'min_samples_leaf': [1,3],\n",
        "    'min_samples_split': [2,5],\n",
        "    'n_estimators': [100, 200]\n",
        "  }\n",
        "\n",
        "  # Treinamento com gridsearch\n",
        "  grid = GridSearchCV(rf, param_grid, cv=10, refit='True', scoring='accuracy')\n",
        "  grid_search = grid.fit(X_train_scaled, y_train)\n",
        "  print(\"Parametros: {}\".format(grid_search.best_params_))\n",
        "\n",
        "  # Teste\n",
        "  y_test_result = grid.predict(X_test_scaled)\n",
        "  test_accuracy = accuracy_score(y_test, y_test_result)*100\n",
        "  print(\"Acuracia dos testes: {:.2f}%\".format(test_accuracy))\n",
        "\n",
        "  # Matriz de Confusao\n",
        "  print(\"Matriz de Confusao:\")\n",
        "  print (pd.crosstab(y_test, y_test_result, rownames=['Real'], colnames=['Predito'], margins=True))\n",
        "\n",
        "  # Relatorio de Classificacao \n",
        "  print(\"Relatorio de Classificacao:\")\n",
        "  print(classification_report(y_test, y_test_result, target_names=target_names))\n"
      ]
    },
    {
      "cell_type": "markdown",
      "metadata": {
        "id": "Urp4Rc1HNncW"
      },
      "source": [
        "## Classificador SVM"
      ]
    },
    {
      "cell_type": "code",
      "execution_count": null,
      "metadata": {
        "id": "iuIMzdu8NrDV"
      },
      "outputs": [],
      "source": [
        "def svm_gridsearchcv(x_train, x_test, y_train, y_test, target_names):\n",
        "  # Normalizacao dos dados\n",
        "  scaler = MinMaxScaler()\n",
        "  X_train_scaled = scaler.fit_transform(x_train)\n",
        "  X_test_scaled = scaler.transform(x_test)\n",
        "\n",
        "  svm = SVC()\n",
        "  \n",
        "  param_grid = [\n",
        "    {\"kernel\": ['rbf'], \"gamma\": [1, 0.1, 0.01, 0.001, 0.0001], \"C\": [0.1, 1, 10, 100, 1000]},\n",
        "    {\"kernel\": [\"linear\"], \"C\": [1, 10, 100, 1000]},\n",
        "  ]\n",
        "              \n",
        "  # Treinamento com gridsearch\n",
        "  grid = GridSearchCV(svm, param_grid, cv=10, refit=True, scoring='accuracy', n_jobs=-1)\n",
        "  grid_search = grid.fit(X_train_scaled, y_train)\n",
        "  print(\"Parametros: {}\".format(grid_search.best_params_))\n",
        "\n",
        "  # Teste\n",
        "  y_test_result = grid.predict(X_test_scaled)\n",
        "  test_accuracy = accuracy_score(y_test, y_test_result)*100\n",
        "  print(\"Acuracia dos testes: {:.2f}%\".format(test_accuracy))\n",
        "\n",
        "  # Matriz de Confusao\n",
        "  print(\"Matriz de Confusao:\")\n",
        "  print (pd.crosstab(y_test, y_test_result, rownames=['Real'], colnames=['Predito'], margins=True))\n",
        "\n",
        "  # Relatorio de Classificacao \n",
        "  print(\"Relatorio de Classificacao:\")\n",
        "  print(classification_report(y_test, y_test_result, target_names=target_names))"
      ]
    },
    {
      "cell_type": "markdown",
      "metadata": {
        "id": "jRc-PzxyzKjV"
      },
      "source": [
        "# **>> Execuções <<**"
      ]
    },
    {
      "cell_type": "markdown",
      "metadata": {
        "id": "rnqW4izvN3ch"
      },
      "source": [
        "# **Multiclasses**"
      ]
    },
    {
      "cell_type": "markdown",
      "source": [
        "## K-NN"
      ],
      "metadata": {
        "id": "W3_PwOL0-_RC"
      }
    },
    {
      "cell_type": "markdown",
      "source": [
        "### Tons de Cinza"
      ],
      "metadata": {
        "id": "pB-Ovtm33aw1"
      }
    },
    {
      "cell_type": "code",
      "execution_count": null,
      "metadata": {
        "id": "6hrZHCsEOpvX",
        "colab": {
          "base_uri": "https://localhost:8080/"
        },
        "outputId": "270e2fb7-a5ae-4302-91ab-aa57ff7777e0"
      },
      "outputs": [
        {
          "output_type": "stream",
          "name": "stdout",
          "text": [
            "Parâmetros: {'leaf_size': 20, 'metric': 'minkowski', 'n_neighbors': 4, 'p': 1, 'weights': 'distance'}\n",
            "Acurácia dos testes: 71.11%\n",
            "Matriz de Confusão:\n",
            "Predito    0    1    2    3    4   All\n",
            "Real                                  \n",
            "0        328   54   31   35   24   472\n",
            "1         30  344   38   40    9   461\n",
            "2         31   38  309   29   23   430\n",
            "3         28   65   40  285   26   444\n",
            "4         25   12   47   28  341   453\n",
            "All      442  513  465  417  423  2260\n",
            "Relatorio de Classificacao:\n",
            "              precision    recall  f1-score   support\n",
            "\n",
            "           0       0.74      0.69      0.72       472\n",
            "           1       0.67      0.75      0.71       461\n",
            "           2       0.66      0.72      0.69       430\n",
            "           3       0.68      0.64      0.66       444\n",
            "           4       0.81      0.75      0.78       453\n",
            "\n",
            "    accuracy                           0.71      2260\n",
            "   macro avg       0.71      0.71      0.71      2260\n",
            "weighted avg       0.71      0.71      0.71      2260\n",
            "\n"
          ]
        }
      ],
      "source": [
        "target_names = ['0','1','2','3','4']\n",
        "boa, casca_grossa, dano_praga, podre, verde = leitura(\"greycoprops_cinza/\")\n",
        "x_train, x_test, y_train, y_test = todos_vs_todos(boa, casca_grossa, dano_praga, podre, verde)\n",
        "knn_gridsearchcv(x_train, x_test, y_train, y_test, target_names)"
      ]
    },
    {
      "cell_type": "markdown",
      "source": [
        "### RGB"
      ],
      "metadata": {
        "id": "MV36gkli_Wg2"
      }
    },
    {
      "cell_type": "code",
      "source": [
        "target_names = ['0','1','2','3','4']\n",
        "boa, casca_grossa, dano_praga, podre, verde = leitura(\"greycoprops_colorida/\")\n",
        "x_train, x_test, y_train, y_test = todos_vs_todos(boa, casca_grossa, dano_praga, podre, verde)\n",
        "knn_gridsearchcv(x_train, x_test, y_train, y_test, target_names)"
      ],
      "metadata": {
        "colab": {
          "base_uri": "https://localhost:8080/"
        },
        "id": "OMPorz0o_a5W",
        "outputId": "8419e0df-24f5-49e4-de9b-c80aa2f3ccd7"
      },
      "execution_count": null,
      "outputs": [
        {
          "output_type": "stream",
          "name": "stdout",
          "text": [
            "Parâmetros: {'leaf_size': 20, 'metric': 'chebyshev', 'n_neighbors': 3, 'p': 1, 'weights': 'distance'}\n",
            "Acurácia dos testes: 88.01%\n",
            "Matriz de Confusão:\n",
            "Predito    0    1    2    3    4   All\n",
            "Real                                  \n",
            "0        398   22   27   17    8   472\n",
            "1         11  418   11   15    6   461\n",
            "2         16    9  379   26    0   430\n",
            "3         33   25   36  350    0   444\n",
            "4          2    5    1    1  444   453\n",
            "All      460  479  454  409  458  2260\n",
            "Relatorio de Classificacao:\n",
            "              precision    recall  f1-score   support\n",
            "\n",
            "           0       0.87      0.84      0.85       472\n",
            "           1       0.87      0.91      0.89       461\n",
            "           2       0.83      0.88      0.86       430\n",
            "           3       0.86      0.79      0.82       444\n",
            "           4       0.97      0.98      0.97       453\n",
            "\n",
            "    accuracy                           0.88      2260\n",
            "   macro avg       0.88      0.88      0.88      2260\n",
            "weighted avg       0.88      0.88      0.88      2260\n",
            "\n"
          ]
        }
      ]
    },
    {
      "cell_type": "markdown",
      "source": [
        "## RandomForest"
      ],
      "metadata": {
        "id": "hs5p90IU_dU7"
      }
    },
    {
      "cell_type": "markdown",
      "source": [
        "### Tons de Cinza"
      ],
      "metadata": {
        "id": "NXva6oDZ_iUR"
      }
    },
    {
      "cell_type": "code",
      "execution_count": null,
      "metadata": {
        "colab": {
          "base_uri": "https://localhost:8080/"
        },
        "id": "AEJqn8kWUKAh",
        "outputId": "c9a2494c-ff7f-49fe-9be6-9e64914f92cb"
      },
      "outputs": [
        {
          "output_type": "stream",
          "name": "stdout",
          "text": [
            "Parâmetros: {'max_depth': 50, 'min_samples_leaf': 1, 'min_samples_split': 2, 'n_estimators': 200}\n",
            "Acurácia dos testes: 76.02%\n",
            "Matriz de Confusão:\n",
            "Predito    0    1    2    3    4   All\n",
            "Real                                  \n",
            "0        368   47   29   16   12   472\n",
            "1         29  357   34   39    2   461\n",
            "2         21   34  335   22   18   430\n",
            "3         32   49   46  298   19   444\n",
            "4         19   14   36   24  360   453\n",
            "All      469  501  480  399  411  2260\n",
            "Relatorio de Classificacao:\n",
            "              precision    recall  f1-score   support\n",
            "\n",
            "           0       0.78      0.78      0.78       472\n",
            "           1       0.71      0.77      0.74       461\n",
            "           2       0.70      0.78      0.74       430\n",
            "           3       0.75      0.67      0.71       444\n",
            "           4       0.88      0.79      0.83       453\n",
            "\n",
            "    accuracy                           0.76      2260\n",
            "   macro avg       0.76      0.76      0.76      2260\n",
            "weighted avg       0.76      0.76      0.76      2260\n",
            "\n"
          ]
        }
      ],
      "source": [
        "target_names = ['0','1','2','3','4']\n",
        "boa, casca_grossa, dano_praga, podre, verde = leitura(\"greycoprops_cinza/\")\n",
        "x_train, x_test, y_train, y_test = todos_vs_todos(boa, casca_grossa, dano_praga, podre, verde)\n",
        "rf_gridsearchcv(x_train, x_test, y_train, y_test, target_names)"
      ]
    },
    {
      "cell_type": "markdown",
      "source": [
        "### RGB"
      ],
      "metadata": {
        "id": "lyocBdix_kvS"
      }
    },
    {
      "cell_type": "code",
      "execution_count": null,
      "metadata": {
        "colab": {
          "base_uri": "https://localhost:8080/"
        },
        "id": "Zkw93Pz6UTCg",
        "outputId": "664c5686-e9db-402a-8714-0e2f4bcd0b29"
      },
      "outputs": [
        {
          "output_type": "stream",
          "name": "stdout",
          "text": [
            "Parâmetros: {'max_depth': 50, 'min_samples_leaf': 1, 'min_samples_split': 2, 'n_estimators': 200}\n",
            "Acurácia dos testes: 88.54%\n",
            "Matriz de Confusão:\n",
            "Predito    0    1    2    3    4   All\n",
            "Real                                  \n",
            "0        387   24   35   22    4   472\n",
            "1         14  417   14   15    1   461\n",
            "2         12   12  386   20    0   430\n",
            "3         19   17   40  368    0   444\n",
            "4          4    5    1    0  443   453\n",
            "All      436  475  476  425  448  2260\n",
            "Relatorio de Classificacao:\n",
            "              precision    recall  f1-score   support\n",
            "\n",
            "           0       0.89      0.82      0.85       472\n",
            "           1       0.88      0.90      0.89       461\n",
            "           2       0.81      0.90      0.85       430\n",
            "           3       0.87      0.83      0.85       444\n",
            "           4       0.99      0.98      0.98       453\n",
            "\n",
            "    accuracy                           0.89      2260\n",
            "   macro avg       0.89      0.89      0.89      2260\n",
            "weighted avg       0.89      0.89      0.89      2260\n",
            "\n"
          ]
        }
      ],
      "source": [
        "target_names = ['0','1','2','3','4']\n",
        "boa, casca_grossa, dano_praga, podre, verde = leitura(\"greycoprops_colorida/\")\n",
        "x_train, x_test, y_train, y_test = todos_vs_todos(boa, casca_grossa, dano_praga, podre, verde)\n",
        "rf_gridsearchcv(x_train, x_test, y_train, y_test, target_names)"
      ]
    },
    {
      "cell_type": "markdown",
      "metadata": {
        "id": "AuIiatlTU5aL"
      },
      "source": [
        "## SVM"
      ]
    },
    {
      "cell_type": "markdown",
      "source": [
        "### Tons de Cinza"
      ],
      "metadata": {
        "id": "epXtr33A_y4k"
      }
    },
    {
      "cell_type": "code",
      "source": [
        "target_names = ['0','1','2','3','4']\n",
        "boa, casca_grossa, dano_praga, podre, verde = leitura(\"greycoprops_cinza/\")\n",
        "x_train, x_test, y_train, y_test = todos_vs_todos(boa, casca_grossa, dano_praga, podre, verde)\n",
        "svm_gridsearchcv(x_train, x_test, y_train, y_test, target_names)"
      ],
      "metadata": {
        "colab": {
          "base_uri": "https://localhost:8080/"
        },
        "id": "6Odwa6_7_7Kj",
        "outputId": "4ffca57d-ab6a-42ba-9bbf-c934748bcf3b"
      },
      "execution_count": null,
      "outputs": [
        {
          "output_type": "stream",
          "name": "stdout",
          "text": [
            "Parâmetros: {'C': 1000, 'gamma': 1, 'kernel': 'rbf'}\n",
            "Acurácia dos testes: 78.45%\n",
            "Matriz de Confusão:\n",
            "Predito    0    1    2    3    4   All\n",
            "Real                                  \n",
            "0        349   47   33   28   15   472\n",
            "1         33  369   27   30    2   461\n",
            "2         22   21  367   17    3   430\n",
            "3         44   42   42  299   17   444\n",
            "4         23    6    5   30  389   453\n",
            "All      471  485  474  404  426  2260\n",
            "Relatorio de Classificacao:\n",
            "              precision    recall  f1-score   support\n",
            "\n",
            "           0       0.74      0.74      0.74       472\n",
            "           1       0.76      0.80      0.78       461\n",
            "           2       0.77      0.85      0.81       430\n",
            "           3       0.74      0.67      0.71       444\n",
            "           4       0.91      0.86      0.89       453\n",
            "\n",
            "    accuracy                           0.78      2260\n",
            "   macro avg       0.79      0.79      0.78      2260\n",
            "weighted avg       0.79      0.78      0.78      2260\n",
            "\n"
          ]
        }
      ]
    },
    {
      "cell_type": "markdown",
      "source": [
        "### RGB"
      ],
      "metadata": {
        "id": "PaoGbsdH_0gd"
      }
    },
    {
      "cell_type": "code",
      "execution_count": null,
      "metadata": {
        "id": "rVOq5PVJUqNz",
        "colab": {
          "base_uri": "https://localhost:8080/"
        },
        "outputId": "c94a0a29-c69e-46a4-ff1e-ab34b0b01765"
      },
      "outputs": [
        {
          "output_type": "stream",
          "name": "stdout",
          "text": [
            "Parâmetros: {'C': 1000, 'gamma': 1, 'kernel': 'rbf'}\n",
            "Acurácia dos testes: 95.00%\n",
            "Matriz de Confusão:\n",
            "Predito    0    1    2    3    4   All\n",
            "Real                                  \n",
            "0        438    7   15   10    2   472\n",
            "1          8  444    3    4    2   461\n",
            "2         12    0  411    7    0   430\n",
            "3         21    7   11  405    0   444\n",
            "4          1    3    0    0  449   453\n",
            "All      480  461  440  426  453  2260\n",
            "Relatorio de Classificacao:\n",
            "              precision    recall  f1-score   support\n",
            "\n",
            "           0       0.91      0.93      0.92       472\n",
            "           1       0.96      0.96      0.96       461\n",
            "           2       0.93      0.96      0.94       430\n",
            "           3       0.95      0.91      0.93       444\n",
            "           4       0.99      0.99      0.99       453\n",
            "\n",
            "    accuracy                           0.95      2260\n",
            "   macro avg       0.95      0.95      0.95      2260\n",
            "weighted avg       0.95      0.95      0.95      2260\n",
            "\n"
          ]
        }
      ],
      "source": [
        "target_names = ['0','1','2','3','4']\n",
        "boa, casca_grossa, dano_praga, podre, verde = leitura(\"greycoprops_colorida/\")\n",
        "x_train, x_test, y_train, y_test = todos_vs_todos(boa, casca_grossa, dano_praga, podre, verde)\n",
        "svm_gridsearchcv(x_train, x_test, y_train, y_test, target_names)"
      ]
    },
    {
      "cell_type": "markdown",
      "source": [
        "# **Multiclasses: Removendo a Verde**"
      ],
      "metadata": {
        "id": "zbahj6ID129E"
      }
    },
    {
      "cell_type": "markdown",
      "source": [
        "## K-NN"
      ],
      "metadata": {
        "id": "a-DWc5DkAOPH"
      }
    },
    {
      "cell_type": "markdown",
      "source": [
        "### Tons de Cinza"
      ],
      "metadata": {
        "id": "3r-5oEZ90NMD"
      }
    },
    {
      "cell_type": "code",
      "source": [
        "target_names = ['0','1','2','3']\n",
        "boa, casca_grossa, dano_praga, podre, verde = leitura(\"greycoprops_cinza/\")\n",
        "x_train, x_test, y_train, y_test = todos_vs_todos(boa, casca_grossa, dano_praga, podre,  verde[0:0])\n",
        "knn_gridsearchcv(x_train, x_test, y_train, y_test, target_names)"
      ],
      "metadata": {
        "id": "1_jLUsZw0Rol",
        "colab": {
          "base_uri": "https://localhost:8080/"
        },
        "outputId": "54b000a6-c4ba-4222-a775-57d41803ddab"
      },
      "execution_count": null,
      "outputs": [
        {
          "output_type": "stream",
          "name": "stdout",
          "text": [
            "Parâmetros: {'leaf_size': 20, 'metric': 'minkowski', 'n_neighbors': 4, 'p': 1, 'weights': 'distance'}\n",
            "Acurácia dos testes: 73.98%\n",
            "Matriz de Confusão:\n",
            "Predito    0    1    2    3   All\n",
            "Real                             \n",
            "0        356   47   43   24   470\n",
            "1         35  330   33   44   442\n",
            "2         43   42  349   31   465\n",
            "3         43   46   39  301   429\n",
            "All      477  465  464  400  1806\n",
            "Relatorio de Classificacao:\n",
            "              precision    recall  f1-score   support\n",
            "\n",
            "           0       0.75      0.76      0.75       470\n",
            "           1       0.71      0.75      0.73       442\n",
            "           2       0.75      0.75      0.75       465\n",
            "           3       0.75      0.70      0.73       429\n",
            "\n",
            "    accuracy                           0.74      1806\n",
            "   macro avg       0.74      0.74      0.74      1806\n",
            "weighted avg       0.74      0.74      0.74      1806\n",
            "\n"
          ]
        }
      ]
    },
    {
      "cell_type": "markdown",
      "source": [
        "### RGB"
      ],
      "metadata": {
        "id": "B5MltYYJ3qZb"
      }
    },
    {
      "cell_type": "code",
      "source": [
        "target_names = ['0','1','2','3']\n",
        "boa, casca_grossa, dano_praga, podre, verde = leitura(\"greycoprops_colorida/\")\n",
        "x_train, x_test, y_train, y_test = todos_vs_todos(boa, casca_grossa, dano_praga, podre,  verde[0:0])\n",
        "knn_gridsearchcv(x_train, x_test, y_train, y_test, target_names)"
      ],
      "metadata": {
        "id": "KpLBvv9q11O2",
        "colab": {
          "base_uri": "https://localhost:8080/"
        },
        "outputId": "c104cf5c-c5d9-4f4c-9a82-3d178d93a7f2"
      },
      "execution_count": null,
      "outputs": [
        {
          "output_type": "stream",
          "name": "stdout",
          "text": [
            "Parâmetros: {'leaf_size': 20, 'metric': 'minkowski', 'n_neighbors': 4, 'p': 2, 'weights': 'distance'}\n",
            "Acurácia dos testes: 86.21%\n",
            "Matriz de Confusão:\n",
            "Predito    0    1    2    3   All\n",
            "Real                             \n",
            "0        396   24   31   19   470\n",
            "1         17  400   14   11   442\n",
            "2         14   16  413   22   465\n",
            "3         28   28   25  348   429\n",
            "All      455  468  483  400  1806\n",
            "Relatorio de Classificacao:\n",
            "              precision    recall  f1-score   support\n",
            "\n",
            "           0       0.87      0.84      0.86       470\n",
            "           1       0.85      0.90      0.88       442\n",
            "           2       0.86      0.89      0.87       465\n",
            "           3       0.87      0.81      0.84       429\n",
            "\n",
            "    accuracy                           0.86      1806\n",
            "   macro avg       0.86      0.86      0.86      1806\n",
            "weighted avg       0.86      0.86      0.86      1806\n",
            "\n"
          ]
        }
      ]
    },
    {
      "cell_type": "markdown",
      "source": [
        "## RandomForest"
      ],
      "metadata": {
        "id": "N9uj77kbAaoU"
      }
    },
    {
      "cell_type": "markdown",
      "source": [
        "### Tons de Cinza"
      ],
      "metadata": {
        "id": "yt2AMi1QAaoV"
      }
    },
    {
      "cell_type": "code",
      "source": [
        "target_names = ['0','1','2','3']\n",
        "boa, casca_grossa, dano_praga, podre, verde = leitura(\"greycoprops_cinza/\")\n",
        "x_train, x_test, y_train, y_test = todos_vs_todos(boa, casca_grossa, dano_praga, podre,  verde[0:0])\n",
        "rf_gridsearchcv(x_train, x_test, y_train, y_test, target_names)"
      ],
      "metadata": {
        "id": "urFl8eqoAaoV",
        "colab": {
          "base_uri": "https://localhost:8080/"
        },
        "outputId": "7500c6a1-5e67-4bfd-d732-a98fd4269083"
      },
      "execution_count": null,
      "outputs": [
        {
          "output_type": "stream",
          "name": "stdout",
          "text": [
            "Parâmetros: {'max_depth': 50, 'min_samples_leaf': 1, 'min_samples_split': 2, 'n_estimators': 200}\n",
            "Acurácia dos testes: 75.80%\n",
            "Matriz de Confusão:\n",
            "Predito    0    1    2    3   All\n",
            "Real                             \n",
            "0        352   52   36   30   470\n",
            "1         33  344   39   26   442\n",
            "2         21   44  376   24   465\n",
            "3         35   56   41  297   429\n",
            "All      441  496  492  377  1806\n",
            "Relatorio de Classificacao:\n",
            "              precision    recall  f1-score   support\n",
            "\n",
            "           0       0.80      0.75      0.77       470\n",
            "           1       0.69      0.78      0.73       442\n",
            "           2       0.76      0.81      0.79       465\n",
            "           3       0.79      0.69      0.74       429\n",
            "\n",
            "    accuracy                           0.76      1806\n",
            "   macro avg       0.76      0.76      0.76      1806\n",
            "weighted avg       0.76      0.76      0.76      1806\n",
            "\n"
          ]
        }
      ]
    },
    {
      "cell_type": "markdown",
      "source": [
        "### RGB"
      ],
      "metadata": {
        "id": "cU7HhZhaAaoV"
      }
    },
    {
      "cell_type": "code",
      "source": [
        "target_names = ['0','1','2','3']\n",
        "boa, casca_grossa, dano_praga, podre, verde = leitura(\"greycoprops_colorida/\")\n",
        "x_train, x_test, y_train, y_test = todos_vs_todos(boa, casca_grossa, dano_praga, podre,  verde[0:0])\n",
        "rf_gridsearchcv(x_train, x_test, y_train, y_test, target_names)"
      ],
      "metadata": {
        "id": "7Hm6DcNRAaoV",
        "colab": {
          "base_uri": "https://localhost:8080/"
        },
        "outputId": "73479421-e9b9-49a1-99b2-7895e3444424"
      },
      "execution_count": null,
      "outputs": [
        {
          "output_type": "stream",
          "name": "stdout",
          "text": [
            "Parâmetros: {'max_depth': 50, 'min_samples_leaf': 1, 'min_samples_split': 2, 'n_estimators': 200}\n",
            "Acurácia dos testes: 85.33%\n",
            "Matriz de Confusão:\n",
            "Predito    0    1    2    3   All\n",
            "Real                             \n",
            "0        385   29   34   22   470\n",
            "1         17  404   15    6   442\n",
            "2         14   11  412   28   465\n",
            "3         25   23   41  340   429\n",
            "All      441  467  502  396  1806\n",
            "Relatorio de Classificacao:\n",
            "              precision    recall  f1-score   support\n",
            "\n",
            "           0       0.87      0.82      0.85       470\n",
            "           1       0.87      0.91      0.89       442\n",
            "           2       0.82      0.89      0.85       465\n",
            "           3       0.86      0.79      0.82       429\n",
            "\n",
            "    accuracy                           0.85      1806\n",
            "   macro avg       0.85      0.85      0.85      1806\n",
            "weighted avg       0.85      0.85      0.85      1806\n",
            "\n"
          ]
        }
      ]
    },
    {
      "cell_type": "markdown",
      "source": [
        "## SVM"
      ],
      "metadata": {
        "id": "i-3o50fnAiGY"
      }
    },
    {
      "cell_type": "markdown",
      "source": [
        "### Tons de Cinza"
      ],
      "metadata": {
        "id": "g7lcGOdZAiGY"
      }
    },
    {
      "cell_type": "code",
      "source": [
        "target_names = ['0','1','2','3']\n",
        "boa, casca_grossa, dano_praga, podre, verde = leitura(\"greycoprops_cinza/\")\n",
        "x_train, x_test, y_train, y_test = todos_vs_todos(boa, casca_grossa, dano_praga, podre,  verde[0:0])\n",
        "svm_gridsearchcv(x_train, x_test, y_train, y_test, target_names)"
      ],
      "metadata": {
        "id": "ybi9ME2cAiGY",
        "colab": {
          "base_uri": "https://localhost:8080/"
        },
        "outputId": "9da0f1fe-a04e-4a20-cfa5-c2a5849f1135"
      },
      "execution_count": null,
      "outputs": [
        {
          "output_type": "stream",
          "name": "stdout",
          "text": [
            "Parâmetros: {'C': 1000, 'gamma': 1, 'kernel': 'rbf'}\n",
            "Acurácia dos testes: 76.69%\n",
            "Matriz de Confusão:\n",
            "Predito    0    1    2    3   All\n",
            "Real                             \n",
            "0        361   44   34   31   470\n",
            "1         36  345   22   39   442\n",
            "2         20   35  381   29   465\n",
            "3         44   45   42  298   429\n",
            "All      461  469  479  397  1806\n",
            "Relatorio de Classificacao:\n",
            "              precision    recall  f1-score   support\n",
            "\n",
            "           0       0.78      0.77      0.78       470\n",
            "           1       0.74      0.78      0.76       442\n",
            "           2       0.80      0.82      0.81       465\n",
            "           3       0.75      0.69      0.72       429\n",
            "\n",
            "    accuracy                           0.77      1806\n",
            "   macro avg       0.77      0.77      0.77      1806\n",
            "weighted avg       0.77      0.77      0.77      1806\n",
            "\n"
          ]
        }
      ]
    },
    {
      "cell_type": "markdown",
      "source": [
        "### RGB"
      ],
      "metadata": {
        "id": "bkjj4kc4AiGY"
      }
    },
    {
      "cell_type": "code",
      "source": [
        "target_names = ['0','1','2','3']\n",
        "boa, casca_grossa, dano_praga, podre, verde = leitura(\"greycoprops_colorida/\")\n",
        "x_train, x_test, y_train, y_test = todos_vs_todos(boa, casca_grossa, dano_praga, podre,  verde[0:0])\n",
        "svm_gridsearchcv(x_train, x_test, y_train, y_test, target_names)"
      ],
      "metadata": {
        "id": "23FMq9wXAiGY",
        "colab": {
          "base_uri": "https://localhost:8080/"
        },
        "outputId": "a95a17b6-636e-4810-eada-2134b0ac0904"
      },
      "execution_count": null,
      "outputs": [
        {
          "output_type": "stream",
          "name": "stdout",
          "text": [
            "Parâmetros: {'C': 1000, 'gamma': 1, 'kernel': 'rbf'}\n",
            "Acurácia dos testes: 93.19%\n",
            "Matriz de Confusão:\n",
            "Predito    0    1    2    3   All\n",
            "Real                             \n",
            "0        433    6   23    8   470\n",
            "1          7  423    3    9   442\n",
            "2         14    6  436    9   465\n",
            "3         20   11    7  391   429\n",
            "All      474  446  469  417  1806\n",
            "Relatorio de Classificacao:\n",
            "              precision    recall  f1-score   support\n",
            "\n",
            "           0       0.91      0.92      0.92       470\n",
            "           1       0.95      0.96      0.95       442\n",
            "           2       0.93      0.94      0.93       465\n",
            "           3       0.94      0.91      0.92       429\n",
            "\n",
            "    accuracy                           0.93      1806\n",
            "   macro avg       0.93      0.93      0.93      1806\n",
            "weighted avg       0.93      0.93      0.93      1806\n",
            "\n"
          ]
        }
      ]
    },
    {
      "cell_type": "markdown",
      "source": [
        "# **Multiclasses: Removendo a Casca Grossa**"
      ],
      "metadata": {
        "id": "htN9ckjIOhfV"
      }
    },
    {
      "cell_type": "markdown",
      "source": [
        "## K-NN"
      ],
      "metadata": {
        "id": "AV131zbhOt-t"
      }
    },
    {
      "cell_type": "markdown",
      "source": [
        "### Tons de Cinza"
      ],
      "metadata": {
        "id": "KxrWVWqROt-u"
      }
    },
    {
      "cell_type": "code",
      "source": [
        "target_names = ['0','2','3']\n",
        "boa, casca_grossa, dano_praga, podre, verde = leitura(\"greycoprops_cinza/\")\n",
        "x_train, x_test, y_train, y_test = todos_vs_todos(boa, casca_grossa[0:0], dano_praga, podre,  verde[0:0])\n",
        "knn_gridsearchcv(x_train, x_test, y_train, y_test, target_names)"
      ],
      "metadata": {
        "colab": {
          "base_uri": "https://localhost:8080/"
        },
        "outputId": "cc744856-228a-4636-9415-b14bbff23289",
        "id": "tbrOoz9YOt-u"
      },
      "execution_count": null,
      "outputs": [
        {
          "output_type": "stream",
          "name": "stdout",
          "text": [
            "Parâmetros: {'leaf_size': 20, 'metric': 'minkowski', 'n_neighbors': 4, 'p': 2, 'weights': 'distance'}\n",
            "Acurácia dos testes: 78.03%\n",
            "Matriz de Confusão:\n",
            "Predito    0    2    3   All\n",
            "Real                        \n",
            "0        376   45   40   461\n",
            "2         49  350   44   443\n",
            "3         58   61  329   448\n",
            "All      483  456  413  1352\n",
            "Relatorio de Classificacao:\n",
            "              precision    recall  f1-score   support\n",
            "\n",
            "           0       0.78      0.82      0.80       461\n",
            "           2       0.77      0.79      0.78       443\n",
            "           3       0.80      0.73      0.76       448\n",
            "\n",
            "    accuracy                           0.78      1352\n",
            "   macro avg       0.78      0.78      0.78      1352\n",
            "weighted avg       0.78      0.78      0.78      1352\n",
            "\n"
          ]
        }
      ]
    },
    {
      "cell_type": "markdown",
      "source": [
        "### RGB"
      ],
      "metadata": {
        "id": "mLRtJxpXOt-w"
      }
    },
    {
      "cell_type": "code",
      "source": [
        "target_names = ['0','2','3']\n",
        "boa, casca_grossa, dano_praga, podre, verde = leitura(\"greycoprops_colorida/\")\n",
        "x_train, x_test, y_train, y_test = todos_vs_todos(boa, casca_grossa[0:0], dano_praga, podre,  verde[0:0])\n",
        "knn_gridsearchcv(x_train, x_test, y_train, y_test, target_names)"
      ],
      "metadata": {
        "colab": {
          "base_uri": "https://localhost:8080/"
        },
        "outputId": "015447c7-c9e2-4a51-ea6e-dcb7eb6a3e25",
        "id": "ls_wvTk0Ot-w"
      },
      "execution_count": null,
      "outputs": [
        {
          "output_type": "stream",
          "name": "stdout",
          "text": [
            "Parâmetros: {'leaf_size': 20, 'metric': 'minkowski', 'n_neighbors': 1, 'p': 2, 'weights': 'uniform'}\n",
            "Acurácia dos testes: 85.95%\n",
            "Matriz de Confusão:\n",
            "Predito    0    2    3   All\n",
            "Real                        \n",
            "0        403   31   27   461\n",
            "2         26  385   32   443\n",
            "3         42   32  374   448\n",
            "All      471  448  433  1352\n",
            "Relatorio de Classificacao:\n",
            "              precision    recall  f1-score   support\n",
            "\n",
            "           0       0.86      0.87      0.86       461\n",
            "           2       0.86      0.87      0.86       443\n",
            "           3       0.86      0.83      0.85       448\n",
            "\n",
            "    accuracy                           0.86      1352\n",
            "   macro avg       0.86      0.86      0.86      1352\n",
            "weighted avg       0.86      0.86      0.86      1352\n",
            "\n"
          ]
        }
      ]
    },
    {
      "cell_type": "markdown",
      "source": [
        "## RandomForest"
      ],
      "metadata": {
        "id": "JtBvjR6BOt-x"
      }
    },
    {
      "cell_type": "markdown",
      "source": [
        "### Tons de Cinza"
      ],
      "metadata": {
        "id": "1-N0FVPLOt-y"
      }
    },
    {
      "cell_type": "code",
      "source": [
        "target_names = ['0','2','3']\n",
        "boa, casca_grossa, dano_praga, podre, verde = leitura(\"greycoprops_cinza/\")\n",
        "x_train, x_test, y_train, y_test = todos_vs_todos(boa, casca_grossa[0:0], dano_praga, podre,  verde[0:0])\n",
        "rf_gridsearchcv(x_train, x_test, y_train, y_test, target_names)"
      ],
      "metadata": {
        "colab": {
          "base_uri": "https://localhost:8080/"
        },
        "outputId": "7b72ab40-6784-49c9-bfb3-55c8cfa221f7",
        "id": "b5TC4HTmOt-z"
      },
      "execution_count": null,
      "outputs": [
        {
          "output_type": "stream",
          "name": "stdout",
          "text": [
            "Parâmetros: {'max_depth': 50, 'min_samples_leaf': 1, 'min_samples_split': 2, 'n_estimators': 100}\n",
            "Acurácia dos testes: 81.14%\n",
            "Matriz de Confusão:\n",
            "Predito    0    2    3   All\n",
            "Real                        \n",
            "0        384   45   32   461\n",
            "2         32  371   40   443\n",
            "3         51   55  342   448\n",
            "All      467  471  414  1352\n",
            "Relatorio de Classificacao:\n",
            "              precision    recall  f1-score   support\n",
            "\n",
            "           0       0.82      0.83      0.83       461\n",
            "           2       0.79      0.84      0.81       443\n",
            "           3       0.83      0.76      0.79       448\n",
            "\n",
            "    accuracy                           0.81      1352\n",
            "   macro avg       0.81      0.81      0.81      1352\n",
            "weighted avg       0.81      0.81      0.81      1352\n",
            "\n"
          ]
        }
      ]
    },
    {
      "cell_type": "markdown",
      "source": [
        "### RGB"
      ],
      "metadata": {
        "id": "GQAWuHymOt-z"
      }
    },
    {
      "cell_type": "code",
      "source": [
        "target_names = ['0','2','3']\n",
        "boa, casca_grossa, dano_praga, podre, verde = leitura(\"greycoprops_colorida/\")\n",
        "x_train, x_test, y_train, y_test = todos_vs_todos(boa, casca_grossa[0:0], dano_praga, podre,  verde[0:0])\n",
        "rf_gridsearchcv(x_train, x_test, y_train, y_test, target_names)"
      ],
      "metadata": {
        "colab": {
          "base_uri": "https://localhost:8080/"
        },
        "outputId": "f2770535-3807-4970-bdf7-df3b9cc8a2ad",
        "id": "3r-wH2yNOt-0"
      },
      "execution_count": null,
      "outputs": [
        {
          "output_type": "stream",
          "name": "stdout",
          "text": [
            "Parâmetros: {'max_depth': 50, 'min_samples_leaf': 1, 'min_samples_split': 2, 'n_estimators': 200}\n",
            "Acurácia dos testes: 87.06%\n",
            "Matriz de Confusão:\n",
            "Predito    0    2    3   All\n",
            "Real                        \n",
            "0        394   43   24   461\n",
            "2         14  401   28   443\n",
            "3         26   40  382   448\n",
            "All      434  484  434  1352\n",
            "Relatorio de Classificacao:\n",
            "              precision    recall  f1-score   support\n",
            "\n",
            "           0       0.91      0.85      0.88       461\n",
            "           2       0.83      0.91      0.87       443\n",
            "           3       0.88      0.85      0.87       448\n",
            "\n",
            "    accuracy                           0.87      1352\n",
            "   macro avg       0.87      0.87      0.87      1352\n",
            "weighted avg       0.87      0.87      0.87      1352\n",
            "\n"
          ]
        }
      ]
    },
    {
      "cell_type": "markdown",
      "source": [
        "## SVM"
      ],
      "metadata": {
        "id": "K6bIt8LyOt-1"
      }
    },
    {
      "cell_type": "markdown",
      "source": [
        "### Tons de Cinza"
      ],
      "metadata": {
        "id": "u_eD8AX4Ot-1"
      }
    },
    {
      "cell_type": "code",
      "source": [
        "target_names = ['0','2','3']\n",
        "boa, casca_grossa, dano_praga, podre, verde = leitura(\"greycoprops_cinza/\")\n",
        "x_train, x_test, y_train, y_test = todos_vs_todos(boa, casca_grossa[0:0], dano_praga, podre,  verde[0:0])\n",
        "svm_gridsearchcv(x_train, x_test, y_train, y_test, target_names)"
      ],
      "metadata": {
        "colab": {
          "base_uri": "https://localhost:8080/"
        },
        "outputId": "cf101c63-ad89-4991-e43e-cfb52d78e16a",
        "id": "KHsBwzNXOt-2"
      },
      "execution_count": null,
      "outputs": [
        {
          "output_type": "stream",
          "name": "stdout",
          "text": [
            "Parâmetros: {'C': 1000, 'gamma': 1, 'kernel': 'rbf'}\n",
            "Acurácia dos testes: 84.47%\n",
            "Matriz de Confusão:\n",
            "Predito    0    2    3   All\n",
            "Real                        \n",
            "0        391   32   38   461\n",
            "2         27  393   23   443\n",
            "3         45   45  358   448\n",
            "All      463  470  419  1352\n",
            "Relatorio de Classificacao:\n",
            "              precision    recall  f1-score   support\n",
            "\n",
            "           0       0.84      0.85      0.85       461\n",
            "           2       0.84      0.89      0.86       443\n",
            "           3       0.85      0.80      0.83       448\n",
            "\n",
            "    accuracy                           0.84      1352\n",
            "   macro avg       0.85      0.84      0.84      1352\n",
            "weighted avg       0.85      0.84      0.84      1352\n",
            "\n"
          ]
        }
      ]
    },
    {
      "cell_type": "markdown",
      "source": [
        "### RGB"
      ],
      "metadata": {
        "id": "gDNLWGLsOt-2"
      }
    },
    {
      "cell_type": "code",
      "source": [
        "target_names = ['0','2','3']\n",
        "boa, casca_grossa, dano_praga, podre, verde = leitura(\"greycoprops_colorida/\")\n",
        "x_train, x_test, y_train, y_test = todos_vs_todos(boa, casca_grossa[0:0], dano_praga, podre,  verde[0:0])\n",
        "svm_gridsearchcv(x_train, x_test, y_train, y_test, target_names)"
      ],
      "metadata": {
        "colab": {
          "base_uri": "https://localhost:8080/"
        },
        "outputId": "bc644afb-4328-46e2-fb57-fd6b50ed711a",
        "id": "PfzrgoenOt-3"
      },
      "execution_count": null,
      "outputs": [
        {
          "output_type": "stream",
          "name": "stdout",
          "text": [
            "Parâmetros: {'C': 1000, 'gamma': 1, 'kernel': 'rbf'}\n",
            "Acurácia dos testes: 93.42%\n",
            "Matriz de Confusão:\n",
            "Predito    0    2    3   All\n",
            "Real                        \n",
            "0        427   24   10   461\n",
            "2         18  416    9   443\n",
            "3         16   12  420   448\n",
            "All      461  452  439  1352\n",
            "Relatorio de Classificacao:\n",
            "              precision    recall  f1-score   support\n",
            "\n",
            "           0       0.93      0.93      0.93       461\n",
            "           2       0.92      0.94      0.93       443\n",
            "           3       0.96      0.94      0.95       448\n",
            "\n",
            "    accuracy                           0.93      1352\n",
            "   macro avg       0.93      0.93      0.93      1352\n",
            "weighted avg       0.93      0.93      0.93      1352\n",
            "\n"
          ]
        }
      ]
    },
    {
      "cell_type": "markdown",
      "metadata": {
        "id": "bWSc5sASObaM"
      },
      "source": [
        "# **Binária**"
      ]
    },
    {
      "cell_type": "markdown",
      "metadata": {
        "id": "tDPNX2ML_I9g"
      },
      "source": [
        "## K-NN"
      ]
    },
    {
      "cell_type": "markdown",
      "source": [
        "### Tons de Cinza"
      ],
      "metadata": {
        "id": "c_NJIWPW4PA5"
      }
    },
    {
      "cell_type": "code",
      "execution_count": null,
      "metadata": {
        "colab": {
          "base_uri": "https://localhost:8080/"
        },
        "id": "PPcngd-1-Ev5",
        "outputId": "9a15fbee-327a-449b-8c61-f9daf7093989"
      },
      "outputs": [
        {
          "output_type": "stream",
          "name": "stdout",
          "text": [
            "Boa vs Todos\n",
            "Parâmetros: {'leaf_size': 20, 'metric': 'minkowski', 'n_neighbors': 6, 'p': 1, 'weights': 'distance'}\n",
            "Acurácia para os dados de treinamento: 81.41%\n",
            "Acurácia dos testes: 79.74%\n",
            "Matriz de Confusão:\n",
            "Predito    0    1  All\n",
            "Real                  \n",
            "0        402   69  471\n",
            "1        115  322  437\n",
            "All      517  391  908\n",
            "Relatorio de Classificacao:\n",
            "              precision    recall  f1-score   support\n",
            "\n",
            "           0       0.78      0.85      0.81       471\n",
            "           1       0.82      0.74      0.78       437\n",
            "\n",
            "    accuracy                           0.80       908\n",
            "   macro avg       0.80      0.80      0.80       908\n",
            "weighted avg       0.80      0.80      0.80       908\n",
            "\n",
            "\n",
            "\n",
            "Casca Grossa vs Todos\n",
            "Parâmetros: {'leaf_size': 20, 'metric': 'chebyshev', 'n_neighbors': 4, 'p': 1, 'weights': 'distance'}\n",
            "Acurácia para os dados de treinamento: 82.46%\n",
            "Acurácia dos testes: 84.25%\n",
            "Matriz de Confusão:\n",
            "Predito    0    1  All\n",
            "Real                  \n",
            "0        416   55  471\n",
            "1         88  349  437\n",
            "All      504  404  908\n",
            "Relatorio de Classificacao:\n",
            "              precision    recall  f1-score   support\n",
            "\n",
            "           0       0.83      0.88      0.85       471\n",
            "           1       0.86      0.80      0.83       437\n",
            "\n",
            "    accuracy                           0.84       908\n",
            "   macro avg       0.84      0.84      0.84       908\n",
            "weighted avg       0.84      0.84      0.84       908\n",
            "\n",
            "\n",
            "\n",
            "Dano Praga vs Todos\n",
            "Parâmetros: {'leaf_size': 20, 'metric': 'chebyshev', 'n_neighbors': 4, 'p': 1, 'weights': 'distance'}\n",
            "Acurácia para os dados de treinamento: 80.12%\n",
            "Acurácia dos testes: 81.19%\n",
            "Matriz de Confusão:\n",
            "Predito    0    1  All\n",
            "Real                  \n",
            "0        400   64  464\n",
            "1        103  321  424\n",
            "All      503  385  888\n",
            "Relatorio de Classificacao:\n",
            "              precision    recall  f1-score   support\n",
            "\n",
            "           0       0.80      0.86      0.83       464\n",
            "           1       0.83      0.76      0.79       424\n",
            "\n",
            "    accuracy                           0.81       888\n",
            "   macro avg       0.81      0.81      0.81       888\n",
            "weighted avg       0.81      0.81      0.81       888\n",
            "\n",
            "\n",
            "\n",
            "Podre vs Todos\n",
            "Parâmetros: {'leaf_size': 20, 'metric': 'minkowski', 'n_neighbors': 1, 'p': 1, 'weights': 'uniform'}\n",
            "Acurácia para os dados de treinamento: 77.67%\n",
            "Acurácia dos testes: 77.53%\n",
            "Matriz de Confusão:\n",
            "Predito    0    1  All\n",
            "Real                  \n",
            "0        372   99  471\n",
            "1        105  332  437\n",
            "All      477  431  908\n",
            "Relatorio de Classificacao:\n",
            "              precision    recall  f1-score   support\n",
            "\n",
            "           0       0.78      0.79      0.78       471\n",
            "           1       0.77      0.76      0.76       437\n",
            "\n",
            "    accuracy                           0.78       908\n",
            "   macro avg       0.78      0.77      0.77       908\n",
            "weighted avg       0.78      0.78      0.78       908\n",
            "\n",
            "\n",
            "\n",
            "Verde vs Todos\n",
            "Parâmetros: {'leaf_size': 20, 'metric': 'minkowski', 'n_neighbors': 6, 'p': 2, 'weights': 'distance'}\n",
            "Acurácia para os dados de treinamento: 86.84%\n",
            "Acurácia dos testes: 83.48%\n",
            "Matriz de Confusão:\n",
            "Predito    0    1  All\n",
            "Real                  \n",
            "0        408   63  471\n",
            "1         87  350  437\n",
            "All      495  413  908\n",
            "Relatorio de Classificacao:\n",
            "              precision    recall  f1-score   support\n",
            "\n",
            "           0       0.82      0.87      0.84       471\n",
            "           1       0.85      0.80      0.82       437\n",
            "\n",
            "    accuracy                           0.83       908\n",
            "   macro avg       0.84      0.83      0.83       908\n",
            "weighted avg       0.84      0.83      0.83       908\n",
            "\n"
          ]
        }
      ],
      "source": [
        "target_names = ['0','1']\n",
        "boa, casca_grossa, dano_praga, podre, verde = leitura(\"greycoprops_cinza/\")\n",
        "print(\"Boa vs Todos\")\n",
        "x_train, x_test, y_train, y_test = boa_vs_todos(boa, casca_grossa, dano_praga, podre, verde)\n",
        "knn_gridsearchcv(x_train, x_test, y_train, y_test, target_names)\n",
        "print(\"\\n\")\n",
        "print(\"Casca Grossa vs Todos\")\n",
        "x_train, x_test, y_train, y_test = casca_grossa_vs_todos(boa, casca_grossa, dano_praga, podre, verde)\n",
        "knn_gridsearchcv(x_train, x_test, y_train, y_test, target_names)\n",
        "print(\"\\n\")\n",
        "print(\"Dano Praga vs Todos\")\n",
        "x_train, x_test, y_train, y_test = dano_praga_vs_todos(boa, casca_grossa, dano_praga, podre, verde)\n",
        "knn_gridsearchcv(x_train, x_test, y_train, y_test, target_names)\n",
        "print(\"\\n\")\n",
        "print(\"Podre vs Todos\")\n",
        "x_train, x_test, y_train, y_test = podre_vs_todos(boa, casca_grossa, dano_praga, podre, verde)\n",
        "knn_gridsearchcv(x_train, x_test, y_train, y_test, target_names)\n",
        "print(\"\\n\")\n",
        "print(\"Verde vs Todos\")\n",
        "x_train, x_test, y_train, y_test = verde_vs_todos(boa, casca_grossa, dano_praga, podre, verde)\n",
        "knn_gridsearchcv(x_train, x_test, y_train, y_test, target_names)"
      ]
    },
    {
      "cell_type": "markdown",
      "metadata": {
        "id": "97R45E8iLKhW"
      },
      "source": [
        "### RGB"
      ]
    },
    {
      "cell_type": "code",
      "execution_count": null,
      "metadata": {
        "id": "gcF91RDaLKhX",
        "colab": {
          "base_uri": "https://localhost:8080/"
        },
        "outputId": "d928e0be-b59d-4aad-cdf0-09f40fca82e0"
      },
      "outputs": [
        {
          "output_type": "stream",
          "name": "stdout",
          "text": [
            "Boa vs Todos\n",
            "Parâmetros: {'leaf_size': 20, 'metric': 'minkowski', 'n_neighbors': 1, 'p': 2, 'weights': 'uniform'}\n",
            "Acurácia para os dados de treinamento: 87.80%\n",
            "Acurácia dos testes: 87.67%\n",
            "Matriz de Confusão:\n",
            "Predito    0    1  All\n",
            "Real                  \n",
            "0        427   44  471\n",
            "1         68  369  437\n",
            "All      495  413  908\n",
            "Relatorio de Classificacao:\n",
            "              precision    recall  f1-score   support\n",
            "\n",
            "           0       0.86      0.91      0.88       471\n",
            "           1       0.89      0.84      0.87       437\n",
            "\n",
            "    accuracy                           0.88       908\n",
            "   macro avg       0.88      0.88      0.88       908\n",
            "weighted avg       0.88      0.88      0.88       908\n",
            "\n",
            "\n",
            "\n",
            "Casca Grossa vs Todos\n",
            "Parâmetros: {'leaf_size': 20, 'metric': 'chebyshev', 'n_neighbors': 3, 'p': 1, 'weights': 'distance'}\n",
            "Acurácia para os dados de treinamento: 93.03%\n",
            "Acurácia dos testes: 93.06%\n",
            "Matriz de Confusão:\n",
            "Predito    0    1  All\n",
            "Real                  \n",
            "0        458   13  471\n",
            "1         50  387  437\n",
            "All      508  400  908\n",
            "Relatorio de Classificacao:\n",
            "              precision    recall  f1-score   support\n",
            "\n",
            "           0       0.90      0.97      0.94       471\n",
            "           1       0.97      0.89      0.92       437\n",
            "\n",
            "    accuracy                           0.93       908\n",
            "   macro avg       0.93      0.93      0.93       908\n",
            "weighted avg       0.93      0.93      0.93       908\n",
            "\n",
            "\n",
            "\n",
            "Dano Praga vs Todos\n",
            "Parâmetros: {'leaf_size': 20, 'metric': 'minkowski', 'n_neighbors': 4, 'p': 2, 'weights': 'distance'}\n",
            "Acurácia para os dados de treinamento: 89.87%\n",
            "Acurácia dos testes: 90.43%\n",
            "Matriz de Confusão:\n",
            "Predito    0    1  All\n",
            "Real                  \n",
            "0        434   30  464\n",
            "1         55  369  424\n",
            "All      489  399  888\n",
            "Relatorio de Classificacao:\n",
            "              precision    recall  f1-score   support\n",
            "\n",
            "           0       0.89      0.94      0.91       464\n",
            "           1       0.92      0.87      0.90       424\n",
            "\n",
            "    accuracy                           0.90       888\n",
            "   macro avg       0.91      0.90      0.90       888\n",
            "weighted avg       0.91      0.90      0.90       888\n",
            "\n",
            "\n",
            "\n",
            "Podre vs Todos\n",
            "Parâmetros: {'leaf_size': 20, 'metric': 'minkowski', 'n_neighbors': 1, 'p': 2, 'weights': 'uniform'}\n",
            "Acurácia para os dados de treinamento: 88.96%\n",
            "Acurácia dos testes: 87.33%\n",
            "Matriz de Confusão:\n",
            "Predito    0    1  All\n",
            "Real                  \n",
            "0        420   51  471\n",
            "1         64  373  437\n",
            "All      484  424  908\n",
            "Relatorio de Classificacao:\n",
            "              precision    recall  f1-score   support\n",
            "\n",
            "           0       0.87      0.89      0.88       471\n",
            "           1       0.88      0.85      0.87       437\n",
            "\n",
            "    accuracy                           0.87       908\n",
            "   macro avg       0.87      0.87      0.87       908\n",
            "weighted avg       0.87      0.87      0.87       908\n",
            "\n",
            "\n",
            "\n",
            "Verde vs Todos\n",
            "Parâmetros: {'leaf_size': 20, 'metric': 'minkowski', 'n_neighbors': 4, 'p': 2, 'weights': 'distance'}\n",
            "Acurácia para os dados de treinamento: 97.96%\n",
            "Acurácia dos testes: 97.58%\n",
            "Matriz de Confusão:\n",
            "Predito    0    1  All\n",
            "Real                  \n",
            "0        461   10  471\n",
            "1         12  425  437\n",
            "All      473  435  908\n",
            "Relatorio de Classificacao:\n",
            "              precision    recall  f1-score   support\n",
            "\n",
            "           0       0.97      0.98      0.98       471\n",
            "           1       0.98      0.97      0.97       437\n",
            "\n",
            "    accuracy                           0.98       908\n",
            "   macro avg       0.98      0.98      0.98       908\n",
            "weighted avg       0.98      0.98      0.98       908\n",
            "\n"
          ]
        }
      ],
      "source": [
        "target_names = ['0','1']\n",
        "boa, casca_grossa, dano_praga, podre, verde = leitura(\"greycoprops_colorida/\")\n",
        "print(\"Boa vs Todos\")\n",
        "x_train, x_test, y_train, y_test = boa_vs_todos(boa, casca_grossa, dano_praga, podre, verde)\n",
        "knn_gridsearchcv(x_train, x_test, y_train, y_test, target_names)\n",
        "print(\"\\n\")\n",
        "print(\"Casca Grossa vs Todos\")\n",
        "x_train, x_test, y_train, y_test = casca_grossa_vs_todos(boa, casca_grossa, dano_praga, podre, verde)\n",
        "knn_gridsearchcv(x_train, x_test, y_train, y_test, target_names)\n",
        "print(\"\\n\")\n",
        "print(\"Dano Praga vs Todos\")\n",
        "x_train, x_test, y_train, y_test = dano_praga_vs_todos(boa, casca_grossa, dano_praga, podre, verde)\n",
        "knn_gridsearchcv(x_train, x_test, y_train, y_test, target_names)\n",
        "print(\"\\n\")\n",
        "print(\"Podre vs Todos\")\n",
        "x_train, x_test, y_train, y_test = podre_vs_todos(boa, casca_grossa, dano_praga, podre, verde)\n",
        "knn_gridsearchcv(x_train, x_test, y_train, y_test, target_names)\n",
        "print(\"\\n\")\n",
        "print(\"Verde vs Todos\")\n",
        "x_train, x_test, y_train, y_test = verde_vs_todos(boa, casca_grossa, dano_praga, podre, verde)\n",
        "knn_gridsearchcv(x_train, x_test, y_train, y_test, target_names)"
      ]
    },
    {
      "cell_type": "markdown",
      "metadata": {
        "id": "u1lAbq-voMAd"
      },
      "source": [
        "## RandomForest"
      ]
    },
    {
      "cell_type": "markdown",
      "source": [
        "### Tons de Cinza"
      ],
      "metadata": {
        "id": "UYtP1fcN4zUe"
      }
    },
    {
      "cell_type": "code",
      "execution_count": null,
      "metadata": {
        "id": "10YQOp8toICC",
        "colab": {
          "base_uri": "https://localhost:8080/"
        },
        "outputId": "9b4a64b1-6992-4e5b-fb60-d6c40ad10fb8"
      },
      "outputs": [
        {
          "output_type": "stream",
          "name": "stdout",
          "text": [
            "Boa vs Todos\n",
            "Parâmetros: {'max_depth': 50, 'min_samples_leaf': 1, 'min_samples_split': 2, 'n_estimators': 200}\n",
            "Acurácia no treinamento: 83.42%\n",
            "Acurácia dos testes: 81.83%\n",
            "Matriz de Confusão:\n",
            "Predito    0    1  All\n",
            "Real                  \n",
            "0        387   84  471\n",
            "1         81  356  437\n",
            "All      468  440  908\n",
            "Relatorio de Classificacao:\n",
            "              precision    recall  f1-score   support\n",
            "\n",
            "           0       0.83      0.82      0.82       471\n",
            "           1       0.81      0.81      0.81       437\n",
            "\n",
            "    accuracy                           0.82       908\n",
            "   macro avg       0.82      0.82      0.82       908\n",
            "weighted avg       0.82      0.82      0.82       908\n",
            "\n",
            "\n",
            "\n",
            "Casca Grossa vs Todos\n",
            "Parâmetros: {'max_depth': 50, 'min_samples_leaf': 1, 'min_samples_split': 5, 'n_estimators': 200}\n",
            "Acurácia no treinamento: 83.89%\n",
            "Acurácia dos testes: 84.69%\n",
            "Matriz de Confusão:\n",
            "Predito    0    1  All\n",
            "Real                  \n",
            "0        414   57  471\n",
            "1         82  355  437\n",
            "All      496  412  908\n",
            "Relatorio de Classificacao:\n",
            "              precision    recall  f1-score   support\n",
            "\n",
            "           0       0.83      0.88      0.86       471\n",
            "           1       0.86      0.81      0.84       437\n",
            "\n",
            "    accuracy                           0.85       908\n",
            "   macro avg       0.85      0.85      0.85       908\n",
            "weighted avg       0.85      0.85      0.85       908\n",
            "\n",
            "\n",
            "\n",
            "Dano Praga vs Todos\n",
            "Parâmetros: {'max_depth': 50, 'min_samples_leaf': 1, 'min_samples_split': 2, 'n_estimators': 100}\n",
            "Acurácia no treinamento: 83.31%\n",
            "Acurácia dos testes: 82.66%\n",
            "Matriz de Confusão:\n",
            "Predito    0    1  All\n",
            "Real                  \n",
            "0        391   73  464\n",
            "1         81  343  424\n",
            "All      472  416  888\n",
            "Relatorio de Classificacao:\n",
            "              precision    recall  f1-score   support\n",
            "\n",
            "           0       0.83      0.84      0.84       464\n",
            "           1       0.82      0.81      0.82       424\n",
            "\n",
            "    accuracy                           0.83       888\n",
            "   macro avg       0.83      0.83      0.83       888\n",
            "weighted avg       0.83      0.83      0.83       888\n",
            "\n",
            "\n",
            "\n",
            "Podre vs Todos\n",
            "Parâmetros: {'max_depth': 50, 'min_samples_leaf': 1, 'min_samples_split': 2, 'n_estimators': 100}\n",
            "Acurácia no treinamento: 80.01%\n",
            "Acurácia dos testes: 80.40%\n",
            "Matriz de Confusão:\n",
            "Predito    0    1  All\n",
            "Real                  \n",
            "0        366  105  471\n",
            "1         73  364  437\n",
            "All      439  469  908\n",
            "Relatorio de Classificacao:\n",
            "              precision    recall  f1-score   support\n",
            "\n",
            "           0       0.83      0.78      0.80       471\n",
            "           1       0.78      0.83      0.80       437\n",
            "\n",
            "    accuracy                           0.80       908\n",
            "   macro avg       0.80      0.81      0.80       908\n",
            "weighted avg       0.81      0.80      0.80       908\n",
            "\n",
            "\n",
            "\n",
            "Verde vs Todos\n",
            "Parâmetros: {'max_depth': 50, 'min_samples_leaf': 1, 'min_samples_split': 2, 'n_estimators': 200}\n",
            "Acurácia no treinamento: 87.69%\n",
            "Acurácia dos testes: 85.24%\n",
            "Matriz de Confusão:\n",
            "Predito    0    1  All\n",
            "Real                  \n",
            "0        403   68  471\n",
            "1         66  371  437\n",
            "All      469  439  908\n",
            "Relatorio de Classificacao:\n",
            "              precision    recall  f1-score   support\n",
            "\n",
            "           0       0.86      0.86      0.86       471\n",
            "           1       0.85      0.85      0.85       437\n",
            "\n",
            "    accuracy                           0.85       908\n",
            "   macro avg       0.85      0.85      0.85       908\n",
            "weighted avg       0.85      0.85      0.85       908\n",
            "\n"
          ]
        }
      ],
      "source": [
        "target_names = ['0','1']\n",
        "boa, casca_grossa, dano_praga, podre, verde = leitura(\"greycoprops_cinza/\")\n",
        "print(\"Boa vs Todos\")\n",
        "x_train, x_test, y_train, y_test = boa_vs_todos(boa, casca_grossa, dano_praga, podre, verde)\n",
        "rf_gridsearchcv(x_train, x_test, y_train, y_test, target_names)\n",
        "print(\"\\n\")\n",
        "print(\"Casca Grossa vs Todos\")\n",
        "x_train, x_test, y_train, y_test = casca_grossa_vs_todos(boa, casca_grossa, dano_praga, podre, verde)\n",
        "rf_gridsearchcv(x_train, x_test, y_train, y_test, target_names)\n",
        "print(\"\\n\")\n",
        "print(\"Dano Praga vs Todos\")\n",
        "x_train, x_test, y_train, y_test = dano_praga_vs_todos(boa, casca_grossa, dano_praga, podre, verde)\n",
        "rf_gridsearchcv(x_train, x_test, y_train, y_test, target_names)\n",
        "print(\"\\n\")\n",
        "print(\"Podre vs Todos\")\n",
        "x_train, x_test, y_train, y_test = podre_vs_todos(boa, casca_grossa, dano_praga, podre, verde)\n",
        "rf_gridsearchcv(x_train, x_test, y_train, y_test, target_names)\n",
        "print(\"\\n\")\n",
        "print(\"Verde vs Todos\")\n",
        "x_train, x_test, y_train, y_test = verde_vs_todos(boa, casca_grossa, dano_praga, podre, verde)\n",
        "rf_gridsearchcv(x_train, x_test, y_train, y_test, target_names)"
      ]
    },
    {
      "cell_type": "markdown",
      "metadata": {
        "id": "N1sDPYEvxBg2"
      },
      "source": [
        "### RGB"
      ]
    },
    {
      "cell_type": "code",
      "execution_count": null,
      "metadata": {
        "id": "EjnwxQQZxHb5",
        "colab": {
          "base_uri": "https://localhost:8080/"
        },
        "outputId": "539c02a7-0b64-469b-9513-4e0e0c6fff7b"
      },
      "outputs": [
        {
          "output_type": "stream",
          "name": "stdout",
          "text": [
            "Boa vs Todos\n",
            "Parâmetros: {'max_depth': 50, 'min_samples_leaf': 1, 'min_samples_split': 2, 'n_estimators': 200}\n",
            "Acurácia no treinamento: 88.85%\n",
            "Acurácia dos testes: 87.89%\n",
            "Matriz de Confusão:\n",
            "Predito    0    1  All\n",
            "Real                  \n",
            "0        410   61  471\n",
            "1         49  388  437\n",
            "All      459  449  908\n",
            "Relatorio de Classificacao:\n",
            "              precision    recall  f1-score   support\n",
            "\n",
            "           0       0.89      0.87      0.88       471\n",
            "           1       0.86      0.89      0.88       437\n",
            "\n",
            "    accuracy                           0.88       908\n",
            "   macro avg       0.88      0.88      0.88       908\n",
            "weighted avg       0.88      0.88      0.88       908\n",
            "\n",
            "\n",
            "\n",
            "Casca Grossa vs Todos\n",
            "Parâmetros: {'max_depth': 50, 'min_samples_leaf': 1, 'min_samples_split': 2, 'n_estimators': 200}\n",
            "Acurácia no treinamento: 93.09%\n",
            "Acurácia dos testes: 94.27%\n",
            "Matriz de Confusão:\n",
            "Predito    0    1  All\n",
            "Real                  \n",
            "0        457   14  471\n",
            "1         38  399  437\n",
            "All      495  413  908\n",
            "Relatorio de Classificacao:\n",
            "              precision    recall  f1-score   support\n",
            "\n",
            "           0       0.92      0.97      0.95       471\n",
            "           1       0.97      0.91      0.94       437\n",
            "\n",
            "    accuracy                           0.94       908\n",
            "   macro avg       0.94      0.94      0.94       908\n",
            "weighted avg       0.94      0.94      0.94       908\n",
            "\n",
            "\n",
            "\n",
            "Dano Praga vs Todos\n",
            "Parâmetros: {'max_depth': 50, 'min_samples_leaf': 1, 'min_samples_split': 2, 'n_estimators': 200}\n",
            "Acurácia no treinamento: 90.65%\n",
            "Acurácia dos testes: 90.99%\n",
            "Matriz de Confusão:\n",
            "Predito    0    1  All\n",
            "Real                  \n",
            "0        425   39  464\n",
            "1         41  383  424\n",
            "All      466  422  888\n",
            "Relatorio de Classificacao:\n",
            "              precision    recall  f1-score   support\n",
            "\n",
            "           0       0.91      0.92      0.91       464\n",
            "           1       0.91      0.90      0.91       424\n",
            "\n",
            "    accuracy                           0.91       888\n",
            "   macro avg       0.91      0.91      0.91       888\n",
            "weighted avg       0.91      0.91      0.91       888\n",
            "\n",
            "\n",
            "\n",
            "Podre vs Todos\n",
            "Parâmetros: {'max_depth': 50, 'min_samples_leaf': 1, 'min_samples_split': 5, 'n_estimators': 100}\n",
            "Acurácia no treinamento: 88.79%\n",
            "Acurácia dos testes: 88.11%\n",
            "Matriz de Confusão:\n",
            "Predito    0    1  All\n",
            "Real                  \n",
            "0        420   51  471\n",
            "1         57  380  437\n",
            "All      477  431  908\n",
            "Relatorio de Classificacao:\n",
            "              precision    recall  f1-score   support\n",
            "\n",
            "           0       0.88      0.89      0.89       471\n",
            "           1       0.88      0.87      0.88       437\n",
            "\n",
            "    accuracy                           0.88       908\n",
            "   macro avg       0.88      0.88      0.88       908\n",
            "weighted avg       0.88      0.88      0.88       908\n",
            "\n",
            "\n",
            "\n",
            "Verde vs Todos\n",
            "Parâmetros: {'max_depth': 50, 'min_samples_leaf': 1, 'min_samples_split': 2, 'n_estimators': 100}\n",
            "Acurácia no treinamento: 98.79%\n",
            "Acurácia dos testes: 98.46%\n",
            "Matriz de Confusão:\n",
            "Predito    0    1  All\n",
            "Real                  \n",
            "0        460   11  471\n",
            "1          3  434  437\n",
            "All      463  445  908\n",
            "Relatorio de Classificacao:\n",
            "              precision    recall  f1-score   support\n",
            "\n",
            "           0       0.99      0.98      0.99       471\n",
            "           1       0.98      0.99      0.98       437\n",
            "\n",
            "    accuracy                           0.98       908\n",
            "   macro avg       0.98      0.98      0.98       908\n",
            "weighted avg       0.98      0.98      0.98       908\n",
            "\n"
          ]
        }
      ],
      "source": [
        "target_names = ['0','1']\n",
        "boa, casca_grossa, dano_praga, podre, verde = leitura(\"greycoprops_colorida/\")\n",
        "print(\"Boa vs Todos\")\n",
        "x_train, x_test, y_train, y_test = boa_vs_todos(boa, casca_grossa, dano_praga, podre, verde)\n",
        "rf_gridsearchcv(x_train, x_test, y_train, y_test, target_names)\n",
        "print(\"\\n\")\n",
        "print(\"Casca Grossa vs Todos\")\n",
        "x_train, x_test, y_train, y_test = casca_grossa_vs_todos(boa, casca_grossa, dano_praga, podre, verde)\n",
        "rf_gridsearchcv(x_train, x_test, y_train, y_test, target_names)\n",
        "print(\"\\n\")\n",
        "print(\"Dano Praga vs Todos\")\n",
        "x_train, x_test, y_train, y_test = dano_praga_vs_todos(boa, casca_grossa, dano_praga, podre, verde)\n",
        "rf_gridsearchcv(x_train, x_test, y_train, y_test, target_names)\n",
        "print(\"\\n\")\n",
        "print(\"Podre vs Todos\")\n",
        "x_train, x_test, y_train, y_test = podre_vs_todos(boa, casca_grossa, dano_praga, podre, verde)\n",
        "rf_gridsearchcv(x_train, x_test, y_train, y_test, target_names)\n",
        "print(\"\\n\")\n",
        "print(\"Verde vs Todos\")\n",
        "x_train, x_test, y_train, y_test = verde_vs_todos(boa, casca_grossa, dano_praga, podre, verde)\n",
        "rf_gridsearchcv(x_train, x_test, y_train, y_test, target_names)"
      ]
    },
    {
      "cell_type": "markdown",
      "metadata": {
        "id": "nW7MeXUt0J4R"
      },
      "source": [
        "## SVM"
      ]
    },
    {
      "cell_type": "markdown",
      "source": [
        "### Tons de Cinza"
      ],
      "metadata": {
        "id": "3IriCU6n8GTR"
      }
    },
    {
      "cell_type": "code",
      "execution_count": null,
      "metadata": {
        "id": "AGVzJ3bY0O_3",
        "colab": {
          "base_uri": "https://localhost:8080/"
        },
        "outputId": "8b58b102-2d36-4ec8-90b7-5ab39b85ca06"
      },
      "outputs": [
        {
          "output_type": "stream",
          "name": "stdout",
          "text": [
            "Boa vs Todos\n",
            "Parâmetros: {'C': 1000, 'gamma': 1, 'kernel': 'rbf'}\n",
            "Acurácia no treinamento: 86.04%\n",
            "Acurácia dos testes: 84.03%\n",
            "Matriz de Confusão:\n",
            "Predito    0    1  All\n",
            "Real                  \n",
            "0        412   59  471\n",
            "1         86  351  437\n",
            "All      498  410  908\n",
            "Relatorio de Classificacao:\n",
            "              precision    recall  f1-score   support\n",
            "\n",
            "           0       0.83      0.87      0.85       471\n",
            "           1       0.86      0.80      0.83       437\n",
            "\n",
            "    accuracy                           0.84       908\n",
            "   macro avg       0.84      0.84      0.84       908\n",
            "weighted avg       0.84      0.84      0.84       908\n",
            "\n",
            "\n",
            "\n",
            "Casca Grossa vs Todos\n",
            "Parâmetros: {'C': 1000, 'gamma': 1, 'kernel': 'rbf'}\n",
            "Acurácia no treinamento: 87.22%\n",
            "Acurácia dos testes: 88.33%\n",
            "Matriz de Confusão:\n",
            "Predito    0    1  All\n",
            "Real                  \n",
            "0        434   37  471\n",
            "1         69  368  437\n",
            "All      503  405  908\n",
            "Relatorio de Classificacao:\n",
            "              precision    recall  f1-score   support\n",
            "\n",
            "           0       0.86      0.92      0.89       471\n",
            "           1       0.91      0.84      0.87       437\n",
            "\n",
            "    accuracy                           0.88       908\n",
            "   macro avg       0.89      0.88      0.88       908\n",
            "weighted avg       0.88      0.88      0.88       908\n",
            "\n",
            "\n",
            "\n",
            "Dano Praga vs Todos\n",
            "Parâmetros: {'C': 1000, 'gamma': 1, 'kernel': 'rbf'}\n",
            "Acurácia no treinamento: 87.58%\n",
            "Acurácia dos testes: 88.40%\n",
            "Matriz de Confusão:\n",
            "Predito    0    1  All\n",
            "Real                  \n",
            "0        420   44  464\n",
            "1         59  365  424\n",
            "All      479  409  888\n",
            "Relatorio de Classificacao:\n",
            "              precision    recall  f1-score   support\n",
            "\n",
            "           0       0.88      0.91      0.89       464\n",
            "           1       0.89      0.86      0.88       424\n",
            "\n",
            "    accuracy                           0.88       888\n",
            "   macro avg       0.88      0.88      0.88       888\n",
            "weighted avg       0.88      0.88      0.88       888\n",
            "\n",
            "\n",
            "\n",
            "Podre vs Todos\n",
            "Parâmetros: {'C': 1000, 'gamma': 1, 'kernel': 'rbf'}\n",
            "Acurácia no treinamento: 79.57%\n",
            "Acurácia dos testes: 81.61%\n",
            "Matriz de Confusão:\n",
            "Predito    0    1  All\n",
            "Real                  \n",
            "0        382   89  471\n",
            "1         78  359  437\n",
            "All      460  448  908\n",
            "Relatorio de Classificacao:\n",
            "              precision    recall  f1-score   support\n",
            "\n",
            "           0       0.83      0.81      0.82       471\n",
            "           1       0.80      0.82      0.81       437\n",
            "\n",
            "    accuracy                           0.82       908\n",
            "   macro avg       0.82      0.82      0.82       908\n",
            "weighted avg       0.82      0.82      0.82       908\n",
            "\n",
            "\n",
            "\n",
            "Verde vs Todos\n",
            "Parâmetros: {'C': 1000, 'gamma': 1, 'kernel': 'rbf'}\n",
            "Acurácia no treinamento: 90.86%\n",
            "Acurácia dos testes: 90.31%\n",
            "Matriz de Confusão:\n",
            "Predito    0    1  All\n",
            "Real                  \n",
            "0        430   41  471\n",
            "1         47  390  437\n",
            "All      477  431  908\n",
            "Relatorio de Classificacao:\n",
            "              precision    recall  f1-score   support\n",
            "\n",
            "           0       0.90      0.91      0.91       471\n",
            "           1       0.90      0.89      0.90       437\n",
            "\n",
            "    accuracy                           0.90       908\n",
            "   macro avg       0.90      0.90      0.90       908\n",
            "weighted avg       0.90      0.90      0.90       908\n",
            "\n"
          ]
        }
      ],
      "source": [
        "target_names = ['0','1']\n",
        "boa, casca_grossa, dano_praga, podre, verde = leitura(\"greycoprops_cinza/\")\n",
        "print(\"Boa vs Todos\")\n",
        "x_train, x_test, y_train, y_test = boa_vs_todos(boa, casca_grossa, dano_praga, podre, verde)\n",
        "svm_gridsearchcv(x_train, x_test, y_train, y_test, target_names)\n",
        "print(\"\\n\")\n",
        "print(\"Casca Grossa vs Todos\")\n",
        "x_train, x_test, y_train, y_test = casca_grossa_vs_todos(boa, casca_grossa, dano_praga, podre, verde)\n",
        "svm_gridsearchcv(x_train, x_test, y_train, y_test, target_names)\n",
        "print(\"\\n\")\n",
        "print(\"Dano Praga vs Todos\")\n",
        "x_train, x_test, y_train, y_test = dano_praga_vs_todos(boa, casca_grossa, dano_praga, podre, verde)\n",
        "svm_gridsearchcv(x_train, x_test, y_train, y_test, target_names)\n",
        "print(\"\\n\")\n",
        "print(\"Podre vs Todos\")\n",
        "x_train, x_test, y_train, y_test = podre_vs_todos(boa, casca_grossa, dano_praga, podre, verde)\n",
        "svm_gridsearchcv(x_train, x_test, y_train, y_test, target_names)\n",
        "print(\"\\n\")\n",
        "print(\"Verde vs Todos\")\n",
        "x_train, x_test, y_train, y_test = verde_vs_todos(boa, casca_grossa, dano_praga, podre, verde)\n",
        "svm_gridsearchcv(x_train, x_test, y_train, y_test, target_names)"
      ]
    },
    {
      "cell_type": "markdown",
      "metadata": {
        "id": "uqcIm7_P0TDi"
      },
      "source": [
        "### RGB"
      ]
    },
    {
      "cell_type": "code",
      "execution_count": null,
      "metadata": {
        "id": "FIXvCrBW0WfZ",
        "colab": {
          "base_uri": "https://localhost:8080/"
        },
        "outputId": "3600f4d3-055b-4b94-d963-866c2a2cd8d1"
      },
      "outputs": [
        {
          "output_type": "stream",
          "name": "stdout",
          "text": [
            "Boa vs Todos\n",
            "Parâmetros: {'C': 1000, 'gamma': 1, 'kernel': 'rbf'}\n",
            "Acurácia no treinamento: 92.10%\n",
            "Acurácia dos testes: 92.29%\n",
            "Matriz de Confusão:\n",
            "Predito    0    1  All\n",
            "Real                  \n",
            "0        437   34  471\n",
            "1         36  401  437\n",
            "All      473  435  908\n",
            "Relatorio de Classificacao:\n",
            "              precision    recall  f1-score   support\n",
            "\n",
            "           0       0.92      0.93      0.93       471\n",
            "           1       0.92      0.92      0.92       437\n",
            "\n",
            "    accuracy                           0.92       908\n",
            "   macro avg       0.92      0.92      0.92       908\n",
            "weighted avg       0.92      0.92      0.92       908\n",
            "\n",
            "\n",
            "\n",
            "Casca Grossa vs Todos\n",
            "Parâmetros: {'C': 100, 'gamma': 1, 'kernel': 'rbf'}\n",
            "Acurácia no treinamento: 96.17%\n",
            "Acurácia dos testes: 96.59%\n",
            "Matriz de Confusão:\n",
            "Predito    0    1  All\n",
            "Real                  \n",
            "0        462    9  471\n",
            "1         22  415  437\n",
            "All      484  424  908\n",
            "Relatorio de Classificacao:\n",
            "              precision    recall  f1-score   support\n",
            "\n",
            "           0       0.95      0.98      0.97       471\n",
            "           1       0.98      0.95      0.96       437\n",
            "\n",
            "    accuracy                           0.97       908\n",
            "   macro avg       0.97      0.97      0.97       908\n",
            "weighted avg       0.97      0.97      0.97       908\n",
            "\n",
            "\n",
            "\n",
            "Dano Praga vs Todos\n",
            "Parâmetros: {'C': 100, 'gamma': 1, 'kernel': 'rbf'}\n",
            "Acurácia no treinamento: 94.43%\n",
            "Acurácia dos testes: 93.92%\n",
            "Matriz de Confusão:\n",
            "Predito    0    1  All\n",
            "Real                  \n",
            "0        440   24  464\n",
            "1         30  394  424\n",
            "All      470  418  888\n",
            "Relatorio de Classificacao:\n",
            "              precision    recall  f1-score   support\n",
            "\n",
            "           0       0.94      0.95      0.94       464\n",
            "           1       0.94      0.93      0.94       424\n",
            "\n",
            "    accuracy                           0.94       888\n",
            "   macro avg       0.94      0.94      0.94       888\n",
            "weighted avg       0.94      0.94      0.94       888\n",
            "\n",
            "\n",
            "\n",
            "Podre vs Todos\n",
            "Parâmetros: {'C': 100, 'gamma': 1, 'kernel': 'rbf'}\n",
            "Acurácia no treinamento: 94.60%\n",
            "Acurácia dos testes: 94.49%\n",
            "Matriz de Confusão:\n",
            "Predito    0    1  All\n",
            "Real                  \n",
            "0        451   20  471\n",
            "1         30  407  437\n",
            "All      481  427  908\n",
            "Relatorio de Classificacao:\n",
            "              precision    recall  f1-score   support\n",
            "\n",
            "           0       0.94      0.96      0.95       471\n",
            "           1       0.95      0.93      0.94       437\n",
            "\n",
            "    accuracy                           0.94       908\n",
            "   macro avg       0.95      0.94      0.94       908\n",
            "weighted avg       0.95      0.94      0.94       908\n",
            "\n",
            "\n",
            "\n",
            "Verde vs Todos\n",
            "Parâmetros: {'C': 10, 'gamma': 1, 'kernel': 'rbf'}\n",
            "Acurácia no treinamento: 99.09%\n",
            "Acurácia dos testes: 98.68%\n",
            "Matriz de Confusão:\n",
            "Predito    0    1  All\n",
            "Real                  \n",
            "0        462    9  471\n",
            "1          3  434  437\n",
            "All      465  443  908\n",
            "Relatorio de Classificacao:\n",
            "              precision    recall  f1-score   support\n",
            "\n",
            "           0       0.99      0.98      0.99       471\n",
            "           1       0.98      0.99      0.99       437\n",
            "\n",
            "    accuracy                           0.99       908\n",
            "   macro avg       0.99      0.99      0.99       908\n",
            "weighted avg       0.99      0.99      0.99       908\n",
            "\n"
          ]
        }
      ],
      "source": [
        "target_names = ['0','1']\n",
        "boa, casca_grossa, dano_praga, podre, verde = leitura(\"greycoprops_colorida/\")\n",
        "print(\"Boa vs Todos\")\n",
        "x_train, x_test, y_train, y_test = boa_vs_todos(boa, casca_grossa, dano_praga, podre, verde)\n",
        "svm_gridsearchcv(x_train, x_test, y_train, y_test, target_names)\n",
        "print(\"\\n\")\n",
        "print(\"Casca Grossa vs Todos\")\n",
        "x_train, x_test, y_train, y_test = casca_grossa_vs_todos(boa, casca_grossa, dano_praga, podre, verde)\n",
        "svm_gridsearchcv(x_train, x_test, y_train, y_test, target_names)\n",
        "print(\"\\n\")\n",
        "print(\"Dano Praga vs Todos\")\n",
        "x_train, x_test, y_train, y_test = dano_praga_vs_todos(boa, casca_grossa, dano_praga, podre, verde)\n",
        "svm_gridsearchcv(x_train, x_test, y_train, y_test, target_names)\n",
        "print(\"\\n\")\n",
        "print(\"Podre vs Todos\")\n",
        "x_train, x_test, y_train, y_test = podre_vs_todos(boa, casca_grossa, dano_praga, podre, verde)\n",
        "svm_gridsearchcv(x_train, x_test, y_train, y_test, target_names)\n",
        "print(\"\\n\")\n",
        "print(\"Verde vs Todos\")\n",
        "x_train, x_test, y_train, y_test = verde_vs_todos(boa, casca_grossa, dano_praga, podre, verde)\n",
        "svm_gridsearchcv(x_train, x_test, y_train, y_test, target_names)"
      ]
    },
    {
      "cell_type": "markdown",
      "source": [
        "# **Binária: Removendo a Verde**"
      ],
      "metadata": {
        "id": "crsd1OUd371Q"
      }
    },
    {
      "cell_type": "markdown",
      "metadata": {
        "id": "Uvl6bKOrcYAm"
      },
      "source": [
        "## K-NN"
      ]
    },
    {
      "cell_type": "markdown",
      "source": [
        "### Tons de Cinza"
      ],
      "metadata": {
        "id": "4RWV07cO8brK"
      }
    },
    {
      "cell_type": "code",
      "execution_count": null,
      "metadata": {
        "id": "J9Tv309LcYAn",
        "colab": {
          "base_uri": "https://localhost:8080/"
        },
        "outputId": "722b680b-6569-4d64-c8b5-dc78d81e33e1"
      },
      "outputs": [
        {
          "output_type": "stream",
          "name": "stdout",
          "text": [
            "Boa vs Todos\n",
            "Parâmetros: {'leaf_size': 20, 'metric': 'chebyshev', 'n_neighbors': 8, 'p': 1, 'weights': 'distance'}\n",
            "Acurácia para os dados de treinamento: 81.66%\n",
            "Acurácia dos testes: 81.06%\n",
            "Matriz de Confusão:\n",
            "Predito    0    1  All\n",
            "Real                  \n",
            "0        393   78  471\n",
            "1         94  343  437\n",
            "All      487  421  908\n",
            "Relatorio de Classificacao:\n",
            "              precision    recall  f1-score   support\n",
            "\n",
            "           0       0.81      0.83      0.82       471\n",
            "           1       0.81      0.78      0.80       437\n",
            "\n",
            "    accuracy                           0.81       908\n",
            "   macro avg       0.81      0.81      0.81       908\n",
            "weighted avg       0.81      0.81      0.81       908\n",
            "\n",
            "\n",
            "\n",
            "Casca Grossa vs Todos\n",
            "Parâmetros: {'leaf_size': 20, 'metric': 'chebyshev', 'n_neighbors': 4, 'p': 1, 'weights': 'distance'}\n",
            "Acurácia para os dados de treinamento: 81.14%\n",
            "Acurácia dos testes: 83.59%\n",
            "Matriz de Confusão:\n",
            "Predito    0    1  All\n",
            "Real                  \n",
            "0        400   71  471\n",
            "1         78  359  437\n",
            "All      478  430  908\n",
            "Relatorio de Classificacao:\n",
            "              precision    recall  f1-score   support\n",
            "\n",
            "           0       0.84      0.85      0.84       471\n",
            "           1       0.83      0.82      0.83       437\n",
            "\n",
            "    accuracy                           0.84       908\n",
            "   macro avg       0.84      0.84      0.84       908\n",
            "weighted avg       0.84      0.84      0.84       908\n",
            "\n",
            "\n",
            "\n",
            "Dano Praga vs Todos\n",
            "Parâmetros: {'leaf_size': 20, 'metric': 'minkowski', 'n_neighbors': 4, 'p': 2, 'weights': 'distance'}\n",
            "Acurácia para os dados de treinamento: 81.59%\n",
            "Acurácia dos testes: 77.70%\n",
            "Matriz de Confusão:\n",
            "Predito    0    1  All\n",
            "Real                  \n",
            "0        390   74  464\n",
            "1        124  300  424\n",
            "All      514  374  888\n",
            "Relatorio de Classificacao:\n",
            "              precision    recall  f1-score   support\n",
            "\n",
            "           0       0.76      0.84      0.80       464\n",
            "           1       0.80      0.71      0.75       424\n",
            "\n",
            "    accuracy                           0.78       888\n",
            "   macro avg       0.78      0.77      0.77       888\n",
            "weighted avg       0.78      0.78      0.78       888\n",
            "\n",
            "\n",
            "\n",
            "Podre vs Todos\n",
            "Parâmetros: {'leaf_size': 20, 'metric': 'minkowski', 'n_neighbors': 1, 'p': 1, 'weights': 'uniform'}\n",
            "Acurácia para os dados de treinamento: 78.16%\n",
            "Acurácia dos testes: 79.30%\n",
            "Matriz de Confusão:\n",
            "Predito    0    1  All\n",
            "Real                  \n",
            "0        370  101  471\n",
            "1         87  350  437\n",
            "All      457  451  908\n",
            "Relatorio de Classificacao:\n",
            "              precision    recall  f1-score   support\n",
            "\n",
            "           0       0.81      0.79      0.80       471\n",
            "           1       0.78      0.80      0.79       437\n",
            "\n",
            "    accuracy                           0.79       908\n",
            "   macro avg       0.79      0.79      0.79       908\n",
            "weighted avg       0.79      0.79      0.79       908\n",
            "\n"
          ]
        }
      ],
      "source": [
        "target_names = ['0','1']\n",
        "boa, casca_grossa, dano_praga, podre, verde = leitura(\"greycoprops_cinza/\")\n",
        "print(\"Boa vs Todos\")\n",
        "x_train, x_test, y_train, y_test = boa_vs_todosRV(boa, casca_grossa, dano_praga, podre)\n",
        "knn_gridsearchcv(x_train, x_test, y_train, y_test, target_names)\n",
        "print(\"\\n\")\n",
        "print(\"Casca Grossa vs Todos\")\n",
        "x_train, x_test, y_train, y_test = casca_grossa_vs_todosRV(boa, casca_grossa, dano_praga, podre)\n",
        "knn_gridsearchcv(x_train, x_test, y_train, y_test, target_names)\n",
        "print(\"\\n\")\n",
        "print(\"Dano Praga vs Todos\")\n",
        "x_train, x_test, y_train, y_test = dano_praga_vs_todosRV(boa, casca_grossa, dano_praga, podre)\n",
        "knn_gridsearchcv(x_train, x_test, y_train, y_test, target_names)\n",
        "print(\"\\n\")\n",
        "print(\"Podre vs Todos\")\n",
        "x_train, x_test, y_train, y_test = podre_vs_todosRV(boa, casca_grossa, dano_praga, podre)\n",
        "knn_gridsearchcv(x_train, x_test, y_train, y_test, target_names)"
      ]
    },
    {
      "cell_type": "markdown",
      "metadata": {
        "id": "kvSpAQlhcYAp"
      },
      "source": [
        "### RGB"
      ]
    },
    {
      "cell_type": "code",
      "execution_count": null,
      "metadata": {
        "id": "KpHbblRxcYAp",
        "colab": {
          "base_uri": "https://localhost:8080/"
        },
        "outputId": "4b1e852d-fb3f-457a-8b5b-e55cce3ef442"
      },
      "outputs": [
        {
          "output_type": "stream",
          "name": "stdout",
          "text": [
            "Boa vs Todos\n",
            "Parâmetros: {'leaf_size': 20, 'metric': 'chebyshev', 'n_neighbors': 4, 'p': 1, 'weights': 'distance'}\n",
            "Acurácia para os dados de treinamento: 87.17%\n",
            "Acurácia dos testes: 86.56%\n",
            "Matriz de Confusão:\n",
            "Predito    0    1  All\n",
            "Real                  \n",
            "0        419   52  471\n",
            "1         70  367  437\n",
            "All      489  419  908\n",
            "Relatorio de Classificacao:\n",
            "              precision    recall  f1-score   support\n",
            "\n",
            "           0       0.86      0.89      0.87       471\n",
            "           1       0.88      0.84      0.86       437\n",
            "\n",
            "    accuracy                           0.87       908\n",
            "   macro avg       0.87      0.86      0.87       908\n",
            "weighted avg       0.87      0.87      0.87       908\n",
            "\n",
            "\n",
            "\n",
            "Casca Grossa vs Todos\n",
            "Parâmetros: {'leaf_size': 20, 'metric': 'chebyshev', 'n_neighbors': 3, 'p': 1, 'weights': 'distance'}\n",
            "Acurácia para os dados de treinamento: 91.77%\n",
            "Acurácia dos testes: 93.50%\n",
            "Matriz de Confusão:\n",
            "Predito    0    1  All\n",
            "Real                  \n",
            "0        450   21  471\n",
            "1         38  399  437\n",
            "All      488  420  908\n",
            "Relatorio de Classificacao:\n",
            "              precision    recall  f1-score   support\n",
            "\n",
            "           0       0.92      0.96      0.94       471\n",
            "           1       0.95      0.91      0.93       437\n",
            "\n",
            "    accuracy                           0.94       908\n",
            "   macro avg       0.94      0.93      0.93       908\n",
            "weighted avg       0.94      0.94      0.93       908\n",
            "\n",
            "\n",
            "\n",
            "Dano Praga vs Todos\n",
            "Parâmetros: {'leaf_size': 20, 'metric': 'minkowski', 'n_neighbors': 4, 'p': 2, 'weights': 'distance'}\n",
            "Acurácia para os dados de treinamento: 89.30%\n",
            "Acurácia dos testes: 87.95%\n",
            "Matriz de Confusão:\n",
            "Predito    0    1  All\n",
            "Real                  \n",
            "0        430   34  464\n",
            "1         73  351  424\n",
            "All      503  385  888\n",
            "Relatorio de Classificacao:\n",
            "              precision    recall  f1-score   support\n",
            "\n",
            "           0       0.85      0.93      0.89       464\n",
            "           1       0.91      0.83      0.87       424\n",
            "\n",
            "    accuracy                           0.88       888\n",
            "   macro avg       0.88      0.88      0.88       888\n",
            "weighted avg       0.88      0.88      0.88       888\n",
            "\n",
            "\n",
            "\n",
            "Podre vs Todos\n",
            "Parâmetros: {'leaf_size': 20, 'metric': 'chebyshev', 'n_neighbors': 4, 'p': 1, 'weights': 'distance'}\n",
            "Acurácia para os dados de treinamento: 87.36%\n",
            "Acurácia dos testes: 87.44%\n",
            "Matriz de Confusão:\n",
            "Predito    0    1  All\n",
            "Real                  \n",
            "0        412   59  471\n",
            "1         55  382  437\n",
            "All      467  441  908\n",
            "Relatorio de Classificacao:\n",
            "              precision    recall  f1-score   support\n",
            "\n",
            "           0       0.88      0.87      0.88       471\n",
            "           1       0.87      0.87      0.87       437\n",
            "\n",
            "    accuracy                           0.87       908\n",
            "   macro avg       0.87      0.87      0.87       908\n",
            "weighted avg       0.87      0.87      0.87       908\n",
            "\n"
          ]
        }
      ],
      "source": [
        "target_names = ['0','1']\n",
        "boa, casca_grossa, dano_praga, podre, verde = leitura(\"greycoprops_colorida/\")\n",
        "print(\"Boa vs Todos\")\n",
        "x_train, x_test, y_train, y_test = boa_vs_todosRV(boa, casca_grossa, dano_praga, podre)\n",
        "knn_gridsearchcv(x_train, x_test, y_train, y_test, target_names)\n",
        "print(\"\\n\")\n",
        "print(\"Casca Grossa vs Todos\")\n",
        "x_train, x_test, y_train, y_test = casca_grossa_vs_todosRV(boa, casca_grossa, dano_praga, podre)\n",
        "knn_gridsearchcv(x_train, x_test, y_train, y_test, target_names)\n",
        "print(\"\\n\")\n",
        "print(\"Dano Praga vs Todos\")\n",
        "x_train, x_test, y_train, y_test = dano_praga_vs_todosRV(boa, casca_grossa, dano_praga, podre)\n",
        "knn_gridsearchcv(x_train, x_test, y_train, y_test, target_names)\n",
        "print(\"\\n\")\n",
        "print(\"Podre vs Todos\")\n",
        "x_train, x_test, y_train, y_test = podre_vs_todosRV(boa, casca_grossa, dano_praga, podre)\n",
        "knn_gridsearchcv(x_train, x_test, y_train, y_test, target_names)"
      ]
    },
    {
      "cell_type": "markdown",
      "metadata": {
        "id": "UVaAaC3xdxdR"
      },
      "source": [
        "## RandomForest "
      ]
    },
    {
      "cell_type": "markdown",
      "source": [
        "### Tons de Cinza"
      ],
      "metadata": {
        "id": "bc0x-nfb8nkh"
      }
    },
    {
      "cell_type": "code",
      "execution_count": null,
      "metadata": {
        "id": "W5_fyyQOdxdR",
        "colab": {
          "base_uri": "https://localhost:8080/"
        },
        "outputId": "2798e5a9-7810-448e-8697-681f8a563cbd"
      },
      "outputs": [
        {
          "output_type": "stream",
          "name": "stdout",
          "text": [
            "Boa vs Todos\n",
            "Parâmetros: {'max_depth': 50, 'min_samples_leaf': 1, 'min_samples_split': 2, 'n_estimators': 200}\n",
            "Acurácia no treinamento: 84.58%\n",
            "Acurácia dos testes: 82.82%\n",
            "Matriz de Confusão:\n",
            "Predito    0    1  All\n",
            "Real                  \n",
            "0        382   89  471\n",
            "1         67  370  437\n",
            "All      449  459  908\n",
            "Relatorio de Classificacao:\n",
            "              precision    recall  f1-score   support\n",
            "\n",
            "           0       0.85      0.81      0.83       471\n",
            "           1       0.81      0.85      0.83       437\n",
            "\n",
            "    accuracy                           0.83       908\n",
            "   macro avg       0.83      0.83      0.83       908\n",
            "weighted avg       0.83      0.83      0.83       908\n",
            "\n",
            "\n",
            "\n",
            "Casca Grossa vs Todos\n",
            "Parâmetros: {'max_depth': 50, 'min_samples_leaf': 1, 'min_samples_split': 5, 'n_estimators': 200}\n",
            "Acurácia no treinamento: 81.99%\n",
            "Acurácia dos testes: 83.92%\n",
            "Matriz de Confusão:\n",
            "Predito    0    1  All\n",
            "Real                  \n",
            "0        400   71  471\n",
            "1         75  362  437\n",
            "All      475  433  908\n",
            "Relatorio de Classificacao:\n",
            "              precision    recall  f1-score   support\n",
            "\n",
            "           0       0.84      0.85      0.85       471\n",
            "           1       0.84      0.83      0.83       437\n",
            "\n",
            "    accuracy                           0.84       908\n",
            "   macro avg       0.84      0.84      0.84       908\n",
            "weighted avg       0.84      0.84      0.84       908\n",
            "\n",
            "\n",
            "\n",
            "Dano Praga vs Todos\n",
            "Parâmetros: {'max_depth': 50, 'min_samples_leaf': 1, 'min_samples_split': 2, 'n_estimators': 200}\n",
            "Acurácia no treinamento: 84.15%\n",
            "Acurácia dos testes: 82.55%\n",
            "Matriz de Confusão:\n",
            "Predito    0    1  All\n",
            "Real                  \n",
            "0        390   74  464\n",
            "1         81  343  424\n",
            "All      471  417  888\n",
            "Relatorio de Classificacao:\n",
            "              precision    recall  f1-score   support\n",
            "\n",
            "           0       0.83      0.84      0.83       464\n",
            "           1       0.82      0.81      0.82       424\n",
            "\n",
            "    accuracy                           0.83       888\n",
            "   macro avg       0.83      0.82      0.82       888\n",
            "weighted avg       0.83      0.83      0.83       888\n",
            "\n",
            "\n",
            "\n",
            "Podre vs Todos\n",
            "Parâmetros: {'max_depth': 50, 'min_samples_leaf': 1, 'min_samples_split': 2, 'n_estimators': 200}\n",
            "Acurácia no treinamento: 79.57%\n",
            "Acurácia dos testes: 79.96%\n",
            "Matriz de Confusão:\n",
            "Predito    0    1  All\n",
            "Real                  \n",
            "0        345  126  471\n",
            "1         56  381  437\n",
            "All      401  507  908\n",
            "Relatorio de Classificacao:\n",
            "              precision    recall  f1-score   support\n",
            "\n",
            "           0       0.86      0.73      0.79       471\n",
            "           1       0.75      0.87      0.81       437\n",
            "\n",
            "    accuracy                           0.80       908\n",
            "   macro avg       0.81      0.80      0.80       908\n",
            "weighted avg       0.81      0.80      0.80       908\n",
            "\n"
          ]
        }
      ],
      "source": [
        "target_names = ['0','1']\n",
        "boa, casca_grossa, dano_praga, podre, verde = leitura(\"greycoprops_cinza/\")\n",
        "print(\"Boa vs Todos\")\n",
        "x_train, x_test, y_train, y_test = boa_vs_todosRV(boa, casca_grossa, dano_praga, podre)\n",
        "rf_gridsearchcv(x_train, x_test, y_train, y_test, target_names)\n",
        "print(\"\\n\")\n",
        "print(\"Casca Grossa vs Todos\")\n",
        "x_train, x_test, y_train, y_test = casca_grossa_vs_todosRV(boa, casca_grossa, dano_praga, podre)\n",
        "rf_gridsearchcv(x_train, x_test, y_train, y_test, target_names)\n",
        "print(\"\\n\")\n",
        "print(\"Dano Praga vs Todos\")\n",
        "x_train, x_test, y_train, y_test = dano_praga_vs_todosRV(boa, casca_grossa, dano_praga, podre)\n",
        "rf_gridsearchcv(x_train, x_test, y_train, y_test, target_names)\n",
        "print(\"\\n\")\n",
        "print(\"Podre vs Todos\")\n",
        "x_train, x_test, y_train, y_test = podre_vs_todosRV(boa, casca_grossa, dano_praga, podre)\n",
        "rf_gridsearchcv(x_train, x_test, y_train, y_test, target_names)"
      ]
    },
    {
      "cell_type": "markdown",
      "metadata": {
        "id": "v7x1sSQzdxdS"
      },
      "source": [
        "### RGB"
      ]
    },
    {
      "cell_type": "code",
      "execution_count": null,
      "metadata": {
        "id": "UjDnHpzHdxdS",
        "colab": {
          "base_uri": "https://localhost:8080/"
        },
        "outputId": "1dd0cb4e-0ae2-47fb-b828-690c49f3cabc"
      },
      "outputs": [
        {
          "output_type": "stream",
          "name": "stdout",
          "text": [
            "Boa vs Todos\n",
            "Parâmetros: {'max_depth': 50, 'min_samples_leaf': 1, 'min_samples_split': 2, 'n_estimators': 100}\n",
            "Acurácia no treinamento: 87.94%\n",
            "Acurácia dos testes: 86.89%\n",
            "Matriz de Confusão:\n",
            "Predito    0    1  All\n",
            "Real                  \n",
            "0        401   70  471\n",
            "1         49  388  437\n",
            "All      450  458  908\n",
            "Relatorio de Classificacao:\n",
            "              precision    recall  f1-score   support\n",
            "\n",
            "           0       0.89      0.85      0.87       471\n",
            "           1       0.85      0.89      0.87       437\n",
            "\n",
            "    accuracy                           0.87       908\n",
            "   macro avg       0.87      0.87      0.87       908\n",
            "weighted avg       0.87      0.87      0.87       908\n",
            "\n",
            "\n",
            "\n",
            "Casca Grossa vs Todos\n",
            "Parâmetros: {'max_depth': 50, 'min_samples_leaf': 1, 'min_samples_split': 5, 'n_estimators': 100}\n",
            "Acurácia no treinamento: 92.59%\n",
            "Acurácia dos testes: 94.71%\n",
            "Matriz de Confusão:\n",
            "Predito    0    1  All\n",
            "Real                  \n",
            "0        448   23  471\n",
            "1         25  412  437\n",
            "All      473  435  908\n",
            "Relatorio de Classificacao:\n",
            "              precision    recall  f1-score   support\n",
            "\n",
            "           0       0.95      0.95      0.95       471\n",
            "           1       0.95      0.94      0.94       437\n",
            "\n",
            "    accuracy                           0.95       908\n",
            "   macro avg       0.95      0.95      0.95       908\n",
            "weighted avg       0.95      0.95      0.95       908\n",
            "\n",
            "\n",
            "\n",
            "Dano Praga vs Todos\n",
            "Parâmetros: {'max_depth': 50, 'min_samples_leaf': 1, 'min_samples_split': 5, 'n_estimators': 100}\n",
            "Acurácia no treinamento: 89.61%\n",
            "Acurácia dos testes: 87.95%\n",
            "Matriz de Confusão:\n",
            "Predito    0    1  All\n",
            "Real                  \n",
            "0        414   50  464\n",
            "1         57  367  424\n",
            "All      471  417  888\n",
            "Relatorio de Classificacao:\n",
            "              precision    recall  f1-score   support\n",
            "\n",
            "           0       0.88      0.89      0.89       464\n",
            "           1       0.88      0.87      0.87       424\n",
            "\n",
            "    accuracy                           0.88       888\n",
            "   macro avg       0.88      0.88      0.88       888\n",
            "weighted avg       0.88      0.88      0.88       888\n",
            "\n",
            "\n",
            "\n",
            "Podre vs Todos\n",
            "Parâmetros: {'max_depth': 50, 'min_samples_leaf': 1, 'min_samples_split': 5, 'n_estimators': 200}\n",
            "Acurácia no treinamento: 87.39%\n",
            "Acurácia dos testes: 87.00%\n",
            "Matriz de Confusão:\n",
            "Predito    0    1  All\n",
            "Real                  \n",
            "0        396   75  471\n",
            "1         43  394  437\n",
            "All      439  469  908\n",
            "Relatorio de Classificacao:\n",
            "              precision    recall  f1-score   support\n",
            "\n",
            "           0       0.90      0.84      0.87       471\n",
            "           1       0.84      0.90      0.87       437\n",
            "\n",
            "    accuracy                           0.87       908\n",
            "   macro avg       0.87      0.87      0.87       908\n",
            "weighted avg       0.87      0.87      0.87       908\n",
            "\n"
          ]
        }
      ],
      "source": [
        "target_names = ['0','1']\n",
        "boa, casca_grossa, dano_praga, podre, verde = leitura(\"greycoprops_colorida/\")\n",
        "print(\"Boa vs Todos\")\n",
        "x_train, x_test, y_train, y_test = boa_vs_todosRV(boa, casca_grossa, dano_praga, podre)\n",
        "rf_gridsearchcv(x_train, x_test, y_train, y_test, target_names)\n",
        "print(\"\\n\")\n",
        "print(\"Casca Grossa vs Todos\")\n",
        "x_train, x_test, y_train, y_test = casca_grossa_vs_todosRV(boa, casca_grossa, dano_praga, podre)\n",
        "rf_gridsearchcv(x_train, x_test, y_train, y_test, target_names)\n",
        "print(\"\\n\")\n",
        "print(\"Dano Praga vs Todos\")\n",
        "x_train, x_test, y_train, y_test = dano_praga_vs_todosRV(boa, casca_grossa, dano_praga, podre)\n",
        "rf_gridsearchcv(x_train, x_test, y_train, y_test, target_names)\n",
        "print(\"\\n\")\n",
        "print(\"Podre vs Todos\")\n",
        "x_train, x_test, y_train, y_test = podre_vs_todosRV(boa, casca_grossa, dano_praga, podre)\n",
        "rf_gridsearchcv(x_train, x_test, y_train, y_test, target_names)"
      ]
    },
    {
      "cell_type": "markdown",
      "metadata": {
        "id": "EuNHFW4KeFTL"
      },
      "source": [
        "## SVM"
      ]
    },
    {
      "cell_type": "markdown",
      "source": [
        "### Tons de Cinza"
      ],
      "metadata": {
        "id": "aWVJ91Yz85g7"
      }
    },
    {
      "cell_type": "code",
      "execution_count": null,
      "metadata": {
        "id": "iYTZOt5EeFTM",
        "colab": {
          "base_uri": "https://localhost:8080/"
        },
        "outputId": "d97e4d25-24a8-402b-893b-ea573bccd39b"
      },
      "outputs": [
        {
          "output_type": "stream",
          "name": "stdout",
          "text": [
            "Boa vs Todos\n",
            "Parâmetros: {'C': 1000, 'gamma': 1, 'kernel': 'rbf'}\n",
            "Acurácia no treinamento: 85.00%\n",
            "Acurácia dos testes: 85.46%\n",
            "Matriz de Confusão:\n",
            "Predito    0    1  All\n",
            "Real                  \n",
            "0        404   67  471\n",
            "1         65  372  437\n",
            "All      469  439  908\n",
            "Relatorio de Classificacao:\n",
            "              precision    recall  f1-score   support\n",
            "\n",
            "           0       0.86      0.86      0.86       471\n",
            "           1       0.85      0.85      0.85       437\n",
            "\n",
            "    accuracy                           0.85       908\n",
            "   macro avg       0.85      0.85      0.85       908\n",
            "weighted avg       0.85      0.85      0.85       908\n",
            "\n",
            "\n",
            "\n",
            "Casca Grossa vs Todos\n",
            "Parâmetros: {'C': 1000, 'gamma': 1, 'kernel': 'rbf'}\n",
            "Acurácia no treinamento: 85.68%\n",
            "Acurácia dos testes: 89.21%\n",
            "Matriz de Confusão:\n",
            "Predito    0    1  All\n",
            "Real                  \n",
            "0        426   45  471\n",
            "1         53  384  437\n",
            "All      479  429  908\n",
            "Relatorio de Classificacao:\n",
            "              precision    recall  f1-score   support\n",
            "\n",
            "           0       0.89      0.90      0.90       471\n",
            "           1       0.90      0.88      0.89       437\n",
            "\n",
            "    accuracy                           0.89       908\n",
            "   macro avg       0.89      0.89      0.89       908\n",
            "weighted avg       0.89      0.89      0.89       908\n",
            "\n",
            "\n",
            "\n",
            "Dano Praga vs Todos\n",
            "Parâmetros: {'C': 1000, 'gamma': 1, 'kernel': 'rbf'}\n",
            "Acurácia no treinamento: 87.92%\n",
            "Acurácia dos testes: 86.15%\n",
            "Matriz de Confusão:\n",
            "Predito    0    1  All\n",
            "Real                  \n",
            "0        418   46  464\n",
            "1         77  347  424\n",
            "All      495  393  888\n",
            "Relatorio de Classificacao:\n",
            "              precision    recall  f1-score   support\n",
            "\n",
            "           0       0.84      0.90      0.87       464\n",
            "           1       0.88      0.82      0.85       424\n",
            "\n",
            "    accuracy                           0.86       888\n",
            "   macro avg       0.86      0.86      0.86       888\n",
            "weighted avg       0.86      0.86      0.86       888\n",
            "\n",
            "\n",
            "\n",
            "Podre vs Todos\n",
            "Parâmetros: {'C': 1000, 'gamma': 1, 'kernel': 'rbf'}\n",
            "Acurácia no treinamento: 80.97%\n",
            "Acurácia dos testes: 83.15%\n",
            "Matriz de Confusão:\n",
            "Predito    0    1  All\n",
            "Real                  \n",
            "0        378   93  471\n",
            "1         60  377  437\n",
            "All      438  470  908\n",
            "Relatorio de Classificacao:\n",
            "              precision    recall  f1-score   support\n",
            "\n",
            "           0       0.86      0.80      0.83       471\n",
            "           1       0.80      0.86      0.83       437\n",
            "\n",
            "    accuracy                           0.83       908\n",
            "   macro avg       0.83      0.83      0.83       908\n",
            "weighted avg       0.83      0.83      0.83       908\n",
            "\n"
          ]
        }
      ],
      "source": [
        "target_names = ['0','1']\n",
        "boa, casca_grossa, dano_praga, podre, verde = leitura(\"greycoprops_cinza/\")\n",
        "print(\"Boa vs Todos\")\n",
        "x_train, x_test, y_train, y_test = boa_vs_todosRV(boa, casca_grossa, dano_praga, podre)\n",
        "svm_gridsearchcv(x_train, x_test, y_train, y_test, target_names)\n",
        "print(\"\\n\")\n",
        "print(\"Casca Grossa vs Todos\")\n",
        "x_train, x_test, y_train, y_test = casca_grossa_vs_todosRV(boa, casca_grossa, dano_praga, podre)\n",
        "svm_gridsearchcv(x_train, x_test, y_train, y_test, target_names)\n",
        "print(\"\\n\")\n",
        "print(\"Dano Praga vs Todos\")\n",
        "x_train, x_test, y_train, y_test = dano_praga_vs_todosRV(boa, casca_grossa, dano_praga, podre)\n",
        "svm_gridsearchcv(x_train, x_test, y_train, y_test, target_names)\n",
        "print(\"\\n\")\n",
        "print(\"Podre vs Todos\")\n",
        "x_train, x_test, y_train, y_test = podre_vs_todosRV(boa, casca_grossa, dano_praga, podre)\n",
        "svm_gridsearchcv(x_train, x_test, y_train, y_test, target_names)"
      ]
    },
    {
      "cell_type": "markdown",
      "metadata": {
        "id": "G7FzyjKleFTM"
      },
      "source": [
        "### RGB"
      ]
    },
    {
      "cell_type": "code",
      "execution_count": null,
      "metadata": {
        "id": "xHM7DKyUeFTN",
        "colab": {
          "base_uri": "https://localhost:8080/"
        },
        "outputId": "235644d2-a686-4014-bdd6-8c136614a1ab"
      },
      "outputs": [
        {
          "output_type": "stream",
          "name": "stdout",
          "text": [
            "Boa vs Todos\n",
            "Parâmetros: {'C': 100, 'gamma': 1, 'kernel': 'rbf'}\n",
            "Acurácia no treinamento: 91.44%\n",
            "Acurácia dos testes: 91.41%\n",
            "Matriz de Confusão:\n",
            "Predito    0    1  All\n",
            "Real                  \n",
            "0        427   44  471\n",
            "1         34  403  437\n",
            "All      461  447  908\n",
            "Relatorio de Classificacao:\n",
            "              precision    recall  f1-score   support\n",
            "\n",
            "           0       0.93      0.91      0.92       471\n",
            "           1       0.90      0.92      0.91       437\n",
            "\n",
            "    accuracy                           0.91       908\n",
            "   macro avg       0.91      0.91      0.91       908\n",
            "weighted avg       0.91      0.91      0.91       908\n",
            "\n",
            "\n",
            "\n",
            "Casca Grossa vs Todos\n",
            "Parâmetros: {'C': 100, 'gamma': 1, 'kernel': 'rbf'}\n",
            "Acurácia no treinamento: 96.26%\n",
            "Acurácia dos testes: 97.69%\n",
            "Matriz de Confusão:\n",
            "Predito    0    1  All\n",
            "Real                  \n",
            "0        463    8  471\n",
            "1         13  424  437\n",
            "All      476  432  908\n",
            "Relatorio de Classificacao:\n",
            "              precision    recall  f1-score   support\n",
            "\n",
            "           0       0.97      0.98      0.98       471\n",
            "           1       0.98      0.97      0.98       437\n",
            "\n",
            "    accuracy                           0.98       908\n",
            "   macro avg       0.98      0.98      0.98       908\n",
            "weighted avg       0.98      0.98      0.98       908\n",
            "\n",
            "\n",
            "\n",
            "Dano Praga vs Todos\n",
            "Parâmetros: {'C': 100, 'gamma': 1, 'kernel': 'rbf'}\n",
            "Acurácia no treinamento: 93.55%\n",
            "Acurácia dos testes: 93.58%\n",
            "Matriz de Confusão:\n",
            "Predito    0    1  All\n",
            "Real                  \n",
            "0        443   21  464\n",
            "1         36  388  424\n",
            "All      479  409  888\n",
            "Relatorio de Classificacao:\n",
            "              precision    recall  f1-score   support\n",
            "\n",
            "           0       0.92      0.95      0.94       464\n",
            "           1       0.95      0.92      0.93       424\n",
            "\n",
            "    accuracy                           0.94       888\n",
            "   macro avg       0.94      0.93      0.94       888\n",
            "weighted avg       0.94      0.94      0.94       888\n",
            "\n",
            "\n",
            "\n",
            "Podre vs Todos\n",
            "Parâmetros: {'C': 100, 'gamma': 1, 'kernel': 'rbf'}\n",
            "Acurácia no treinamento: 94.05%\n",
            "Acurácia dos testes: 94.38%\n",
            "Matriz de Confusão:\n",
            "Predito    0    1  All\n",
            "Real                  \n",
            "0        446   25  471\n",
            "1         26  411  437\n",
            "All      472  436  908\n",
            "Relatorio de Classificacao:\n",
            "              precision    recall  f1-score   support\n",
            "\n",
            "           0       0.94      0.95      0.95       471\n",
            "           1       0.94      0.94      0.94       437\n",
            "\n",
            "    accuracy                           0.94       908\n",
            "   macro avg       0.94      0.94      0.94       908\n",
            "weighted avg       0.94      0.94      0.94       908\n",
            "\n"
          ]
        }
      ],
      "source": [
        "target_names = ['0','1']\n",
        "boa, casca_grossa, dano_praga, podre, verde = leitura(\"greycoprops_colorida/\")\n",
        "print(\"Boa vs Todos\")\n",
        "x_train, x_test, y_train, y_test = boa_vs_todosRV(boa, casca_grossa, dano_praga, podre)\n",
        "svm_gridsearchcv(x_train, x_test, y_train, y_test, target_names)\n",
        "print(\"\\n\")\n",
        "print(\"Casca Grossa vs Todos\")\n",
        "x_train, x_test, y_train, y_test = casca_grossa_vs_todosRV(boa, casca_grossa, dano_praga, podre)\n",
        "svm_gridsearchcv(x_train, x_test, y_train, y_test, target_names)\n",
        "print(\"\\n\")\n",
        "print(\"Dano Praga vs Todos\")\n",
        "x_train, x_test, y_train, y_test = dano_praga_vs_todosRV(boa, casca_grossa, dano_praga, podre)\n",
        "svm_gridsearchcv(x_train, x_test, y_train, y_test, target_names)\n",
        "print(\"\\n\")\n",
        "print(\"Podre vs Todos\")\n",
        "x_train, x_test, y_train, y_test = podre_vs_todosRV(boa, casca_grossa, dano_praga, podre)\n",
        "svm_gridsearchcv(x_train, x_test, y_train, y_test, target_names)"
      ]
    },
    {
      "cell_type": "markdown",
      "source": [
        "# **Binária: Removendo a Casca Grossa**"
      ],
      "metadata": {
        "id": "6blazZWoV0dF"
      }
    },
    {
      "cell_type": "markdown",
      "metadata": {
        "id": "6iCc1hbdV6aN"
      },
      "source": [
        "## K-NN"
      ]
    },
    {
      "cell_type": "markdown",
      "source": [
        "### Tons de Cinza"
      ],
      "metadata": {
        "id": "rsEm0X5QV6aO"
      }
    },
    {
      "cell_type": "code",
      "execution_count": null,
      "metadata": {
        "colab": {
          "base_uri": "https://localhost:8080/"
        },
        "outputId": "9d5e82da-635d-4428-e6cc-17db6af1e0aa",
        "id": "jIZOX8WxV6aO"
      },
      "outputs": [
        {
          "output_type": "stream",
          "name": "stdout",
          "text": [
            "Boa vs Todos\n",
            "Parâmetros: {'leaf_size': 20, 'metric': 'minkowski', 'n_neighbors': 5, 'p': 1, 'weights': 'distance'}\n",
            "Acurácia dos testes: 81.83%\n",
            "Matriz de Confusão:\n",
            "Predito    0    1  All\n",
            "Real                  \n",
            "0        392   79  471\n",
            "1         86  351  437\n",
            "All      478  430  908\n",
            "Relatorio de Classificacao:\n",
            "              precision    recall  f1-score   support\n",
            "\n",
            "           0       0.82      0.83      0.83       471\n",
            "           1       0.82      0.80      0.81       437\n",
            "\n",
            "    accuracy                           0.82       908\n",
            "   macro avg       0.82      0.82      0.82       908\n",
            "weighted avg       0.82      0.82      0.82       908\n",
            "\n",
            "\n",
            "\n",
            "Dano Praga vs Todos\n",
            "Parâmetros: {'leaf_size': 20, 'metric': 'minkowski', 'n_neighbors': 4, 'p': 2, 'weights': 'distance'}\n",
            "Acurácia dos testes: 83.67%\n",
            "Matriz de Confusão:\n",
            "Predito    0    1  All\n",
            "Real                  \n",
            "0        398   66  464\n",
            "1         79  345  424\n",
            "All      477  411  888\n",
            "Relatorio de Classificacao:\n",
            "              precision    recall  f1-score   support\n",
            "\n",
            "           0       0.83      0.86      0.85       464\n",
            "           1       0.84      0.81      0.83       424\n",
            "\n",
            "    accuracy                           0.84       888\n",
            "   macro avg       0.84      0.84      0.84       888\n",
            "weighted avg       0.84      0.84      0.84       888\n",
            "\n",
            "\n",
            "\n",
            "Podre vs Todos\n",
            "Parâmetros: {'leaf_size': 20, 'metric': 'minkowski', 'n_neighbors': 6, 'p': 1, 'weights': 'distance'}\n",
            "Acurácia dos testes: 80.29%\n",
            "Matriz de Confusão:\n",
            "Predito    0    1  All\n",
            "Real                  \n",
            "0        372   99  471\n",
            "1         80  357  437\n",
            "All      452  456  908\n",
            "Relatorio de Classificacao:\n",
            "              precision    recall  f1-score   support\n",
            "\n",
            "           0       0.82      0.79      0.81       471\n",
            "           1       0.78      0.82      0.80       437\n",
            "\n",
            "    accuracy                           0.80       908\n",
            "   macro avg       0.80      0.80      0.80       908\n",
            "weighted avg       0.80      0.80      0.80       908\n",
            "\n"
          ]
        }
      ],
      "source": [
        "target_names = ['0','1']\n",
        "boa, casca_grossa, dano_praga, podre, verde = leitura(\"greycoprops_cinza/\")\n",
        "print(\"Boa vs Todos\")\n",
        "x_train, x_test, y_train, y_test = boa_vs_todosRCG(boa, dano_praga, podre)\n",
        "knn_gridsearchcv(x_train, x_test, y_train, y_test, target_names)\n",
        "print(\"\\n\")\n",
        "print(\"Dano Praga vs Todos\")\n",
        "x_train, x_test, y_train, y_test = dano_praga_vs_todosRCG(boa, dano_praga, podre)\n",
        "knn_gridsearchcv(x_train, x_test, y_train, y_test, target_names)\n",
        "print(\"\\n\")\n",
        "print(\"Podre vs Todos\")\n",
        "x_train, x_test, y_train, y_test = podre_vs_todosRCG(boa, dano_praga, podre)\n",
        "knn_gridsearchcv(x_train, x_test, y_train, y_test, target_names)"
      ]
    },
    {
      "cell_type": "markdown",
      "metadata": {
        "id": "vWkgTIWtV6aP"
      },
      "source": [
        "### RGB"
      ]
    },
    {
      "cell_type": "code",
      "execution_count": null,
      "metadata": {
        "colab": {
          "base_uri": "https://localhost:8080/"
        },
        "outputId": "f4d4436e-8c90-47cf-c416-1ed9a7c872a2",
        "id": "qPWA2HDgV6aP"
      },
      "outputs": [
        {
          "output_type": "stream",
          "name": "stdout",
          "text": [
            "Boa vs Todos\n",
            "Parâmetros: {'leaf_size': 20, 'metric': 'chebyshev', 'n_neighbors': 1, 'p': 1, 'weights': 'uniform'}\n",
            "Acurácia dos testes: 88.99%\n",
            "Matriz de Confusão:\n",
            "Predito    0    1  All\n",
            "Real                  \n",
            "0        424   47  471\n",
            "1         53  384  437\n",
            "All      477  431  908\n",
            "Relatorio de Classificacao:\n",
            "              precision    recall  f1-score   support\n",
            "\n",
            "           0       0.89      0.90      0.89       471\n",
            "           1       0.89      0.88      0.88       437\n",
            "\n",
            "    accuracy                           0.89       908\n",
            "   macro avg       0.89      0.89      0.89       908\n",
            "weighted avg       0.89      0.89      0.89       908\n",
            "\n",
            "\n",
            "\n",
            "Dano Praga vs Todos\n",
            "Parâmetros: {'leaf_size': 20, 'metric': 'minkowski', 'n_neighbors': 1, 'p': 1, 'weights': 'uniform'}\n",
            "Acurácia dos testes: 89.30%\n",
            "Matriz de Confusão:\n",
            "Predito    0    1  All\n",
            "Real                  \n",
            "0        419   45  464\n",
            "1         50  374  424\n",
            "All      469  419  888\n",
            "Relatorio de Classificacao:\n",
            "              precision    recall  f1-score   support\n",
            "\n",
            "           0       0.89      0.90      0.90       464\n",
            "           1       0.89      0.88      0.89       424\n",
            "\n",
            "    accuracy                           0.89       888\n",
            "   macro avg       0.89      0.89      0.89       888\n",
            "weighted avg       0.89      0.89      0.89       888\n",
            "\n",
            "\n",
            "\n",
            "Podre vs Todos\n",
            "Parâmetros: {'leaf_size': 20, 'metric': 'chebyshev', 'n_neighbors': 4, 'p': 1, 'weights': 'distance'}\n",
            "Acurácia dos testes: 88.00%\n",
            "Matriz de Confusão:\n",
            "Predito    0    1  All\n",
            "Real                  \n",
            "0        417   54  471\n",
            "1         55  382  437\n",
            "All      472  436  908\n",
            "Relatorio de Classificacao:\n",
            "              precision    recall  f1-score   support\n",
            "\n",
            "           0       0.88      0.89      0.88       471\n",
            "           1       0.88      0.87      0.88       437\n",
            "\n",
            "    accuracy                           0.88       908\n",
            "   macro avg       0.88      0.88      0.88       908\n",
            "weighted avg       0.88      0.88      0.88       908\n",
            "\n"
          ]
        }
      ],
      "source": [
        "target_names = ['0','1']\n",
        "boa, casca_grossa, dano_praga, podre, verde = leitura(\"greycoprops_colorida/\")\n",
        "print(\"Boa vs Todos\")\n",
        "x_train, x_test, y_train, y_test = boa_vs_todosRCG(boa, dano_praga, podre)\n",
        "knn_gridsearchcv(x_train, x_test, y_train, y_test, target_names)\n",
        "print(\"\\n\")\n",
        "print(\"Dano Praga vs Todos\")\n",
        "x_train, x_test, y_train, y_test = dano_praga_vs_todosRCG(boa, dano_praga, podre)\n",
        "knn_gridsearchcv(x_train, x_test, y_train, y_test, target_names)\n",
        "print(\"\\n\")\n",
        "print(\"Podre vs Todos\")\n",
        "x_train, x_test, y_train, y_test = podre_vs_todosRCG(boa, dano_praga, podre)\n",
        "knn_gridsearchcv(x_train, x_test, y_train, y_test, target_names)"
      ]
    },
    {
      "cell_type": "markdown",
      "metadata": {
        "id": "JgR_TZW2V6aQ"
      },
      "source": [
        "## RandomForest "
      ]
    },
    {
      "cell_type": "markdown",
      "source": [
        "### Tons de Cinza"
      ],
      "metadata": {
        "id": "2FEZZQD7V6aQ"
      }
    },
    {
      "cell_type": "code",
      "execution_count": null,
      "metadata": {
        "colab": {
          "base_uri": "https://localhost:8080/"
        },
        "outputId": "7e07c888-d5c1-4979-8be7-3cc6353a9d2d",
        "id": "TYLcMGLxV6aQ"
      },
      "outputs": [
        {
          "output_type": "stream",
          "name": "stdout",
          "text": [
            "Boa vs Todos\n",
            "Parâmetros: {'max_depth': 50, 'min_samples_leaf': 1, 'min_samples_split': 2, 'n_estimators': 200}\n",
            "Acurácia dos testes: 84.69%\n",
            "Matriz de Confusão:\n",
            "Predito    0    1  All\n",
            "Real                  \n",
            "0        393   78  471\n",
            "1         61  376  437\n",
            "All      454  454  908\n",
            "Relatorio de Classificacao:\n",
            "              precision    recall  f1-score   support\n",
            "\n",
            "           0       0.87      0.83      0.85       471\n",
            "           1       0.83      0.86      0.84       437\n",
            "\n",
            "    accuracy                           0.85       908\n",
            "   macro avg       0.85      0.85      0.85       908\n",
            "weighted avg       0.85      0.85      0.85       908\n",
            "\n",
            "\n",
            "\n",
            "Dano Praga vs Todos\n",
            "Parâmetros: {'max_depth': 50, 'min_samples_leaf': 1, 'min_samples_split': 2, 'n_estimators': 200}\n",
            "Acurácia dos testes: 85.25%\n",
            "Matriz de Confusão:\n",
            "Predito    0    1  All\n",
            "Real                  \n",
            "0        396   68  464\n",
            "1         63  361  424\n",
            "All      459  429  888\n",
            "Relatorio de Classificacao:\n",
            "              precision    recall  f1-score   support\n",
            "\n",
            "           0       0.86      0.85      0.86       464\n",
            "           1       0.84      0.85      0.85       424\n",
            "\n",
            "    accuracy                           0.85       888\n",
            "   macro avg       0.85      0.85      0.85       888\n",
            "weighted avg       0.85      0.85      0.85       888\n",
            "\n",
            "\n",
            "\n",
            "Podre vs Todos\n",
            "Parâmetros: {'max_depth': 50, 'min_samples_leaf': 1, 'min_samples_split': 2, 'n_estimators': 100}\n",
            "Acurácia dos testes: 83.81%\n",
            "Matriz de Confusão:\n",
            "Predito    0    1  All\n",
            "Real                  \n",
            "0        375   96  471\n",
            "1         51  386  437\n",
            "All      426  482  908\n",
            "Relatorio de Classificacao:\n",
            "              precision    recall  f1-score   support\n",
            "\n",
            "           0       0.88      0.80      0.84       471\n",
            "           1       0.80      0.88      0.84       437\n",
            "\n",
            "    accuracy                           0.84       908\n",
            "   macro avg       0.84      0.84      0.84       908\n",
            "weighted avg       0.84      0.84      0.84       908\n",
            "\n"
          ]
        }
      ],
      "source": [
        "target_names = ['0','1']\n",
        "boa, casca_grossa, dano_praga, podre, verde = leitura(\"greycoprops_cinza/\")\n",
        "print(\"Boa vs Todos\")\n",
        "x_train, x_test, y_train, y_test = boa_vs_todosRCG(boa, dano_praga, podre)\n",
        "rf_gridsearchcv(x_train, x_test, y_train, y_test, target_names)\n",
        "print(\"\\n\")\n",
        "print(\"Dano Praga vs Todos\")\n",
        "x_train, x_test, y_train, y_test = dano_praga_vs_todosRCG(boa, dano_praga, podre)\n",
        "rf_gridsearchcv(x_train, x_test, y_train, y_test, target_names)\n",
        "print(\"\\n\")\n",
        "print(\"Podre vs Todos\")\n",
        "x_train, x_test, y_train, y_test = podre_vs_todosRCG(boa, dano_praga, podre)\n",
        "rf_gridsearchcv(x_train, x_test, y_train, y_test, target_names)"
      ]
    },
    {
      "cell_type": "markdown",
      "metadata": {
        "id": "D91yZxaaV6aR"
      },
      "source": [
        "### RGB"
      ]
    },
    {
      "cell_type": "code",
      "execution_count": null,
      "metadata": {
        "colab": {
          "base_uri": "https://localhost:8080/"
        },
        "outputId": "f634bce1-e29a-4f7d-f164-a1167cd38a5f",
        "id": "O2qbRuDlV6aR"
      },
      "outputs": [
        {
          "output_type": "stream",
          "name": "stdout",
          "text": [
            "Boa vs Todos\n",
            "Parâmetros: {'max_depth': 50, 'min_samples_leaf': 1, 'min_samples_split': 2, 'n_estimators': 200}\n",
            "Acurácia dos testes: 87.44%\n",
            "Matriz de Confusão:\n",
            "Predito    0    1  All\n",
            "Real                  \n",
            "0        410   61  471\n",
            "1         53  384  437\n",
            "All      463  445  908\n",
            "Relatorio de Classificacao:\n",
            "              precision    recall  f1-score   support\n",
            "\n",
            "           0       0.89      0.87      0.88       471\n",
            "           1       0.86      0.88      0.87       437\n",
            "\n",
            "    accuracy                           0.87       908\n",
            "   macro avg       0.87      0.87      0.87       908\n",
            "weighted avg       0.87      0.87      0.87       908\n",
            "\n",
            "\n",
            "\n",
            "Dano Praga vs Todos\n",
            "Parâmetros: {'max_depth': 50, 'min_samples_leaf': 1, 'min_samples_split': 2, 'n_estimators': 200}\n",
            "Acurácia dos testes: 88.29%\n",
            "Matriz de Confusão:\n",
            "Predito    0    1  All\n",
            "Real                  \n",
            "0        414   50  464\n",
            "1         54  370  424\n",
            "All      468  420  888\n",
            "Relatorio de Classificacao:\n",
            "              precision    recall  f1-score   support\n",
            "\n",
            "           0       0.88      0.89      0.89       464\n",
            "           1       0.88      0.87      0.88       424\n",
            "\n",
            "    accuracy                           0.88       888\n",
            "   macro avg       0.88      0.88      0.88       888\n",
            "weighted avg       0.88      0.88      0.88       888\n",
            "\n",
            "\n",
            "\n",
            "Podre vs Todos\n",
            "Parâmetros: {'max_depth': 50, 'min_samples_leaf': 1, 'min_samples_split': 2, 'n_estimators': 200}\n",
            "Acurácia dos testes: 87.78%\n",
            "Matriz de Confusão:\n",
            "Predito    0    1  All\n",
            "Real                  \n",
            "0        412   59  471\n",
            "1         52  385  437\n",
            "All      464  444  908\n",
            "Relatorio de Classificacao:\n",
            "              precision    recall  f1-score   support\n",
            "\n",
            "           0       0.89      0.87      0.88       471\n",
            "           1       0.87      0.88      0.87       437\n",
            "\n",
            "    accuracy                           0.88       908\n",
            "   macro avg       0.88      0.88      0.88       908\n",
            "weighted avg       0.88      0.88      0.88       908\n",
            "\n"
          ]
        }
      ],
      "source": [
        "target_names = ['0','1']\n",
        "boa, casca_grossa, dano_praga, podre, verde = leitura(\"greycoprops_colorida/\")\n",
        "print(\"Boa vs Todos\")\n",
        "x_train, x_test, y_train, y_test = boa_vs_todosRCG(boa, dano_praga, podre)\n",
        "rf_gridsearchcv(x_train, x_test, y_train, y_test, target_names)\n",
        "print(\"\\n\")\n",
        "print(\"Dano Praga vs Todos\")\n",
        "x_train, x_test, y_train, y_test = dano_praga_vs_todosRCG(boa, dano_praga, podre)\n",
        "rf_gridsearchcv(x_train, x_test, y_train, y_test, target_names)\n",
        "print(\"\\n\")\n",
        "print(\"Podre vs Todos\")\n",
        "x_train, x_test, y_train, y_test = podre_vs_todosRCG(boa, dano_praga, podre)\n",
        "rf_gridsearchcv(x_train, x_test, y_train, y_test, target_names)"
      ]
    },
    {
      "cell_type": "markdown",
      "metadata": {
        "id": "1gVr0R8dV6aS"
      },
      "source": [
        "## SVM"
      ]
    },
    {
      "cell_type": "markdown",
      "source": [
        "### Tons de Cinza"
      ],
      "metadata": {
        "id": "OYza5PrVV6aS"
      }
    },
    {
      "cell_type": "code",
      "execution_count": null,
      "metadata": {
        "colab": {
          "base_uri": "https://localhost:8080/"
        },
        "outputId": "a4654c70-500c-4ea4-b8eb-dd0c2e288a44",
        "id": "J_uEQR9oV6aT"
      },
      "outputs": [
        {
          "output_type": "stream",
          "name": "stdout",
          "text": [
            "Boa vs Todos\n",
            "Parâmetros: {'C': 1000, 'gamma': 1, 'kernel': 'rbf'}\n",
            "Acurácia dos testes: 86.12%\n",
            "Matriz de Confusão:\n",
            "Predito    0    1  All\n",
            "Real                  \n",
            "0        416   55  471\n",
            "1         71  366  437\n",
            "All      487  421  908\n",
            "Relatorio de Classificacao:\n",
            "              precision    recall  f1-score   support\n",
            "\n",
            "           0       0.85      0.88      0.87       471\n",
            "           1       0.87      0.84      0.85       437\n",
            "\n",
            "    accuracy                           0.86       908\n",
            "   macro avg       0.86      0.86      0.86       908\n",
            "weighted avg       0.86      0.86      0.86       908\n",
            "\n",
            "\n",
            "\n",
            "Dano Praga vs Todos\n",
            "Parâmetros: {'C': 1000, 'gamma': 1, 'kernel': 'rbf'}\n",
            "Acurácia dos testes: 88.96%\n",
            "Matriz de Confusão:\n",
            "Predito    0    1  All\n",
            "Real                  \n",
            "0        417   47  464\n",
            "1         51  373  424\n",
            "All      468  420  888\n",
            "Relatorio de Classificacao:\n",
            "              precision    recall  f1-score   support\n",
            "\n",
            "           0       0.89      0.90      0.89       464\n",
            "           1       0.89      0.88      0.88       424\n",
            "\n",
            "    accuracy                           0.89       888\n",
            "   macro avg       0.89      0.89      0.89       888\n",
            "weighted avg       0.89      0.89      0.89       888\n",
            "\n",
            "\n",
            "\n",
            "Podre vs Todos\n",
            "Parâmetros: {'C': 1000, 'gamma': 1, 'kernel': 'rbf'}\n",
            "Acurácia dos testes: 85.13%\n",
            "Matriz de Confusão:\n",
            "Predito    0    1  All\n",
            "Real                  \n",
            "0        397   74  471\n",
            "1         61  376  437\n",
            "All      458  450  908\n",
            "Relatorio de Classificacao:\n",
            "              precision    recall  f1-score   support\n",
            "\n",
            "           0       0.87      0.84      0.85       471\n",
            "           1       0.84      0.86      0.85       437\n",
            "\n",
            "    accuracy                           0.85       908\n",
            "   macro avg       0.85      0.85      0.85       908\n",
            "weighted avg       0.85      0.85      0.85       908\n",
            "\n"
          ]
        }
      ],
      "source": [
        "target_names = ['0','1']\n",
        "boa, casca_grossa, dano_praga, podre, verde = leitura(\"greycoprops_cinza/\")\n",
        "print(\"Boa vs Todos\")\n",
        "x_train, x_test, y_train, y_test = boa_vs_todosRCG(boa, dano_praga, podre)\n",
        "svm_gridsearchcv(x_train, x_test, y_train, y_test, target_names)\n",
        "print(\"\\n\")\n",
        "print(\"Dano Praga vs Todos\")\n",
        "x_train, x_test, y_train, y_test = dano_praga_vs_todosRCG(boa, dano_praga, podre)\n",
        "svm_gridsearchcv(x_train, x_test, y_train, y_test, target_names)\n",
        "print(\"\\n\")\n",
        "print(\"Podre vs Todos\")\n",
        "x_train, x_test, y_train, y_test = podre_vs_todosRCG(boa, dano_praga, podre)\n",
        "svm_gridsearchcv(x_train, x_test, y_train, y_test, target_names)"
      ]
    },
    {
      "cell_type": "markdown",
      "metadata": {
        "id": "P4ZB1t8jV6aT"
      },
      "source": [
        "### RGB"
      ]
    },
    {
      "cell_type": "code",
      "execution_count": null,
      "metadata": {
        "colab": {
          "base_uri": "https://localhost:8080/"
        },
        "outputId": "bbfea942-6cd9-42be-d966-e5b4c6ab3392",
        "id": "-uKKwKY4V6aT"
      },
      "outputs": [
        {
          "output_type": "stream",
          "name": "stdout",
          "text": [
            "Boa vs Todos\n",
            "Parâmetros: {'C': 100, 'gamma': 1, 'kernel': 'rbf'}\n",
            "Acurácia dos testes: 92.62%\n",
            "Matriz de Confusão:\n",
            "Predito    0    1  All\n",
            "Real                  \n",
            "0        435   36  471\n",
            "1         31  406  437\n",
            "All      466  442  908\n",
            "Relatorio de Classificacao:\n",
            "              precision    recall  f1-score   support\n",
            "\n",
            "           0       0.93      0.92      0.93       471\n",
            "           1       0.92      0.93      0.92       437\n",
            "\n",
            "    accuracy                           0.93       908\n",
            "   macro avg       0.93      0.93      0.93       908\n",
            "weighted avg       0.93      0.93      0.93       908\n",
            "\n",
            "\n",
            "\n",
            "Dano Praga vs Todos\n",
            "Parâmetros: {'C': 1000, 'gamma': 1, 'kernel': 'rbf'}\n",
            "Acurácia dos testes: 94.93%\n",
            "Matriz de Confusão:\n",
            "Predito    0    1  All\n",
            "Real                  \n",
            "0        442   22  464\n",
            "1         23  401  424\n",
            "All      465  423  888\n",
            "Relatorio de Classificacao:\n",
            "              precision    recall  f1-score   support\n",
            "\n",
            "           0       0.95      0.95      0.95       464\n",
            "           1       0.95      0.95      0.95       424\n",
            "\n",
            "    accuracy                           0.95       888\n",
            "   macro avg       0.95      0.95      0.95       888\n",
            "weighted avg       0.95      0.95      0.95       888\n",
            "\n",
            "\n",
            "\n",
            "Podre vs Todos\n",
            "Parâmetros: {'C': 100, 'gamma': 1, 'kernel': 'rbf'}\n",
            "Acurácia dos testes: 95.37%\n",
            "Matriz de Confusão:\n",
            "Predito    0    1  All\n",
            "Real                  \n",
            "0        453   18  471\n",
            "1         24  413  437\n",
            "All      477  431  908\n",
            "Relatorio de Classificacao:\n",
            "              precision    recall  f1-score   support\n",
            "\n",
            "           0       0.95      0.96      0.96       471\n",
            "           1       0.96      0.95      0.95       437\n",
            "\n",
            "    accuracy                           0.95       908\n",
            "   macro avg       0.95      0.95      0.95       908\n",
            "weighted avg       0.95      0.95      0.95       908\n",
            "\n"
          ]
        }
      ],
      "source": [
        "target_names = ['0','1']\n",
        "boa, casca_grossa, dano_praga, podre, verde = leitura(\"greycoprops_colorida/\")\n",
        "print(\"Boa vs Todos\")\n",
        "x_train, x_test, y_train, y_test = boa_vs_todosRCG(boa, dano_praga, podre)\n",
        "svm_gridsearchcv(x_train, x_test, y_train, y_test, target_names)\n",
        "print(\"\\n\")\n",
        "print(\"Dano Praga vs Todos\")\n",
        "x_train, x_test, y_train, y_test = dano_praga_vs_todosRCG(boa, dano_praga, podre)\n",
        "svm_gridsearchcv(x_train, x_test, y_train, y_test, target_names)\n",
        "print(\"\\n\")\n",
        "print(\"Podre vs Todos\")\n",
        "x_train, x_test, y_train, y_test = podre_vs_todosRCG(boa, dano_praga, podre)\n",
        "svm_gridsearchcv(x_train, x_test, y_train, y_test, target_names)"
      ]
    }
  ],
  "metadata": {
    "colab": {
      "collapsed_sections": [],
      "name": "classificacao-laranjas.ipynb",
      "toc_visible": true,
      "provenance": [],
      "mount_file_id": "1cTQ57sr_5KgaiGY90P7Mh38hpVr0-Vor",
      "authorship_tag": "ABX9TyN6l7vDHnmByj+6xsuPyW3D",
      "include_colab_link": true
    },
    "kernelspec": {
      "display_name": "Python 3",
      "name": "python3"
    },
    "language_info": {
      "name": "python"
    }
  },
  "nbformat": 4,
  "nbformat_minor": 0
}